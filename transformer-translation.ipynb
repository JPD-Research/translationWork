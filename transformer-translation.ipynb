{
 "cells": [
  {
   "cell_type": "markdown",
   "id": "15ad6f5e961949f5",
   "metadata": {
    "collapsed": false
   },
   "source": [
    "# Text translation using transformer architectures\n",
    " \n",
    "Based on Tensorflow tutorial [Neural machine translation with a Transformer and Keras](https://www.tensorflow.org/text/tutorials/transformer)\n",
    "\n",
    "Transformer model similar to that described in  [Attention is all you need](https://arxiv.org/abs/1706.03762)\n",
    "\n",
    "- primary difference with model in seq2seq notebook is replacing the RNN layers with [self-attention](https://developers.google.com/machine-learning/glossary#self-attention) layers\n",
    "- self-attention allows broader transmission of information across input sequences\n",
    "\n",
    "1. prepare data\n",
    "2. implement components\n",
    "    1. positional embeddings\n",
    "    1. attention layers\n",
    "    1. encoder / decoder\n",
    "1. build/train transformer\n",
    "2. generate translations\n",
    "3. export the model \n",
    "\n",
    "With modifications described along the way...this does not currently leverage any available GPU, but will by the time we're done...\n",
    "\n",
    "## Step 0 - Environment Setup \n",
    "\n",
    "assumes tensorflow-text and tensorflow-datasets are installed in the environment\n",
    "conda yaml for the environment compatible with all of these notebooks is included in the root of this repo "
   ]
  },
  {
   "cell_type": "code",
   "execution_count": 1,
   "id": "c5ac1f76023a6f70",
   "metadata": {
    "collapsed": false,
    "ExecuteTime": {
     "end_time": "2023-12-20T16:57:45.397976600Z",
     "start_time": "2023-12-20T16:57:38.676524Z"
    }
   },
   "outputs": [],
   "source": [
    "import logging\n",
    "import time\n",
    "\n",
    "import numpy as np\n",
    "import matplotlib.pyplot as plt\n",
    "\n",
    "import tensorflow_datasets as tfds\n",
    "import tensorflow as tf\n",
    "\n",
    "import tensorflow_text"
   ]
  },
  {
   "cell_type": "code",
   "execution_count": null,
   "outputs": [],
   "source": [],
   "metadata": {
    "collapsed": false
   },
   "id": "8493970794f8e5d2"
  }
 ],
 "metadata": {
  "kernelspec": {
   "display_name": "Python 3 (ipykernel)",
   "language": "python",
   "name": "python3"
  },
  "language_info": {
   "codemirror_mode": {
    "name": "ipython",
    "version": 3
   },
   "file_extension": ".py",
   "mimetype": "text/x-python",
   "name": "python",
   "nbconvert_exporter": "python",
   "pygments_lexer": "ipython3",
   "version": "3.10.0"
  }
 },
 "nbformat": 4,
 "nbformat_minor": 5
}
