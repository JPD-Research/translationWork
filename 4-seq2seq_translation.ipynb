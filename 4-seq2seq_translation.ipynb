{
  "cells": [
    {
      "cell_type": "markdown",
      "metadata": {
        "id": "view-in-github",
        "colab_type": "text"
      },
      "source": [
        "<a href=\"https://colab.research.google.com/github/JPD-Research/translationWork/blob/master/4-seq2seq_translation.ipynb\" target=\"_parent\"><img src=\"https://colab.research.google.com/assets/colab-badge.svg\" alt=\"Open In Colab\"/></a>"
      ]
    },
    {
      "cell_type": "markdown",
      "id": "1848aefbeef98104",
      "metadata": {
        "collapsed": false,
        "id": "1848aefbeef98104"
      },
      "source": [
        "# Text translation using seq2seq architectures\n",
        "\n",
        "Based on Tensorflow tutorial [Neural machine translation with attention](https://www.tensorflow.org/text/tutorials/nmt_with_attention)\n",
        "\n",
        "Training a sequence-to-sequence (seq2seq) model similar to from [Effective Approaches to Attention-based Neural Machine Translation](https://arxiv.org/abs/1508.04025v5)\n",
        "\n",
        "- not the most current architecture, but a good learning step for seq2seq models and attention before moving to Transformers\n",
        "- will allow direct Spanish-English translation\n",
        "- exports model as a tf.saved_model for use in other environments\n",
        "- attention plot is more interesting than the resulting output - shows what parts of the input sentence \"has the model's attention\" while translating\n",
        "\n",
        "With modifications described along the way...\n",
        "this runs on the GPU if available - trained in 11 min on CPU, 2.5 min on GPU\n",
        "\n",
        "## Step 0 - Environment Setup\n",
        "\n",
        "assumes tensorflow-text >= 2.10, matplotlib and einops are installed in the environment\n",
        "conda yaml for the environment compatible with all of these notebooks is included in the root of this repo"
      ]
    },
    {
      "cell_type": "code",
      "execution_count": 1,
      "id": "d80e9a5a8caee092",
      "metadata": {
        "ExecuteTime": {
          "end_time": "2023-12-27T18:57:17.243285200Z",
          "start_time": "2023-12-27T18:57:06.086999300Z"
        },
        "id": "d80e9a5a8caee092"
      },
      "outputs": [],
      "source": [
        "import numpy as np\n",
        "\n",
        "import typing\n",
        "from typing import Any, Tuple\n",
        "\n",
        "import einops\n",
        "import matplotlib.pyplot as plt\n",
        "import matplotlib.ticker as ticker\n",
        "\n",
        "import tensorflow as tf\n",
        "import tensorflow_text as tf_text"
      ]
    },
    {
      "cell_type": "code",
      "execution_count": 2,
      "outputs": [
        {
          "output_type": "stream",
          "name": "stdout",
          "text": [
            "1 Physical GPUs, 1 Logical GPUs\n"
          ]
        }
      ],
      "source": [
        "gpus = tf.config.list_physical_devices('GPU')\n",
        "if gpus:\n",
        "    # Restrict TensorFlow to only allocate 1GB of memory on the first GPU\n",
        "    try:\n",
        "        for gpu in gpus:\n",
        "            tf.config.experimental.set_memory_growth(gpu, True)\n",
        "            #tf.config.set_logical_device_configuration(\n",
        "        #    gpus[0],\n",
        "        #    [tf.config.LogicalDeviceConfiguration(memory_limit=512)])\n",
        "        logical_gpus = tf.config.list_logical_devices('GPU')\n",
        "    except RuntimeError as e:\n",
        "        # Virtual devices must be set before GPUs have been initialized\n",
        "        print(e)\n",
        "print(len(gpus), \"Physical GPUs,\", len(logical_gpus), \"Logical GPUs\")"
      ],
      "metadata": {
        "ExecuteTime": {
          "end_time": "2023-12-27T18:57:18.729458900Z",
          "start_time": "2023-12-27T18:57:17.247784600Z"
        },
        "id": "1c30b550e0576439",
        "outputId": "25c716c8-4d4f-4981-a25f-d64927f3d73f",
        "colab": {
          "base_uri": "https://localhost:8080/"
        }
      },
      "id": "1c30b550e0576439"
    },
    {
      "cell_type": "code",
      "execution_count": 3,
      "id": "101d797542de6578",
      "metadata": {
        "ExecuteTime": {
          "end_time": "2023-12-27T18:57:18.749959700Z",
          "start_time": "2023-12-27T18:57:18.731960600Z"
        },
        "id": "101d797542de6578"
      },
      "outputs": [],
      "source": [
        "local_data_path_root = \".\"\n",
        "local_data_path = local_data_path_root+ \"/data\"\n",
        "local_vocab_path = local_data_path_root+ \"/vocab/\"\n",
        "local_model_path = local_data_path_root+ \"/models/\"\n",
        "\n",
        "# Directory where the checkpoints will be saved\n",
        "checkpoint_dir = local_data_path_root + '/training_checkpoints'"
      ]
    },
    {
      "cell_type": "markdown",
      "id": "d77d8451ed035302",
      "metadata": {
        "collapsed": false,
        "id": "d77d8451ed035302"
      },
      "source": [
        "include helper class to check shapes correctly:"
      ]
    },
    {
      "cell_type": "code",
      "execution_count": 4,
      "id": "1b1d41e5a166622d",
      "metadata": {
        "ExecuteTime": {
          "end_time": "2023-12-27T18:57:18.774958900Z",
          "start_time": "2023-12-27T18:57:18.746960100Z"
        },
        "id": "1b1d41e5a166622d"
      },
      "outputs": [],
      "source": [
        "class ShapeChecker():\n",
        "  def __init__(self):\n",
        "    # Keep a cache of every axis-name seen\n",
        "    self.shapes = {}\n",
        "\n",
        "  def __call__(self, tensor, names, broadcast=False):\n",
        "    if not tf.executing_eagerly():\n",
        "      return\n",
        "\n",
        "    parsed = einops.parse_shape(tensor, names)\n",
        "\n",
        "    for name, new_dim in parsed.items():\n",
        "      old_dim = self.shapes.get(name, None)\n",
        "\n",
        "      if (broadcast and new_dim == 1):\n",
        "        continue\n",
        "\n",
        "      if old_dim is None:\n",
        "        # If the axis name is new, add its length to the cache.\n",
        "        self.shapes[name] = new_dim\n",
        "        continue\n",
        "\n",
        "      if new_dim != old_dim:\n",
        "        raise ValueError(f\"Shape mismatch for dimension: '{name}'\\n\"\n",
        "                         f\"    found: {new_dim}\\n\"\n",
        "                         f\"    expected: {old_dim}\\n\")"
      ]
    },
    {
      "cell_type": "markdown",
      "id": "126a783b12c128b6",
      "metadata": {
        "collapsed": false,
        "jp-MarkdownHeadingCollapsed": true,
        "id": "126a783b12c128b6"
      },
      "source": [
        "## Step 1 - Getting the data\n",
        "\n",
        "Uses [Anki](http://www.manythings.org/anki/) dataset with translation pairs such as english-spanish text - more languages are available\n",
        "\n",
        "1. Download the dataset\n",
        "2. Add a start and end token to each sentence.\n",
        "1. Clean the sentences by removing special characters.\n",
        "1. Create a word index and reverse word index (dictionaries mapping from word → id and id → word).\n",
        "1. Pad each sentence to a maximum length\n",
        "\n",
        "### Download the dataset"
      ]
    },
    {
      "cell_type": "code",
      "execution_count": 5,
      "id": "25399caa18fcb2cb",
      "metadata": {
        "ExecuteTime": {
          "end_time": "2023-12-27T18:57:19.008608600Z",
          "start_time": "2023-12-27T18:57:18.763959400Z"
        },
        "id": "25399caa18fcb2cb",
        "outputId": "026f23d1-f396-4d55-ee66-5140878d6712",
        "colab": {
          "base_uri": "https://localhost:8080/"
        }
      },
      "outputs": [
        {
          "output_type": "stream",
          "name": "stdout",
          "text": [
            "Downloading data from http://storage.googleapis.com/download.tensorflow.org/data/spa-eng.zip\n",
            "2638744/2638744 [==============================] - 0s 0us/step\n"
          ]
        }
      ],
      "source": [
        "# Download the file\n",
        "import pathlib\n",
        "\n",
        "path_to_zip = tf.keras.utils.get_file(\n",
        "    'spa-eng.zip', origin='http://storage.googleapis.com/download.tensorflow.org/data/spa-eng.zip',\n",
        "    cache_subdir=local_data_path,\n",
        "    extract=True)\n",
        "\n",
        "path_to_file = pathlib.Path(path_to_zip).parent/'spa-eng/spa.txt'"
      ]
    },
    {
      "cell_type": "code",
      "execution_count": 6,
      "id": "1417d518da552989",
      "metadata": {
        "ExecuteTime": {
          "end_time": "2023-12-27T18:57:19.024173500Z",
          "start_time": "2023-12-27T18:57:19.012618700Z"
        },
        "id": "1417d518da552989"
      },
      "outputs": [],
      "source": [
        "def load_data(path):\n",
        "  text = path.read_text(encoding='utf-8')\n",
        "\n",
        "  lines = text.splitlines()\n",
        "  pairs = [line.split('\\t') for line in lines]\n",
        "\n",
        "  context = np.array([context for target, context in pairs])\n",
        "  target = np.array([target for target, context in pairs])\n",
        "\n",
        "  return target, context"
      ]
    },
    {
      "cell_type": "code",
      "execution_count": 7,
      "id": "df0018e2a2260ecd",
      "metadata": {
        "ExecuteTime": {
          "end_time": "2023-12-27T18:57:19.645982700Z",
          "start_time": "2023-12-27T18:57:19.036748300Z"
        },
        "id": "df0018e2a2260ecd",
        "outputId": "3d72f3a7-693a-4b5c-8ba4-63a78e952aeb",
        "colab": {
          "base_uri": "https://localhost:8080/"
        }
      },
      "outputs": [
        {
          "output_type": "stream",
          "name": "stdout",
          "text": [
            "Si quieres sonar como un hablante nativo, debes estar dispuesto a practicar diciendo la misma frase una y otra vez de la misma manera en que un músico de banjo practica el mismo fraseo una y otra vez hasta que lo puedan tocar correctamente y en el tiempo esperado.\n",
            "\n",
            "If you want to sound like a native speaker, you must be willing to practice saying the same sentence over and over in the same way that banjo players practice the same phrase over and over until they can play it correctly and at the desired tempo.\n"
          ]
        }
      ],
      "source": [
        "target_raw, context_raw = load_data(path_to_file)\n",
        "print(context_raw[-1])\n",
        "print()\n",
        "print(target_raw[-1])"
      ]
    },
    {
      "cell_type": "markdown",
      "id": "85c8d0c9f0fae90d",
      "metadata": {
        "collapsed": false,
        "jp-MarkdownHeadingCollapsed": true,
        "id": "85c8d0c9f0fae90d"
      },
      "source": [
        "### Prepare the dataset\n",
        "\n",
        "start with a tf.dataset"
      ]
    },
    {
      "cell_type": "code",
      "execution_count": 8,
      "id": "3540950289fad5ff",
      "metadata": {
        "ExecuteTime": {
          "end_time": "2023-12-27T18:57:19.908208100Z",
          "start_time": "2023-12-27T18:57:19.646975900Z"
        },
        "id": "3540950289fad5ff"
      },
      "outputs": [],
      "source": [
        "BUFFER_SIZE = len(context_raw)\n",
        "BATCH_SIZE = 64\n",
        "\n",
        "is_train = np.random.uniform(size=(len(target_raw),)) < 0.8\n",
        "\n",
        "train_raw = (\n",
        "    tf.data.Dataset\n",
        "    .from_tensor_slices((context_raw[is_train], target_raw[is_train]))\n",
        "    .shuffle(BUFFER_SIZE)\n",
        "    .batch(BATCH_SIZE))\n",
        "val_raw = (\n",
        "    tf.data.Dataset\n",
        "    .from_tensor_slices((context_raw[~is_train], target_raw[~is_train]))\n",
        "    .shuffle(BUFFER_SIZE)\n",
        "    .batch(BATCH_SIZE))"
      ]
    },
    {
      "cell_type": "code",
      "execution_count": 9,
      "id": "189fe63f5802ac68",
      "metadata": {
        "ExecuteTime": {
          "end_time": "2023-12-27T18:57:20.063330800Z",
          "start_time": "2023-12-27T18:57:19.911686600Z"
        },
        "id": "189fe63f5802ac68",
        "outputId": "cc49e006-3115-4985-9593-c32d712f92b5",
        "colab": {
          "base_uri": "https://localhost:8080/"
        }
      },
      "outputs": [
        {
          "output_type": "stream",
          "name": "stdout",
          "text": [
            "tf.Tensor(\n",
            "[b'Pienso que tu teor\\xc3\\xada es incorrecta.'\n",
            " b'Necesito verle nuevamente.' b'\\xc3\\x89l maneja una gr\\xc3\\xbaa.'\n",
            " b'Tom no volvi\\xc3\\xb3 hasta despu\\xc3\\xa9s de las 2:30.'\n",
            " b'No tengo ninguna pregunta.'], shape=(5,), dtype=string)\n",
            "\n",
            "tf.Tensor(\n",
            "[b'I think your theory is incorrect.' b'I need to see him again.'\n",
            " b'He drives a tow truck.' b\"Tom didn't come back until after 2:30.\"\n",
            " b\"I don't have any questions.\"], shape=(5,), dtype=string)\n"
          ]
        }
      ],
      "source": [
        "for example_context_strings, example_target_strings in train_raw.take(1):\n",
        "  print(example_context_strings[:5])\n",
        "  print()\n",
        "  print(example_target_strings[:5])\n",
        "  break"
      ]
    },
    {
      "cell_type": "markdown",
      "id": "96aabcc98d18e1bf",
      "metadata": {
        "collapsed": false,
        "jp-MarkdownHeadingCollapsed": true,
        "id": "96aabcc98d18e1bf"
      },
      "source": [
        "### Preprocess the text\n",
        "\n",
        "- standardization\n",
        "  - unicode normalization - split accented characters and replace compat chars with ascii equivalents  \n",
        "- vectorization\n",
        "  - handles vocabulary extraction and conversion of input text into token sequences   "
      ]
    },
    {
      "cell_type": "code",
      "execution_count": 10,
      "id": "4ad3ca5df0b860bf",
      "metadata": {
        "ExecuteTime": {
          "end_time": "2023-12-27T18:57:20.098331500Z",
          "start_time": "2023-12-27T18:57:20.067367100Z"
        },
        "id": "4ad3ca5df0b860bf",
        "outputId": "e25d39f0-b3b5-45fd-c6d6-3dee06242e22",
        "colab": {
          "base_uri": "https://localhost:8080/"
        }
      },
      "outputs": [
        {
          "output_type": "stream",
          "name": "stdout",
          "text": [
            "b'\\xc2\\xbfTodav\\xc3\\xada est\\xc3\\xa1 en casa?'\n",
            "b'\\xc2\\xbfTodavi\\xcc\\x81a esta\\xcc\\x81 en casa?'\n"
          ]
        }
      ],
      "source": [
        "example_text = tf.constant('¿Todavía está en casa?')\n",
        "\n",
        "print(example_text.numpy())\n",
        "print(tf_text.normalize_utf8(example_text, 'NFKD').numpy())"
      ]
    },
    {
      "cell_type": "code",
      "execution_count": 11,
      "id": "9cc95e802d8302f6",
      "metadata": {
        "ExecuteTime": {
          "end_time": "2023-12-27T18:57:20.109840800Z",
          "start_time": "2023-12-27T18:57:20.097831100Z"
        },
        "id": "9cc95e802d8302f6"
      },
      "outputs": [],
      "source": [
        "def tf_lower_and_split_punct(text):\n",
        "  # Split accented characters.\n",
        "  text = tf_text.normalize_utf8(text, 'NFKD')\n",
        "  text = tf.strings.lower(text)\n",
        "  # Keep space, a to z, and select punctuation.\n",
        "  text = tf.strings.regex_replace(text, '[^ a-z.?!,¿]', '')\n",
        "  # Add spaces around punctuation.\n",
        "  text = tf.strings.regex_replace(text, '[.?!,¿]', r' \\0 ')\n",
        "  # Strip whitespace.\n",
        "  text = tf.strings.strip(text)\n",
        "\n",
        "  text = tf.strings.join(['[START]', text, '[END]'], separator=' ')\n",
        "  return text"
      ]
    },
    {
      "cell_type": "code",
      "execution_count": 12,
      "id": "d53472744ad3a46d",
      "metadata": {
        "ExecuteTime": {
          "end_time": "2023-12-27T18:57:20.132348Z",
          "start_time": "2023-12-27T18:57:20.113373Z"
        },
        "id": "d53472744ad3a46d",
        "outputId": "51a842ba-7838-43a3-f8e0-3016cb2e617d",
        "colab": {
          "base_uri": "https://localhost:8080/"
        }
      },
      "outputs": [
        {
          "output_type": "stream",
          "name": "stdout",
          "text": [
            "¿Todavía está en casa?\n",
            "[START] ¿ todavia esta en casa ? [END]\n"
          ]
        }
      ],
      "source": [
        "print(example_text.numpy().decode())\n",
        "print(tf_lower_and_split_punct(example_text).numpy().decode())"
      ]
    },
    {
      "cell_type": "code",
      "execution_count": 13,
      "id": "fbd97412ebccd794",
      "metadata": {
        "ExecuteTime": {
          "end_time": "2023-12-27T18:57:20.158851700Z",
          "start_time": "2023-12-27T18:57:20.133348600Z"
        },
        "id": "fbd97412ebccd794"
      },
      "outputs": [],
      "source": [
        "max_vocab_size = 5000\n",
        "\n",
        "context_text_processor = tf.keras.layers.TextVectorization(\n",
        "    standardize=tf_lower_and_split_punct,\n",
        "    max_tokens=max_vocab_size,\n",
        "    ragged=True)"
      ]
    },
    {
      "cell_type": "code",
      "execution_count": 14,
      "id": "6136b8100d248c56",
      "metadata": {
        "ExecuteTime": {
          "end_time": "2023-12-27T18:57:22.529120700Z",
          "start_time": "2023-12-27T18:57:20.164848400Z"
        },
        "id": "6136b8100d248c56",
        "outputId": "690a8b2d-482e-4868-c9a5-ea3215cdd779",
        "colab": {
          "base_uri": "https://localhost:8080/"
        }
      },
      "outputs": [
        {
          "output_type": "execute_result",
          "data": {
            "text/plain": [
              "['', '[UNK]', '[START]', '[END]', '.', 'que', 'de', 'el', 'a', 'no']"
            ]
          },
          "metadata": {},
          "execution_count": 14
        }
      ],
      "source": [
        "context_text_processor.adapt(train_raw.map(lambda context, target: context))\n",
        "\n",
        "# Here are the first 10 words from the vocabulary:\n",
        "context_text_processor.get_vocabulary()[:10]"
      ]
    },
    {
      "cell_type": "code",
      "execution_count": 15,
      "id": "3aa904d086488e79",
      "metadata": {
        "ExecuteTime": {
          "end_time": "2023-12-27T18:57:24.830001200Z",
          "start_time": "2023-12-27T18:57:22.534119800Z"
        },
        "id": "3aa904d086488e79",
        "outputId": "54c41551-58ed-4be2-98c6-19e8f9dc617b",
        "colab": {
          "base_uri": "https://localhost:8080/"
        }
      },
      "outputs": [
        {
          "output_type": "execute_result",
          "data": {
            "text/plain": [
              "['', '[UNK]', '[START]', '[END]', '.', 'the', 'i', 'to', 'you', 'tom']"
            ]
          },
          "metadata": {},
          "execution_count": 15
        }
      ],
      "source": [
        "target_text_processor = tf.keras.layers.TextVectorization(\n",
        "    standardize=tf_lower_and_split_punct,\n",
        "    max_tokens=max_vocab_size,\n",
        "    ragged=True)\n",
        "\n",
        "target_text_processor.adapt(train_raw.map(lambda context, target: target))\n",
        "target_text_processor.get_vocabulary()[:10]"
      ]
    },
    {
      "cell_type": "code",
      "execution_count": 16,
      "id": "ff6e5daa07e1339f",
      "metadata": {
        "ExecuteTime": {
          "end_time": "2023-12-27T18:57:24.904472200Z",
          "start_time": "2023-12-27T18:57:24.826439800Z"
        },
        "id": "ff6e5daa07e1339f",
        "outputId": "4e193222-125a-43ed-d9e2-c255e05b63ca",
        "colab": {
          "base_uri": "https://localhost:8080/"
        }
      },
      "outputs": [
        {
          "output_type": "execute_result",
          "data": {
            "text/plain": [
              "<tf.RaggedTensor [[2, 379, 5, 36, 1562, 15, 3250, 4, 3], [2, 155, 1948, 2158, 4, 3],\n",
              " [2, 7, 3236, 23, 1, 4, 3]]>"
            ]
          },
          "metadata": {},
          "execution_count": 16
        }
      ],
      "source": [
        "example_tokens = context_text_processor(example_context_strings)\n",
        "example_tokens[:3, :]"
      ]
    },
    {
      "cell_type": "code",
      "execution_count": 17,
      "id": "a44bde4e08203c6",
      "metadata": {
        "ExecuteTime": {
          "end_time": "2023-12-27T18:57:24.974560400Z",
          "start_time": "2023-12-27T18:57:24.904472200Z"
        },
        "id": "a44bde4e08203c6",
        "outputId": "e9b82346-07c8-4cdc-8381-92a65b40c425",
        "colab": {
          "base_uri": "https://localhost:8080/"
        }
      },
      "outputs": [
        {
          "output_type": "stream",
          "name": "stdout",
          "text": [
            "[   2  379    5   36 1562   15 3250    4    3]\n",
            "tf.Tensor(\n",
            "[   2  379    5   36 1562   15 3250    4    3    0    0    0    0    0\n",
            "    0    0    0    0    0    0    0    0    0], shape=(23,), dtype=int64)\n",
            "['[START]' 'pienso' 'que' 'tu' 'teoria' 'es' 'incorrecta' '.' '[END]']\n"
          ]
        }
      ],
      "source": [
        "print(example_tokens[0].numpy())\n",
        "context_vocab = np.array(context_text_processor.get_vocabulary())\n",
        "tokens = context_vocab[example_tokens[0].numpy()]\n",
        "' '.join(tokens)\n",
        "print(example_tokens.to_tensor()[0])\n",
        "print(tokens)"
      ]
    },
    {
      "cell_type": "markdown",
      "id": "7f394290bdaf4bf9",
      "metadata": {
        "collapsed": false,
        "id": "7f394290bdaf4bf9"
      },
      "source": [
        "you can see from the above that the returned tensors are zero padded - these can be used to form a mask"
      ]
    },
    {
      "cell_type": "code",
      "execution_count": 18,
      "id": "fa0ccc36bf5607f4",
      "metadata": {
        "ExecuteTime": {
          "end_time": "2023-12-27T18:57:25.326205300Z",
          "start_time": "2023-12-27T18:57:24.937568700Z"
        },
        "id": "fa0ccc36bf5607f4",
        "outputId": "51f23016-b580-4a54-f47c-233e422af00e",
        "colab": {
          "base_uri": "https://localhost:8080/",
          "height": 469
        }
      },
      "outputs": [
        {
          "output_type": "execute_result",
          "data": {
            "text/plain": [
              "Text(0.5, 1.0, 'Mask')"
            ]
          },
          "metadata": {},
          "execution_count": 18
        },
        {
          "output_type": "display_data",
          "data": {
            "text/plain": [
              "<Figure size 640x480 with 2 Axes>"
            ],
            "image/png": "[encoded data removed]"
          },
          "metadata": {}
        }
      ],
      "source": [
        "plt.subplot(1, 2, 1)\n",
        "plt.pcolormesh(example_tokens.to_tensor())\n",
        "plt.title('Token IDs')\n",
        "\n",
        "plt.subplot(1, 2, 2)\n",
        "plt.pcolormesh(example_tokens.to_tensor() != 0)\n",
        "plt.title('Mask')"
      ]
    },
    {
      "cell_type": "markdown",
      "id": "a6dc68a6ead29e8b",
      "metadata": {
        "collapsed": false,
        "jp-MarkdownHeadingCollapsed": true,
        "id": "a6dc68a6ead29e8b"
      },
      "source": [
        "### process the dataset\n",
        "\n",
        "in the following function, (context, target) becomes ((context,target_in), target_out) for training\n",
        "keras expects (inputs, label) where here, (context, target_in) is the input, and target_out is the label\n",
        "the difference between _in and _out is that _out is shifted one character right, so at each location, the label is the next token (expected value)"
      ]
    },
    {
      "cell_type": "code",
      "execution_count": 19,
      "id": "9c48bdce959ed46d",
      "metadata": {
        "ExecuteTime": {
          "end_time": "2023-12-27T18:57:25.584493300Z",
          "start_time": "2023-12-27T18:57:25.330714600Z"
        },
        "id": "9c48bdce959ed46d"
      },
      "outputs": [],
      "source": [
        "def process_text(context, target):\n",
        "  context = context_text_processor(context).to_tensor()\n",
        "  target = target_text_processor(target)\n",
        "  targ_in = target[:,:-1].to_tensor()\n",
        "  targ_out = target[:,1:].to_tensor()\n",
        "  return (context, targ_in), targ_out\n",
        "\n",
        "train_ds = train_raw.map(process_text, tf.data.AUTOTUNE)\n",
        "val_ds = val_raw.map(process_text, tf.data.AUTOTUNE)"
      ]
    },
    {
      "cell_type": "code",
      "execution_count": 20,
      "id": "586132968a73ef1d",
      "metadata": {
        "ExecuteTime": {
          "end_time": "2023-12-27T18:57:25.788625Z",
          "start_time": "2023-12-27T18:57:25.588503200Z"
        },
        "id": "586132968a73ef1d",
        "outputId": "9176703c-479e-4bba-cf47-a8defdee9a99",
        "colab": {
          "base_uri": "https://localhost:8080/"
        }
      },
      "outputs": [
        {
          "output_type": "stream",
          "name": "stdout",
          "text": [
            "[   2    9 3794    8  112    4    3    0    0    0]\n",
            "\n",
            "[   2    6   27 1694  352    4    0    0    0    0]\n",
            "[   6   27 1694  352    4    3    0    0    0    0]\n"
          ]
        }
      ],
      "source": [
        "for (ex_context_tok, ex_tar_in), ex_tar_out in train_ds.take(1):\n",
        "  print(ex_context_tok[0, :10].numpy())\n",
        "  print()\n",
        "  print(ex_tar_in[0, :10].numpy())\n",
        "  print(ex_tar_out[0, :10].numpy())"
      ]
    },
    {
      "cell_type": "markdown",
      "id": "c98b59f19cc74593",
      "metadata": {
        "collapsed": false,
        "id": "c98b59f19cc74593"
      },
      "source": [
        "## Step 2 - The encoder / decoder architecture and model\n",
        "\n",
        "two simplifications from the original attention-based translation model - typically unnecessary:\n",
        "- feeding state from encoder's RNN to the decoder's RNN\n",
        "- Feeding attention output back to the RNN input\n"
      ]
    },
    {
      "cell_type": "code",
      "execution_count": 21,
      "id": "47592e41f927a42a",
      "metadata": {
        "ExecuteTime": {
          "end_time": "2023-12-27T18:57:25.810127600Z",
          "start_time": "2023-12-27T18:57:25.789128900Z"
        },
        "id": "47592e41f927a42a"
      },
      "outputs": [],
      "source": [
        "UNITS = 256"
      ]
    },
    {
      "cell_type": "markdown",
      "id": "d97dfe438659a1aa",
      "metadata": {
        "collapsed": false,
        "id": "d97dfe438659a1aa"
      },
      "source": [
        "### The encoder design\n",
        "\n",
        "since context sequence is constant, information can flow between any units in the encoder, so use a bidirectional RNN\n",
        "\n",
        "1. gets a list of token IDs\n",
        "2. looks up an embedding vector for each token\n",
        "3. processes the embeddings into a new sequence (using a bidirectional RNN\n",
        "4. returns the processed sequence -> attention head"
      ]
    },
    {
      "cell_type": "code",
      "execution_count": 22,
      "id": "98dd03eace5a465",
      "metadata": {
        "ExecuteTime": {
          "end_time": "2023-12-27T18:57:25.867165900Z",
          "start_time": "2023-12-27T18:57:25.805627400Z"
        },
        "id": "98dd03eace5a465"
      },
      "outputs": [],
      "source": [
        "class Encoder(tf.keras.layers.Layer):\n",
        "  def __init__(self, text_processor, units):\n",
        "    super(Encoder, self).__init__()\n",
        "    self.text_processor = text_processor\n",
        "    self.vocab_size = text_processor.vocabulary_size()\n",
        "    self.units = units\n",
        "\n",
        "    # The embedding layer converts tokens to vectors\n",
        "    self.embedding = tf.keras.layers.Embedding(self.vocab_size, units,\n",
        "                                               mask_zero=True)\n",
        "\n",
        "    # The RNN layer processes those vectors sequentially.\n",
        "    self.rnn = tf.keras.layers.Bidirectional(\n",
        "        merge_mode='sum',\n",
        "        layer=tf.keras.layers.GRU(units,\n",
        "                            # Return the sequence and state\n",
        "                            return_sequences=True,\n",
        "                            recurrent_initializer='glorot_uniform'))\n",
        "\n",
        "  def call(self, x):\n",
        "    shape_checker = ShapeChecker()\n",
        "    shape_checker(x, 'batch s')\n",
        "\n",
        "    # 2. The embedding layer looks up the embedding vector for each token.\n",
        "    x = self.embedding(x)\n",
        "    shape_checker(x, 'batch s units')\n",
        "\n",
        "    # 3. The GRU processes the sequence of embeddings.\n",
        "    x = self.rnn(x)\n",
        "    shape_checker(x, 'batch s units')\n",
        "\n",
        "    # 4. Returns the new sequence of embeddings.\n",
        "    return x\n",
        "\n",
        "  def convert_input(self, texts):\n",
        "    texts = tf.convert_to_tensor(texts)\n",
        "    if len(texts.shape) == 0:\n",
        "      texts = tf.convert_to_tensor(texts)[tf.newaxis]\n",
        "    context = self.text_processor(texts).to_tensor()\n",
        "    context = self(context)\n",
        "    return context"
      ]
    },
    {
      "cell_type": "code",
      "execution_count": 23,
      "id": "a1eae5c7a7177d77",
      "metadata": {
        "ExecuteTime": {
          "end_time": "2023-12-27T18:57:39.672657400Z",
          "start_time": "2023-12-27T18:57:25.822152600Z"
        },
        "id": "a1eae5c7a7177d77",
        "outputId": "c73ee23b-cd31-4edd-e604-ae692cf18837",
        "colab": {
          "base_uri": "https://localhost:8080/"
        }
      },
      "outputs": [
        {
          "output_type": "stream",
          "name": "stdout",
          "text": [
            "Context tokens, shape (batch, s): (64, 13)\n",
            "Encoder output, shape (batch, s, units): (64, 13, 256)\n"
          ]
        }
      ],
      "source": [
        "# Encode the input sequence.\n",
        "encoder = Encoder(context_text_processor, UNITS)\n",
        "ex_context = encoder(ex_context_tok)\n",
        "\n",
        "print(f'Context tokens, shape (batch, s): {ex_context_tok.shape}')\n",
        "print(f'Encoder output, shape (batch, s, units): {ex_context.shape}')"
      ]
    },
    {
      "cell_type": "markdown",
      "id": "67687f2a52b69181",
      "metadata": {
        "collapsed": false,
        "jp-MarkdownHeadingCollapsed": true,
        "id": "67687f2a52b69181"
      },
      "source": [
        "### the attention layer\n",
        "\n",
        "weighted average across comtext sequence - weights are a combination of context and \"query\" vectors"
      ]
    },
    {
      "cell_type": "code",
      "execution_count": 24,
      "id": "732d9305f09524a2",
      "metadata": {
        "ExecuteTime": {
          "end_time": "2023-12-27T18:57:39.689119700Z",
          "start_time": "2023-12-27T18:57:39.669128100Z"
        },
        "id": "732d9305f09524a2"
      },
      "outputs": [],
      "source": [
        "class CrossAttention(tf.keras.layers.Layer):\n",
        "  def __init__(self, units, **kwargs):\n",
        "    super().__init__()\n",
        "    self.mha = tf.keras.layers.MultiHeadAttention(key_dim=units, num_heads=1, **kwargs)\n",
        "    self.layernorm = tf.keras.layers.LayerNormalization()\n",
        "    self.add = tf.keras.layers.Add()\n",
        "\n",
        "  def call(self, x, context):\n",
        "    shape_checker = ShapeChecker()\n",
        "\n",
        "    shape_checker(x, 'batch t units')\n",
        "    shape_checker(context, 'batch s units')\n",
        "\n",
        "    attn_output, attn_scores = self.mha(\n",
        "        query=x,\n",
        "        value=context,\n",
        "        return_attention_scores=True)\n",
        "\n",
        "    shape_checker(x, 'batch t units')\n",
        "    shape_checker(attn_scores, 'batch heads t s')\n",
        "\n",
        "    # Cache the attention scores for plotting later.\n",
        "    attn_scores = tf.reduce_mean(attn_scores, axis=1)\n",
        "    shape_checker(attn_scores, 'batch t s')\n",
        "    self.last_attention_weights = attn_scores\n",
        "\n",
        "    x = self.add([x, attn_output])\n",
        "    x = self.layernorm(x)\n",
        "\n",
        "    return x"
      ]
    },
    {
      "cell_type": "code",
      "execution_count": 25,
      "id": "66aee0d9381649c3",
      "metadata": {
        "ExecuteTime": {
          "end_time": "2023-12-27T18:57:42.103979800Z",
          "start_time": "2023-12-27T18:57:39.683620700Z"
        },
        "id": "66aee0d9381649c3",
        "outputId": "115a7a81-8188-4b1d-c18d-9caed27ba222",
        "colab": {
          "base_uri": "https://localhost:8080/"
        }
      },
      "outputs": [
        {
          "output_type": "stream",
          "name": "stdout",
          "text": [
            "Context sequence, shape (batch, s, units): (64, 13, 256)\n",
            "Target sequence, shape (batch, t, units): (64, 11, 256)\n",
            "Attention result, shape (batch, t, units): (64, 11, 256)\n",
            "Attention weights, shape (batch, t, s):    (64, 11, 13)\n"
          ]
        }
      ],
      "source": [
        "attention_layer = CrossAttention(UNITS)\n",
        "\n",
        "# Attend to the encoded tokens\n",
        "embed = tf.keras.layers.Embedding(target_text_processor.vocabulary_size(),\n",
        "                                  output_dim=UNITS, mask_zero=True)\n",
        "ex_tar_embed = embed(ex_tar_in)\n",
        "\n",
        "result = attention_layer(ex_tar_embed, ex_context)\n",
        "\n",
        "print(f'Context sequence, shape (batch, s, units): {ex_context.shape}')\n",
        "print(f'Target sequence, shape (batch, t, units): {ex_tar_embed.shape}')\n",
        "print(f'Attention result, shape (batch, t, units): {result.shape}')\n",
        "print(f'Attention weights, shape (batch, t, s):    {attention_layer.last_attention_weights.shape}')"
      ]
    },
    {
      "cell_type": "code",
      "execution_count": 26,
      "id": "1c9d0d22b028a49b",
      "metadata": {
        "ExecuteTime": {
          "end_time": "2023-12-27T18:57:42.152086800Z",
          "start_time": "2023-12-27T18:57:42.100016Z"
        },
        "id": "1c9d0d22b028a49b",
        "outputId": "deb68bc1-b28c-426d-ac89-55c4dda4de81",
        "colab": {
          "base_uri": "https://localhost:8080/"
        }
      },
      "outputs": [
        {
          "output_type": "execute_result",
          "data": {
            "text/plain": [
              "array([1.        , 0.99999994, 1.        , 1.        , 1.        ,\n",
              "       1.        , 1.        , 1.        , 1.        , 1.        ,\n",
              "       1.        ], dtype=float32)"
            ]
          },
          "metadata": {},
          "execution_count": 26
        }
      ],
      "source": [
        "attention_layer.last_attention_weights[0].numpy().sum(axis=-1)"
      ]
    },
    {
      "cell_type": "code",
      "execution_count": 27,
      "id": "5fcc6245fe8df372",
      "metadata": {
        "ExecuteTime": {
          "end_time": "2023-12-27T18:57:42.411183500Z",
          "start_time": "2023-12-27T18:57:42.117990600Z"
        },
        "id": "5fcc6245fe8df372",
        "outputId": "1d3d7eed-2844-4b79-b619-7aaa8c0292ff",
        "colab": {
          "base_uri": "https://localhost:8080/",
          "height": 452
        }
      },
      "outputs": [
        {
          "output_type": "display_data",
          "data": {
            "text/plain": [
              "<Figure size 640x480 with 2 Axes>"
            ],
            "image/png": "[encoded data removed]"
          },
          "metadata": {}
        }
      ],
      "source": [
        "attention_weights = attention_layer.last_attention_weights\n",
        "mask=(ex_context_tok != 0).numpy()\n",
        "\n",
        "plt.subplot(1, 2, 1)\n",
        "plt.pcolormesh(mask*attention_weights[:, 0, :])\n",
        "plt.title('Attention weights')\n",
        "\n",
        "plt.subplot(1, 2, 2)\n",
        "plt.pcolormesh(mask)\n",
        "plt.title('Mask');"
      ]
    },
    {
      "cell_type": "markdown",
      "id": "cdb8fe6826f724da",
      "metadata": {
        "collapsed": false,
        "id": "cdb8fe6826f724da"
      },
      "source": [
        "### the decoder\n",
        "\n",
        "1. looks up embeddings for each token in the target sequence\n",
        "2. uses an RNN to process target sequence, and to track generated state\n",
        "3. uses RNN output as the \"query\" to the attention layer, attending to encoder's output\n",
        "4. At each location it predicts the next token - unidirectional RNN to process target sequence"
      ]
    },
    {
      "cell_type": "code",
      "execution_count": 28,
      "id": "3130b8f22780e33a",
      "metadata": {
        "ExecuteTime": {
          "end_time": "2023-12-27T18:57:42.499705100Z",
          "start_time": "2023-12-27T18:57:42.415193800Z"
        },
        "id": "3130b8f22780e33a"
      },
      "outputs": [],
      "source": [
        "class Decoder(tf.keras.layers.Layer):\n",
        "  @classmethod\n",
        "  def add_method(cls, fun):\n",
        "    setattr(cls, fun.__name__, fun)\n",
        "    return fun\n",
        "\n",
        "  def __init__(self, text_processor, units):\n",
        "    super(Decoder, self).__init__()\n",
        "    self.text_processor = text_processor\n",
        "    self.vocab_size = text_processor.vocabulary_size()\n",
        "    self.word_to_id = tf.keras.layers.StringLookup(\n",
        "        vocabulary=text_processor.get_vocabulary(),\n",
        "        mask_token='', oov_token='[UNK]')\n",
        "    self.id_to_word = tf.keras.layers.StringLookup(\n",
        "        vocabulary=text_processor.get_vocabulary(),\n",
        "        mask_token='', oov_token='[UNK]',\n",
        "        invert=True)\n",
        "    self.start_token = self.word_to_id('[START]')\n",
        "    self.end_token = self.word_to_id('[END]')\n",
        "\n",
        "    self.units = units\n",
        "\n",
        "\n",
        "    # 1. The embedding layer converts token IDs to vectors\n",
        "    self.embedding = tf.keras.layers.Embedding(self.vocab_size,\n",
        "                                               units, mask_zero=True)\n",
        "\n",
        "    # 2. The RNN keeps track of what's been generated so far.\n",
        "    self.rnn = tf.keras.layers.GRU(units,\n",
        "                                   return_sequences=True,\n",
        "                                   return_state=True,\n",
        "                                   recurrent_initializer='glorot_uniform')\n",
        "\n",
        "    # 3. The RNN output will be the query for the attention layer.\n",
        "    self.attention = CrossAttention(units)\n",
        "\n",
        "    # 4. This fully connected layer produces the logits for each\n",
        "    # output token.\n",
        "    self.output_layer = tf.keras.layers.Dense(self.vocab_size)"
      ]
    },
    {
      "cell_type": "code",
      "execution_count": 29,
      "id": "feb328e9ad3b3b1d",
      "metadata": {
        "ExecuteTime": {
          "end_time": "2023-12-27T18:57:42.504737200Z",
          "start_time": "2023-12-27T18:57:42.430204700Z"
        },
        "id": "feb328e9ad3b3b1d"
      },
      "outputs": [],
      "source": [
        "@Decoder.add_method\n",
        "def call(self,\n",
        "         context, x,\n",
        "         state=None,\n",
        "         return_state=False):\n",
        "  shape_checker = ShapeChecker()\n",
        "  shape_checker(x, 'batch t')\n",
        "  shape_checker(context, 'batch s units')\n",
        "\n",
        "  # 1. Lookup the embeddings\n",
        "  x = self.embedding(x)\n",
        "  shape_checker(x, 'batch t units')\n",
        "\n",
        "  # 2. Process the target sequence.\n",
        "  x, state = self.rnn(x, initial_state=state)\n",
        "  shape_checker(x, 'batch t units')\n",
        "\n",
        "  # 3. Use the RNN output as the query for the attention over the context.\n",
        "  x = self.attention(x, context)\n",
        "  self.last_attention_weights = self.attention.last_attention_weights\n",
        "  shape_checker(x, 'batch t units')\n",
        "  shape_checker(self.last_attention_weights, 'batch t s')\n",
        "\n",
        "  # Step 4. Generate logit predictions for the next token.\n",
        "  logits = self.output_layer(x)\n",
        "  shape_checker(logits, 'batch t target_vocab_size')\n",
        "\n",
        "  if return_state:\n",
        "    return logits, state\n",
        "  else:\n",
        "    return logits"
      ]
    },
    {
      "cell_type": "code",
      "execution_count": 30,
      "id": "a03146cea4850bea",
      "metadata": {
        "ExecuteTime": {
          "end_time": "2023-12-27T18:57:42.579792600Z",
          "start_time": "2023-12-27T18:57:42.442695900Z"
        },
        "id": "a03146cea4850bea"
      },
      "outputs": [],
      "source": [
        "decoder = Decoder(target_text_processor, UNITS)"
      ]
    },
    {
      "cell_type": "code",
      "execution_count": 31,
      "id": "de52f762c5b8853d",
      "metadata": {
        "ExecuteTime": {
          "end_time": "2023-12-27T18:57:42.800993900Z",
          "start_time": "2023-12-27T18:57:42.581797300Z"
        },
        "id": "de52f762c5b8853d",
        "outputId": "818296cf-f2e7-4add-af94-2b5de38b974b",
        "colab": {
          "base_uri": "https://localhost:8080/"
        }
      },
      "outputs": [
        {
          "output_type": "stream",
          "name": "stdout",
          "text": [
            "encoder output shape: (batch, s, units) (64, 13, 256)\n",
            "input target tokens shape: (batch, t) (64, 11)\n",
            "logits shape shape: (batch, target_vocabulary_size) (64, 11, 5000)\n"
          ]
        }
      ],
      "source": [
        "logits = decoder(ex_context, ex_tar_in)\n",
        "\n",
        "print(f'encoder output shape: (batch, s, units) {ex_context.shape}')\n",
        "print(f'input target tokens shape: (batch, t) {ex_tar_in.shape}')\n",
        "print(f'logits shape shape: (batch, target_vocabulary_size) {logits.shape}')"
      ]
    },
    {
      "cell_type": "code",
      "execution_count": 32,
      "id": "c8d1bc78091ddc56",
      "metadata": {
        "ExecuteTime": {
          "end_time": "2023-12-27T18:57:42.804994Z",
          "start_time": "2023-12-27T18:57:42.791493800Z"
        },
        "id": "c8d1bc78091ddc56"
      },
      "outputs": [],
      "source": [
        "@Decoder.add_method\n",
        "def get_initial_state(self, context):\n",
        "  batch_size = tf.shape(context)[0]\n",
        "  start_tokens = tf.fill([batch_size, 1], self.start_token)\n",
        "  done = tf.zeros([batch_size, 1], dtype=tf.bool)\n",
        "  embedded = self.embedding(start_tokens)\n",
        "  return start_tokens, done, self.rnn.get_initial_state(embedded)[0]"
      ]
    },
    {
      "cell_type": "code",
      "execution_count": 33,
      "id": "4ebf4c242e5cf209",
      "metadata": {
        "ExecuteTime": {
          "end_time": "2023-12-27T18:57:42.886503300Z",
          "start_time": "2023-12-27T18:57:42.803994500Z"
        },
        "id": "4ebf4c242e5cf209"
      },
      "outputs": [],
      "source": [
        "@Decoder.add_method\n",
        "def tokens_to_text(self, tokens):\n",
        "  words = self.id_to_word(tokens)\n",
        "  result = tf.strings.reduce_join(words, axis=-1, separator=' ')\n",
        "  result = tf.strings.regex_replace(result, '^ *\\[START\\] *', '')\n",
        "  result = tf.strings.regex_replace(result, ' *\\[END\\] *$', '')\n",
        "  return result"
      ]
    },
    {
      "cell_type": "code",
      "execution_count": 34,
      "id": "d1e3b3530a2a036b",
      "metadata": {
        "ExecuteTime": {
          "end_time": "2023-12-27T18:57:42.890503900Z",
          "start_time": "2023-12-27T18:57:42.816494900Z"
        },
        "id": "d1e3b3530a2a036b"
      },
      "outputs": [],
      "source": [
        "@Decoder.add_method\n",
        "def get_next_token(self, context, next_token, done, state, temperature = 0.0):\n",
        "  logits, state = self(\n",
        "    context, next_token,\n",
        "    state = state,\n",
        "    return_state=True)\n",
        "\n",
        "  if temperature == 0.0:\n",
        "    next_token = tf.argmax(logits, axis=-1)\n",
        "  else:\n",
        "    logits = logits[:, -1, :]/temperature\n",
        "    next_token = tf.random.categorical(logits, num_samples=1)\n",
        "\n",
        "  # If a sequence produces an `end_token`, set it `done`\n",
        "  done = done | (next_token == self.end_token)\n",
        "  # Once a sequence is done it only produces 0-padding.\n",
        "  next_token = tf.where(done, tf.constant(0, dtype=tf.int64), next_token)\n",
        "\n",
        "  return next_token, done, state"
      ]
    },
    {
      "cell_type": "code",
      "execution_count": 35,
      "id": "ec80df5eb89305b9",
      "metadata": {
        "ExecuteTime": {
          "end_time": "2023-12-27T18:57:43.515691800Z",
          "start_time": "2023-12-27T18:57:42.837998Z"
        },
        "id": "ec80df5eb89305b9",
        "outputId": "15c8de33-a27a-4532-9cac-5fb5e92a2970",
        "colab": {
          "base_uri": "https://localhost:8080/"
        }
      },
      "outputs": [
        {
          "output_type": "execute_result",
          "data": {
            "text/plain": [
              "array([b'packed seven encourage sword advanced finishing tropical explosion did customs',\n",
              "       b'exchanged direct mobile unlucky sober pants manage village washington art',\n",
              "       b'removed first arguments bakery shine rational lemon proverb hanging secretary'],\n",
              "      dtype=object)"
            ]
          },
          "metadata": {},
          "execution_count": 35
        }
      ],
      "source": [
        "# Setup the loop variables.\n",
        "next_token, done, state = decoder.get_initial_state(ex_context)\n",
        "tokens = []\n",
        "\n",
        "for n in range(10):\n",
        "  # Run one step.\n",
        "  next_token, done, state = decoder.get_next_token(\n",
        "      ex_context, next_token, done, state, temperature=1.0)\n",
        "  # Add the token to the output.\n",
        "  tokens.append(next_token)\n",
        "\n",
        "# Stack all the tokens together.\n",
        "tokens = tf.concat(tokens, axis=-1) # (batch, t)\n",
        "\n",
        "# Convert the tokens back to a a string\n",
        "result = decoder.tokens_to_text(tokens)\n",
        "result[:3].numpy()"
      ]
    },
    {
      "cell_type": "markdown",
      "id": "8967f304757ac93d",
      "metadata": {
        "collapsed": false,
        "id": "8967f304757ac93d"
      },
      "source": [
        "## The complete model\n"
      ]
    },
    {
      "cell_type": "code",
      "execution_count": 36,
      "id": "3e588b205cb26400",
      "metadata": {
        "ExecuteTime": {
          "end_time": "2023-12-27T18:57:43.556709Z",
          "start_time": "2023-12-27T18:57:43.521194200Z"
        },
        "id": "3e588b205cb26400"
      },
      "outputs": [],
      "source": [
        "class Translator(tf.keras.Model):\n",
        "  @classmethod\n",
        "  def add_method(cls, fun):\n",
        "    setattr(cls, fun.__name__, fun)\n",
        "    return fun\n",
        "\n",
        "  def __init__(self, units,\n",
        "               context_text_processor,\n",
        "               target_text_processor):\n",
        "    super().__init__()\n",
        "    # Build the encoder and decoder\n",
        "    encoder = Encoder(context_text_processor, units)\n",
        "    decoder = Decoder(target_text_processor, units)\n",
        "\n",
        "    self.encoder = encoder\n",
        "    self.decoder = decoder\n",
        "\n",
        "  def call(self, inputs):\n",
        "    context, x = inputs\n",
        "    context = self.encoder(context)\n",
        "    logits = self.decoder(context, x)\n",
        "\n",
        "    #TODO(b/250038731): remove this\n",
        "    try:\n",
        "      # Delete the keras mask, so keras doesn't scale the loss+accuracy.\n",
        "      del logits._keras_mask\n",
        "    except AttributeError:\n",
        "      pass\n",
        "\n",
        "    return logits"
      ]
    },
    {
      "cell_type": "code",
      "execution_count": 36,
      "id": "4a7d43c5b82d6813",
      "metadata": {
        "ExecuteTime": {
          "end_time": "2023-12-27T18:57:43.596210800Z",
          "start_time": "2023-12-27T18:57:43.529700300Z"
        },
        "id": "4a7d43c5b82d6813"
      },
      "outputs": [],
      "source": []
    },
    {
      "cell_type": "code",
      "execution_count": 37,
      "id": "eab06dfb65c1fd00",
      "metadata": {
        "ExecuteTime": {
          "end_time": "2023-12-27T18:57:43.798329600Z",
          "start_time": "2023-12-27T18:57:43.545713100Z"
        },
        "id": "eab06dfb65c1fd00",
        "outputId": "3d0dbad4-f713-43a8-e17c-a2f7cd1dba2f",
        "colab": {
          "base_uri": "https://localhost:8080/"
        }
      },
      "outputs": [
        {
          "output_type": "stream",
          "name": "stdout",
          "text": [
            "Context tokens, shape: (batch, s, units) (64, 13)\n",
            "Target tokens, shape: (batch, t) (64, 11)\n",
            "logits, shape: (batch, t, target_vocabulary_size) (64, 11, 5000)\n"
          ]
        }
      ],
      "source": [
        "model = Translator(UNITS, context_text_processor, target_text_processor)\n",
        "\n",
        "logits = model((ex_context_tok, ex_tar_in))\n",
        "\n",
        "print(f'Context tokens, shape: (batch, s, units) {ex_context_tok.shape}')\n",
        "print(f'Target tokens, shape: (batch, t) {ex_tar_in.shape}')\n",
        "print(f'logits, shape: (batch, t, target_vocabulary_size) {logits.shape}')"
      ]
    },
    {
      "cell_type": "code",
      "execution_count": 38,
      "id": "b59295643498dbd3",
      "metadata": {
        "ExecuteTime": {
          "end_time": "2023-12-27T18:57:45.344339700Z",
          "start_time": "2023-12-27T18:57:43.795327200Z"
        },
        "id": "b59295643498dbd3"
      },
      "outputs": [],
      "source": [
        "def masked_loss(y_true, y_pred):\n",
        "    # Calculate the loss for each item in the batch.\n",
        "    loss_fn = tf.keras.losses.SparseCategoricalCrossentropy(\n",
        "        from_logits=True, reduction='none')\n",
        "    loss = loss_fn(y_true, y_pred)\n",
        "\n",
        "    # Mask off the losses on padding.\n",
        "    mask = tf.cast(y_true != 0, loss.dtype)\n",
        "    loss *= mask\n",
        "\n",
        "    # Return the total.\n",
        "    return tf.reduce_sum(loss)/tf.reduce_sum(mask)"
      ]
    },
    {
      "cell_type": "code",
      "execution_count": 39,
      "id": "b756c345011f23b",
      "metadata": {
        "ExecuteTime": {
          "end_time": "2023-12-27T18:57:45.347352100Z",
          "start_time": "2023-12-27T18:57:43.811826900Z"
        },
        "id": "b756c345011f23b"
      },
      "outputs": [],
      "source": [
        "def masked_acc(y_true, y_pred):\n",
        "    # Calculate the loss for each item in the batch.\n",
        "    y_pred = tf.argmax(y_pred, axis=-1)\n",
        "    y_pred = tf.cast(y_pred, y_true.dtype)\n",
        "\n",
        "    match = tf.cast(y_true == y_pred, tf.float32)\n",
        "    mask = tf.cast(y_true != 0, tf.float32)\n",
        "\n",
        "    return tf.reduce_sum(match)/tf.reduce_sum(mask)"
      ]
    },
    {
      "cell_type": "code",
      "execution_count": 40,
      "id": "c5f77e99afe65e68",
      "metadata": {
        "ExecuteTime": {
          "end_time": "2023-12-27T18:57:45.373350800Z",
          "start_time": "2023-12-27T18:57:43.835829500Z"
        },
        "id": "c5f77e99afe65e68"
      },
      "outputs": [],
      "source": [
        "model.compile(optimizer='adam',\n",
        "              loss=masked_loss,\n",
        "              metrics=[masked_acc, masked_loss])"
      ]
    },
    {
      "cell_type": "code",
      "execution_count": 41,
      "id": "f12640adf599e516",
      "metadata": {
        "ExecuteTime": {
          "end_time": "2023-12-27T18:57:46.136450Z",
          "start_time": "2023-12-27T18:57:43.888339700Z"
        },
        "id": "f12640adf599e516",
        "outputId": "6de18659-e18b-4385-d919-a2ee792936a5",
        "colab": {
          "base_uri": "https://localhost:8080/"
        }
      },
      "outputs": [
        {
          "output_type": "execute_result",
          "data": {
            "text/plain": [
              "{'expected_loss': 8.517193, 'expected_acc': 0.0002}"
            ]
          },
          "metadata": {},
          "execution_count": 41
        }
      ],
      "source": [
        "vocab_size = 1.0 * target_text_processor.vocabulary_size()\n",
        "\n",
        "{\"expected_loss\": tf.math.log(vocab_size).numpy(),\n",
        " \"expected_acc\": 1/vocab_size}"
      ]
    },
    {
      "cell_type": "code",
      "execution_count": 42,
      "id": "2c68fb94c4fa2598",
      "metadata": {
        "ExecuteTime": {
          "end_time": "2023-12-27T18:57:53.599408300Z",
          "start_time": "2023-12-27T18:57:46.071444800Z"
        },
        "id": "2c68fb94c4fa2598",
        "outputId": "73aae004-37f0-4f68-ff0b-911de7e59807",
        "colab": {
          "base_uri": "https://localhost:8080/"
        }
      },
      "outputs": [
        {
          "output_type": "stream",
          "name": "stdout",
          "text": [
            "20/20 [==============================] - 12s 38ms/step - loss: 8.5133 - masked_acc: 2.7551e-04 - masked_loss: 8.5133\n"
          ]
        },
        {
          "output_type": "execute_result",
          "data": {
            "text/plain": [
              "{'loss': 8.513294219970703,\n",
              " 'masked_acc': 0.00027550835511647165,\n",
              " 'masked_loss': 8.513294219970703}"
            ]
          },
          "metadata": {},
          "execution_count": 42
        }
      ],
      "source": [
        "model.evaluate(val_ds, steps=20, return_dict=True)\n"
      ]
    },
    {
      "cell_type": "code",
      "execution_count": 43,
      "id": "51a0c1d380b1f11f",
      "metadata": {
        "ExecuteTime": {
          "end_time": "2023-12-27T19:00:32.964595600Z",
          "start_time": "2023-12-27T18:57:53.594906400Z"
        },
        "id": "51a0c1d380b1f11f",
        "outputId": "c4b93b72-498a-46a6-a544-ce9aeac852e3",
        "colab": {
          "base_uri": "https://localhost:8080/"
        }
      },
      "outputs": [
        {
          "output_type": "stream",
          "name": "stdout",
          "text": [
            "Epoch 1/100\n",
            "100/100 [==============================] - 20s 47ms/step - loss: 5.0487 - masked_acc: 0.2567 - masked_loss: 5.0487 - val_loss: 4.1148 - val_masked_acc: 0.3540 - val_masked_loss: 4.1148\n",
            "Epoch 2/100\n",
            "100/100 [==============================] - 5s 46ms/step - loss: 3.7028 - masked_acc: 0.4057 - masked_loss: 3.7028 - val_loss: 3.2952 - val_masked_acc: 0.4532 - val_masked_loss: 3.2952\n",
            "Epoch 3/100\n",
            "100/100 [==============================] - 5s 45ms/step - loss: 3.1160 - masked_acc: 0.4843 - masked_loss: 3.1160 - val_loss: 2.7867 - val_masked_acc: 0.5270 - val_masked_loss: 2.7867\n",
            "Epoch 4/100\n",
            "100/100 [==============================] - 5s 46ms/step - loss: 2.7099 - masked_acc: 0.5391 - masked_loss: 2.7099 - val_loss: 2.5144 - val_masked_acc: 0.5629 - val_masked_loss: 2.5144\n",
            "Epoch 5/100\n",
            "100/100 [==============================] - 4s 45ms/step - loss: 2.3800 - masked_acc: 0.5853 - masked_loss: 2.3800 - val_loss: 2.2288 - val_masked_acc: 0.6135 - val_masked_loss: 2.2288\n",
            "Epoch 6/100\n",
            "100/100 [==============================] - 5s 46ms/step - loss: 2.1248 - masked_acc: 0.6243 - masked_loss: 2.1248 - val_loss: 2.0579 - val_masked_acc: 0.6272 - val_masked_loss: 2.0579\n",
            "Epoch 7/100\n",
            "100/100 [==============================] - 5s 47ms/step - loss: 2.0154 - masked_acc: 0.6376 - masked_loss: 2.0154 - val_loss: 1.9382 - val_masked_acc: 0.6482 - val_masked_loss: 1.9382\n",
            "Epoch 8/100\n",
            "100/100 [==============================] - 4s 45ms/step - loss: 1.8944 - masked_acc: 0.6530 - masked_loss: 1.8944 - val_loss: 1.8543 - val_masked_acc: 0.6587 - val_masked_loss: 1.8543\n",
            "Epoch 9/100\n",
            "100/100 [==============================] - 5s 47ms/step - loss: 1.7729 - masked_acc: 0.6716 - masked_loss: 1.7729 - val_loss: 1.7360 - val_masked_acc: 0.6749 - val_masked_loss: 1.7360\n",
            "Epoch 10/100\n",
            "100/100 [==============================] - 5s 48ms/step - loss: 1.6425 - masked_acc: 0.6895 - masked_loss: 1.6425 - val_loss: 1.6239 - val_masked_acc: 0.6942 - val_masked_loss: 1.6239\n",
            "Epoch 11/100\n",
            "100/100 [==============================] - 5s 49ms/step - loss: 1.6183 - masked_acc: 0.6934 - masked_loss: 1.6183 - val_loss: 1.5948 - val_masked_acc: 0.6954 - val_masked_loss: 1.5948\n",
            "Epoch 12/100\n",
            "100/100 [==============================] - 4s 43ms/step - loss: 1.5747 - masked_acc: 0.6988 - masked_loss: 1.5747 - val_loss: 1.5009 - val_masked_acc: 0.7108 - val_masked_loss: 1.5009\n",
            "Epoch 13/100\n",
            "100/100 [==============================] - 5s 46ms/step - loss: 1.5377 - masked_acc: 0.7044 - masked_loss: 1.5377 - val_loss: 1.4883 - val_masked_acc: 0.7097 - val_masked_loss: 1.4883\n",
            "Epoch 14/100\n",
            "100/100 [==============================] - 4s 43ms/step - loss: 1.4669 - masked_acc: 0.7120 - masked_loss: 1.4669 - val_loss: 1.4532 - val_masked_acc: 0.7149 - val_masked_loss: 1.4532\n",
            "Epoch 15/100\n",
            "100/100 [==============================] - 4s 45ms/step - loss: 1.4290 - masked_acc: 0.7168 - masked_loss: 1.4296 - val_loss: 1.4171 - val_masked_acc: 0.7191 - val_masked_loss: 1.4171\n",
            "Epoch 16/100\n",
            "100/100 [==============================] - 4s 45ms/step - loss: 1.2134 - masked_acc: 0.7458 - masked_loss: 1.2134 - val_loss: 1.4553 - val_masked_acc: 0.7168 - val_masked_loss: 1.4553\n",
            "Epoch 17/100\n",
            "100/100 [==============================] - 4s 45ms/step - loss: 1.2152 - masked_acc: 0.7479 - masked_loss: 1.2152 - val_loss: 1.3567 - val_masked_acc: 0.7282 - val_masked_loss: 1.3567\n",
            "Epoch 18/100\n",
            "100/100 [==============================] - 5s 46ms/step - loss: 1.2060 - masked_acc: 0.7490 - masked_loss: 1.2060 - val_loss: 1.3707 - val_masked_acc: 0.7276 - val_masked_loss: 1.3707\n",
            "Epoch 19/100\n",
            "100/100 [==============================] - 5s 46ms/step - loss: 1.2310 - masked_acc: 0.7433 - masked_loss: 1.2310 - val_loss: 1.3861 - val_masked_acc: 0.7237 - val_masked_loss: 1.3861\n",
            "Epoch 20/100\n",
            "100/100 [==============================] - 5s 45ms/step - loss: 1.2053 - masked_acc: 0.7441 - masked_loss: 1.2053 - val_loss: 1.2588 - val_masked_acc: 0.7467 - val_masked_loss: 1.2588\n",
            "Epoch 21/100\n",
            "100/100 [==============================] - 5s 45ms/step - loss: 1.1795 - masked_acc: 0.7530 - masked_loss: 1.1795 - val_loss: 1.2661 - val_masked_acc: 0.7449 - val_masked_loss: 1.2661\n",
            "Epoch 22/100\n",
            "100/100 [==============================] - 5s 46ms/step - loss: 1.1802 - masked_acc: 0.7502 - masked_loss: 1.1802 - val_loss: 1.2739 - val_masked_acc: 0.7413 - val_masked_loss: 1.2739\n",
            "Epoch 23/100\n",
            "100/100 [==============================] - 5s 45ms/step - loss: 1.1839 - masked_acc: 0.7509 - masked_loss: 1.1839 - val_loss: 1.2931 - val_masked_acc: 0.7430 - val_masked_loss: 1.2931\n"
          ]
        }
      ],
      "source": [
        "history = model.fit(\n",
        "    train_ds.repeat(),\n",
        "    epochs=100,\n",
        "    steps_per_epoch = 100,\n",
        "    validation_data=val_ds,\n",
        "    validation_steps = 20,\n",
        "    callbacks=[\n",
        "        tf.keras.callbacks.EarlyStopping(patience=3)])"
      ]
    },
    {
      "cell_type": "code",
      "execution_count": 44,
      "id": "36d5919872a9b323",
      "metadata": {
        "ExecuteTime": {
          "end_time": "2023-12-27T19:00:33.138806600Z",
          "start_time": "2023-12-27T19:00:32.968595900Z"
        },
        "id": "36d5919872a9b323",
        "outputId": "006bbbf4-3b73-4392-8590-bfe1f9cd801a",
        "colab": {
          "base_uri": "https://localhost:8080/",
          "height": 466
        }
      },
      "outputs": [
        {
          "output_type": "execute_result",
          "data": {
            "text/plain": [
              "<matplotlib.legend.Legend at 0x22190359330>"
            ]
          },
          "metadata": {},
          "execution_count": 44
        },
        {
          "output_type": "display_data",
          "data": {
            "text/plain": [
              "<Figure size 640x480 with 1 Axes>"
            ],
            "image/png": "[encoded data removed]"
          },
          "metadata": {}
        }
      ],
      "source": [
        "plt.plot(history.history['loss'], label='loss')\n",
        "plt.plot(history.history['val_loss'], label='val_loss')\n",
        "plt.ylim([0, max(plt.ylim())])\n",
        "plt.xlabel('Epoch #')\n",
        "plt.ylabel('CE/token')\n",
        "plt.legend()"
      ]
    },
    {
      "cell_type": "code",
      "execution_count": 45,
      "id": "5628888de70e43d3",
      "metadata": {
        "ExecuteTime": {
          "end_time": "2023-12-27T19:00:33.339391Z",
          "start_time": "2023-12-27T19:00:33.153307900Z"
        },
        "id": "5628888de70e43d3",
        "outputId": "587e1e5d-b3aa-450e-f1d0-7503dee95776",
        "colab": {
          "base_uri": "https://localhost:8080/",
          "height": 466
        }
      },
      "outputs": [
        {
          "output_type": "execute_result",
          "data": {
            "text/plain": [
              "<matplotlib.legend.Legend at 0x222c55a1cc0>"
            ]
          },
          "metadata": {},
          "execution_count": 45
        },
        {
          "output_type": "display_data",
          "data": {
            "text/plain": [
              "<Figure size 640x480 with 1 Axes>"
            ],
            "image/png": "[encoded data removed]"
          },
          "metadata": {}
        }
      ],
      "source": [
        "plt.plot(history.history['masked_acc'], label='accuracy')\n",
        "plt.plot(history.history['val_masked_acc'], label='val_accuracy')\n",
        "plt.ylim([0, max(plt.ylim())])\n",
        "plt.xlabel('Epoch #')\n",
        "plt.ylabel('CE/token')\n",
        "plt.legend()"
      ]
    },
    {
      "cell_type": "code",
      "execution_count": 46,
      "id": "14545ba071f0b3a0",
      "metadata": {
        "ExecuteTime": {
          "end_time": "2023-12-27T19:00:33.362388600Z",
          "start_time": "2023-12-27T19:00:33.312380Z"
        },
        "id": "14545ba071f0b3a0"
      },
      "outputs": [],
      "source": [
        "@Translator.add_method\n",
        "def translate(self,\n",
        "              texts, *,\n",
        "              max_length=50,\n",
        "              temperature=0.0):\n",
        "  # Process the input texts\n",
        "  context = self.encoder.convert_input(texts)\n",
        "  batch_size = tf.shape(texts)[0]\n",
        "\n",
        "  # Setup the loop inputs\n",
        "  tokens = []\n",
        "  attention_weights = []\n",
        "  next_token, done, state = self.decoder.get_initial_state(context)\n",
        "\n",
        "  for _ in range(max_length):\n",
        "    # Generate the next token\n",
        "    next_token, done, state = self.decoder.get_next_token(\n",
        "        context, next_token, done,  state, temperature)\n",
        "\n",
        "    # Collect the generated tokens\n",
        "    tokens.append(next_token)\n",
        "    attention_weights.append(self.decoder.last_attention_weights)\n",
        "\n",
        "    if tf.executing_eagerly() and tf.reduce_all(done):\n",
        "      break\n",
        "\n",
        "  # Stack the lists of tokens and attention weights.\n",
        "  tokens = tf.concat(tokens, axis=-1)   # t*[(batch 1)] -> (batch, t)\n",
        "  self.last_attention_weights = tf.concat(attention_weights, axis=1)  # t*[(batch 1 s)] -> (batch, t s)\n",
        "\n",
        "  result = self.decoder.tokens_to_text(tokens)\n",
        "  return result"
      ]
    },
    {
      "cell_type": "code",
      "execution_count": 47,
      "id": "29bc68713cb8a1f3",
      "metadata": {
        "ExecuteTime": {
          "end_time": "2023-12-27T19:00:33.569428400Z",
          "start_time": "2023-12-27T19:00:33.324390100Z"
        },
        "id": "29bc68713cb8a1f3",
        "outputId": "fcf278d8-8640-43ad-ba9c-68b75e9ba4f0",
        "colab": {
          "base_uri": "https://localhost:8080/"
        }
      },
      "outputs": [
        {
          "output_type": "execute_result",
          "data": {
            "text/plain": [
              "'is there still in house ? '"
            ]
          },
          "metadata": {},
          "execution_count": 47
        }
      ],
      "source": [
        "result = model.translate(['¿Todavía está en casa?']) # Are you still home\n",
        "result[0].numpy().decode()"
      ]
    },
    {
      "cell_type": "code",
      "execution_count": 48,
      "id": "e7fbdb0bc2e6f0e2",
      "metadata": {
        "ExecuteTime": {
          "end_time": "2023-12-27T19:00:33.621477500Z",
          "start_time": "2023-12-27T19:00:33.577429300Z"
        },
        "id": "e7fbdb0bc2e6f0e2"
      },
      "outputs": [],
      "source": [
        "@Translator.add_method\n",
        "def plot_attention(self, text, **kwargs):\n",
        "  assert isinstance(text, str)\n",
        "  output = self.translate([text], **kwargs)\n",
        "  output = output[0].numpy().decode()\n",
        "\n",
        "  attention = self.last_attention_weights[0]\n",
        "\n",
        "  context = tf_lower_and_split_punct(text)\n",
        "  context = context.numpy().decode().split()\n",
        "\n",
        "  output = tf_lower_and_split_punct(output)\n",
        "  output = output.numpy().decode().split()[1:]\n",
        "\n",
        "  fig = plt.figure(figsize=(10, 10))\n",
        "  ax = fig.add_subplot(1, 1, 1)\n",
        "\n",
        "  ax.matshow(attention, cmap='viridis', vmin=0.0)\n",
        "\n",
        "  fontdict = {'fontsize': 14}\n",
        "\n",
        "  ax.set_xticklabels([''] + context, fontdict=fontdict, rotation=90)\n",
        "  ax.set_yticklabels([''] + output, fontdict=fontdict)\n",
        "\n",
        "  ax.xaxis.set_major_locator(ticker.MultipleLocator(1))\n",
        "  ax.yaxis.set_major_locator(ticker.MultipleLocator(1))\n",
        "\n",
        "  ax.set_xlabel('Input text')\n",
        "  ax.set_ylabel('Output text')"
      ]
    },
    {
      "cell_type": "code",
      "execution_count": 49,
      "id": "b7888162fc07e072",
      "metadata": {
        "ExecuteTime": {
          "end_time": "2023-12-27T19:00:34.101213900Z",
          "start_time": "2023-12-27T19:00:33.599419400Z"
        },
        "id": "b7888162fc07e072",
        "outputId": "9b1392f2-0f56-41d3-fa65-e5ae5e4ed670",
        "colab": {
          "base_uri": "https://localhost:8080/",
          "height": 893
        }
      },
      "outputs": [
        {
          "output_type": "stream",
          "name": "stderr",
          "text": [
            "C:\\Users\\john\\AppData\\Local\\Temp\\ipykernel_5744\\2375050876.py:22: UserWarning: set_ticklabels() should only be used with a fixed number of ticks, i.e. after set_ticks() or using a FixedLocator.\n",
            "  ax.set_xticklabels([''] + context, fontdict=fontdict, rotation=90)\n",
            "C:\\Users\\john\\AppData\\Local\\Temp\\ipykernel_5744\\2375050876.py:23: UserWarning: set_ticklabels() should only be used with a fixed number of ticks, i.e. after set_ticks() or using a FixedLocator.\n",
            "  ax.set_yticklabels([''] + output, fontdict=fontdict)\n"
          ]
        },
        {
          "output_type": "display_data",
          "data": {
            "text/plain": [
              "<Figure size 1000x1000 with 1 Axes>"
            ],
            "image/png": "[encoded data removed]"
          },
          "metadata": {}
        }
      ],
      "source": [
        "model.plot_attention('¿Todavía está en casa?') # Are you still home"
      ]
    },
    {
      "cell_type": "code",
      "execution_count": 50,
      "id": "2797d41d6d209677",
      "metadata": {
        "ExecuteTime": {
          "end_time": "2023-12-27T19:00:34.574040200Z",
          "start_time": "2023-12-27T19:00:34.084705800Z"
        },
        "id": "2797d41d6d209677",
        "outputId": "8c2940bc-137e-4cd3-abf9-0a3c00c54cba",
        "colab": {
          "base_uri": "https://localhost:8080/",
          "height": 914
        }
      },
      "outputs": [
        {
          "output_type": "stream",
          "name": "stderr",
          "text": [
            "C:\\Users\\john\\AppData\\Local\\Temp\\ipykernel_5744\\2375050876.py:22: UserWarning: set_ticklabels() should only be used with a fixed number of ticks, i.e. after set_ticks() or using a FixedLocator.\n",
            "  ax.set_xticklabels([''] + context, fontdict=fontdict, rotation=90)\n",
            "C:\\Users\\john\\AppData\\Local\\Temp\\ipykernel_5744\\2375050876.py:23: UserWarning: set_ticklabels() should only be used with a fixed number of ticks, i.e. after set_ticks() or using a FixedLocator.\n",
            "  ax.set_yticklabels([''] + output, fontdict=fontdict)\n"
          ]
        },
        {
          "output_type": "stream",
          "name": "stdout",
          "text": [
            "CPU times: total: 31.2 ms\n",
            "Wall time: 317 ms\n"
          ]
        },
        {
          "output_type": "display_data",
          "data": {
            "text/plain": [
              "<Figure size 1000x1000 with 1 Axes>"
            ],
            "image/png": "[encoded data removed]"
          },
          "metadata": {}
        }
      ],
      "source": [
        "%%time\n",
        "# This is my life.\n",
        "model.plot_attention('Esta es mi vida.')"
      ]
    },
    {
      "cell_type": "code",
      "execution_count": 51,
      "id": "229c9de53a1a67fa",
      "metadata": {
        "ExecuteTime": {
          "end_time": "2023-12-27T19:00:35.129814700Z",
          "start_time": "2023-12-27T19:00:34.551533200Z"
        },
        "id": "229c9de53a1a67fa",
        "outputId": "e3cc5c4c-9be1-4aed-8fb0-73e4bd47ec11",
        "colab": {
          "base_uri": "https://localhost:8080/",
          "height": 1000
        }
      },
      "outputs": [
        {
          "output_type": "stream",
          "name": "stderr",
          "text": [
            "C:\\Users\\john\\AppData\\Local\\Temp\\ipykernel_5744\\2375050876.py:22: UserWarning: set_ticklabels() should only be used with a fixed number of ticks, i.e. after set_ticks() or using a FixedLocator.\n",
            "  ax.set_xticklabels([''] + context, fontdict=fontdict, rotation=90)\n",
            "C:\\Users\\john\\AppData\\Local\\Temp\\ipykernel_5744\\2375050876.py:23: UserWarning: set_ticklabels() should only be used with a fixed number of ticks, i.e. after set_ticks() or using a FixedLocator.\n",
            "  ax.set_yticklabels([''] + output, fontdict=fontdict)\n"
          ]
        },
        {
          "output_type": "stream",
          "name": "stdout",
          "text": [
            "CPU times: total: 46.9 ms\n",
            "Wall time: 295 ms\n"
          ]
        },
        {
          "output_type": "display_data",
          "data": {
            "text/plain": [
              "<Figure size 1000x1000 with 1 Axes>"
            ],
            "image/png": "[encoded data removed]"
          },
          "metadata": {}
        }
      ],
      "source": [
        "%%time\n",
        " # Try to find out.'\n",
        "model.plot_attention('Tratar de descubrir.')"
      ]
    },
    {
      "cell_type": "code",
      "execution_count": 52,
      "id": "628010540af59de2",
      "metadata": {
        "ExecuteTime": {
          "end_time": "2023-12-27T19:00:35.132816600Z",
          "start_time": "2023-12-27T19:00:35.015184100Z"
        },
        "id": "628010540af59de2",
        "outputId": "404f58fe-0634-43f6-8468-118413ba6d2b",
        "colab": {
          "base_uri": "https://localhost:8080/"
        }
      },
      "outputs": [
        {
          "output_type": "stream",
          "name": "stdout",
          "text": [
            "Expected output:\n",
            " If you want to sound like a native speaker, you must be willing to\n",
            "practice saying the same sentence over and over in the same way that\n",
            "banjo players practice the same phrase over and over until they can\n",
            "play it correctly and at the desired tempo.\n"
          ]
        }
      ],
      "source": [
        "long_text = context_raw[-1]\n",
        "\n",
        "import textwrap\n",
        "print('Expected output:\\n', '\\n'.join(textwrap.wrap(target_raw[-1])))"
      ]
    },
    {
      "cell_type": "code",
      "execution_count": 53,
      "id": "ad7bd010-b6b6-4a83-93ec-dfdf70dfe497",
      "metadata": {
        "ExecuteTime": {
          "end_time": "2023-12-27T19:00:36.403835700Z",
          "start_time": "2023-12-27T19:00:35.030739600Z"
        },
        "id": "ad7bd010-b6b6-4a83-93ec-dfdf70dfe497",
        "outputId": "f2253d39-a2ad-4e51-a0e4-d084cd571b1f",
        "colab": {
          "base_uri": "https://localhost:8080/",
          "height": 561
        }
      },
      "outputs": [
        {
          "output_type": "stream",
          "name": "stderr",
          "text": [
            "C:\\Users\\john\\AppData\\Local\\Temp\\ipykernel_5744\\2375050876.py:22: UserWarning: set_ticklabels() should only be used with a fixed number of ticks, i.e. after set_ticks() or using a FixedLocator.\n",
            "  ax.set_xticklabels([''] + context, fontdict=fontdict, rotation=90)\n",
            "C:\\Users\\john\\AppData\\Local\\Temp\\ipykernel_5744\\2375050876.py:23: UserWarning: set_ticklabels() should only be used with a fixed number of ticks, i.e. after set_ticks() or using a FixedLocator.\n",
            "  ax.set_yticklabels([''] + output, fontdict=fontdict)\n"
          ]
        },
        {
          "output_type": "display_data",
          "data": {
            "text/plain": [
              "<Figure size 1000x1000 with 1 Axes>"
            ],
            "image/png": "[encoded data removed]"
          },
          "metadata": {}
        }
      ],
      "source": [
        "model.plot_attention(long_text)"
      ]
    },
    {
      "cell_type": "code",
      "execution_count": 54,
      "id": "77a405f4-658b-43c2-b22f-d096c5ffafca",
      "metadata": {
        "ExecuteTime": {
          "end_time": "2023-12-27T19:00:36.488388100Z",
          "start_time": "2023-12-27T19:00:36.396835200Z"
        },
        "id": "77a405f4-658b-43c2-b22f-d096c5ffafca"
      },
      "outputs": [],
      "source": [
        "inputs = [\n",
        "    'Hace mucho frio aqui.', # \"It's really cold here.\"\n",
        "    'Esta es mi vida.', # \"This is my life.\"\n",
        "    'Su cuarto es un desastre.' # \"His room is a mess\"\n",
        "]"
      ]
    },
    {
      "cell_type": "code",
      "execution_count": 55,
      "id": "09b14a6b-400b-4a67-af5c-c25e07e36017",
      "metadata": {
        "ExecuteTime": {
          "end_time": "2023-12-27T19:00:37.136852100Z",
          "start_time": "2023-12-27T19:00:36.412340Z"
        },
        "id": "09b14a6b-400b-4a67-af5c-c25e07e36017",
        "outputId": "c348be89-ea30-4672-92f0-1b80eb34f4c7",
        "colab": {
          "base_uri": "https://localhost:8080/"
        }
      },
      "outputs": [
        {
          "output_type": "stream",
          "name": "stdout",
          "text": [
            "its been cold here . \n",
            "this is my life . \n",
            "his room is a mess . \n",
            "\n",
            "CPU times: total: 93.8 ms\n",
            "Wall time: 799 ms\n"
          ]
        }
      ],
      "source": [
        "%%time\n",
        "for t in inputs:\n",
        "  print(model.translate([t])[0].numpy().decode())\n",
        "\n",
        "print()"
      ]
    },
    {
      "cell_type": "code",
      "execution_count": 56,
      "id": "5e6b206a-5adb-48ef-9f27-879e35c6eb3a",
      "metadata": {
        "ExecuteTime": {
          "end_time": "2023-12-27T19:00:37.502695600Z",
          "start_time": "2023-12-27T19:00:37.138851900Z"
        },
        "id": "5e6b206a-5adb-48ef-9f27-879e35c6eb3a",
        "outputId": "4b2a4ad6-1073-47ea-802b-da301236c9fc",
        "colab": {
          "base_uri": "https://localhost:8080/"
        }
      },
      "outputs": [
        {
          "output_type": "stream",
          "name": "stdout",
          "text": [
            "its been cold here .  \n",
            "this is my life .  \n",
            "his room is a mess . \n",
            "\n",
            "CPU times: total: 62.5 ms\n",
            "Wall time: 344 ms\n"
          ]
        }
      ],
      "source": [
        "%%time\n",
        "result = model.translate(inputs)\n",
        "\n",
        "print(result[0].numpy().decode())\n",
        "print(result[1].numpy().decode())\n",
        "print(result[2].numpy().decode())\n",
        "print()"
      ]
    },
    {
      "cell_type": "code",
      "execution_count": 57,
      "id": "ad5a4f77-66bc-49ea-a57a-00dfeee4a026",
      "metadata": {
        "ExecuteTime": {
          "end_time": "2023-12-27T19:00:37.539759900Z",
          "start_time": "2023-12-27T19:00:37.496697100Z"
        },
        "id": "ad5a4f77-66bc-49ea-a57a-00dfeee4a026"
      },
      "outputs": [],
      "source": [
        "class Export(tf.Module):\n",
        "  def __init__(self, model):\n",
        "    self.model = model\n",
        "\n",
        "  @tf.function(input_signature=[tf.TensorSpec(dtype=tf.string, shape=[None])])\n",
        "  def translate(self, inputs):\n",
        "    return self.model.translate(inputs)"
      ]
    },
    {
      "cell_type": "code",
      "execution_count": 58,
      "id": "c163df4a-15b4-4787-b2f7-ee27fc6ed2b0",
      "metadata": {
        "ExecuteTime": {
          "end_time": "2023-12-27T19:00:37.542259900Z",
          "start_time": "2023-12-27T19:00:37.512713300Z"
        },
        "id": "c163df4a-15b4-4787-b2f7-ee27fc6ed2b0"
      },
      "outputs": [],
      "source": [
        "export = Export(model)"
      ]
    },
    {
      "cell_type": "code",
      "execution_count": 59,
      "id": "70643113-f821-4743-a1c6-85ed450f5d9d",
      "metadata": {
        "ExecuteTime": {
          "end_time": "2023-12-27T19:01:39.013326900Z",
          "start_time": "2023-12-27T19:00:37.527266500Z"
        },
        "id": "70643113-f821-4743-a1c6-85ed450f5d9d",
        "outputId": "4917f74d-6e76-4b3a-ff4e-1765b0fed654",
        "colab": {
          "base_uri": "https://localhost:8080/"
        }
      },
      "outputs": [
        {
          "output_type": "stream",
          "name": "stdout",
          "text": [
            "CPU times: total: 26.3 s\n",
            "Wall time: 1min 9s\n"
          ]
        }
      ],
      "source": [
        "%%time\n",
        "_ = export.translate(tf.constant(inputs))"
      ]
    },
    {
      "cell_type": "code",
      "execution_count": 60,
      "id": "10a793b3-41e0-4cfa-872b-376becaa486e",
      "metadata": {
        "ExecuteTime": {
          "end_time": "2023-12-27T19:01:39.270248100Z",
          "start_time": "2023-12-27T19:01:39.004860900Z"
        },
        "id": "10a793b3-41e0-4cfa-872b-376becaa486e",
        "outputId": "57b98ec8-5a37-4f5b-b2cf-d86127ab17f0",
        "colab": {
          "base_uri": "https://localhost:8080/"
        }
      },
      "outputs": [
        {
          "output_type": "stream",
          "name": "stdout",
          "text": [
            "its been cold here .                                             \n",
            "this is my life .                                             \n",
            "his room is a mess .                                            \n",
            "\n",
            "CPU times: total: 46.9 ms\n",
            "Wall time: 317 ms\n"
          ]
        }
      ],
      "source": [
        "%%time\n",
        "result = export.translate(tf.constant(inputs))\n",
        "\n",
        "print(result[0].numpy().decode())\n",
        "print(result[1].numpy().decode())\n",
        "print(result[2].numpy().decode())\n",
        "print()"
      ]
    },
    {
      "cell_type": "code",
      "execution_count": 61,
      "id": "8f2d18c3-80dd-4fd5-aca5-b70aa30f461b",
      "metadata": {
        "ExecuteTime": {
          "end_time": "2023-12-27T19:03:32.595573400Z",
          "start_time": "2023-12-27T19:01:39.269249900Z"
        },
        "id": "8f2d18c3-80dd-4fd5-aca5-b70aa30f461b",
        "outputId": "83aa7c9a-7064-4489-c939-e8f2a6535cdf",
        "colab": {
          "base_uri": "https://localhost:8080/"
        }
      },
      "outputs": [
        {
          "output_type": "stream",
          "name": "stderr",
          "text": [
            "WARNING:absl:Found untraced functions such as embedding_3_layer_call_fn, embedding_3_layer_call_and_return_conditional_losses, embedding_4_layer_call_fn, embedding_4_layer_call_and_return_conditional_losses, cross_attention_2_layer_call_fn while saving (showing 5 of 32). These functions will not be directly callable after loading.\n"
          ]
        },
        {
          "output_type": "stream",
          "name": "stdout",
          "text": [
            "INFO:tensorflow:Assets written to: ./models/translator\\assets\n"
          ]
        },
        {
          "output_type": "stream",
          "name": "stderr",
          "text": [
            "INFO:tensorflow:Assets written to: ./models/translator\\assets\n"
          ]
        },
        {
          "output_type": "stream",
          "name": "stdout",
          "text": [
            "CPU times: total: 33 s\n",
            "Wall time: 1min 36s\n"
          ]
        }
      ],
      "source": [
        "%%time\n",
        "tf.saved_model.save(export, local_model_path+'translator',\n",
        "                    signatures={'serving_default': export.translate})"
      ]
    },
    {
      "cell_type": "code",
      "execution_count": 62,
      "id": "9c55f536-3523-41d5-a937-eb900aba3a37",
      "metadata": {
        "ExecuteTime": {
          "end_time": "2023-12-27T19:04:53.019509100Z",
          "start_time": "2023-12-27T19:03:32.605072100Z"
        },
        "id": "9c55f536-3523-41d5-a937-eb900aba3a37",
        "outputId": "99384908-272d-4576-d3b6-59c0e950bbb4",
        "colab": {
          "base_uri": "https://localhost:8080/"
        }
      },
      "outputs": [
        {
          "output_type": "stream",
          "name": "stdout",
          "text": [
            "CPU times: total: 31.5 s\n",
            "Wall time: 1min 18s\n"
          ]
        }
      ],
      "source": [
        "%%time\n",
        "reloaded = tf.saved_model.load(local_model_path+'translator')\n",
        "_ = reloaded.translate(tf.constant(inputs)) #warmup"
      ]
    },
    {
      "cell_type": "code",
      "execution_count": 63,
      "id": "3c6494b8-3f2d-4413-8c72-abe857007375",
      "metadata": {
        "ExecuteTime": {
          "end_time": "2023-12-27T19:04:54.431841800Z",
          "start_time": "2023-12-27T19:04:53.024010600Z"
        },
        "id": "3c6494b8-3f2d-4413-8c72-abe857007375",
        "outputId": "615c1bd9-40bc-4260-96b5-805361e3d70a",
        "colab": {
          "base_uri": "https://localhost:8080/"
        }
      },
      "outputs": [
        {
          "output_type": "stream",
          "name": "stdout",
          "text": [
            "its been cold here .                                             \n",
            "this is my life .                                             \n",
            "his room is a mess .                                            \n",
            "\n",
            "CPU times: total: 31.2 ms\n",
            "Wall time: 282 ms\n"
          ]
        }
      ],
      "source": [
        "%%time\n",
        "result = reloaded.translate(tf.constant(inputs))\n",
        "\n",
        "print(result[0].numpy().decode())\n",
        "print(result[1].numpy().decode())\n",
        "print(result[2].numpy().decode())\n",
        "print()"
      ]
    },
    {
      "cell_type": "code",
      "execution_count": 64,
      "id": "f89954d7-c709-4499-ad56-503edb4cdfcb",
      "metadata": {
        "ExecuteTime": {
          "end_time": "2023-12-27T19:04:56.370888800Z",
          "start_time": "2023-12-27T19:04:55.812043700Z"
        },
        "id": "f89954d7-c709-4499-ad56-503edb4cdfcb"
      },
      "outputs": [],
      "source": [
        "@Translator.add_method\n",
        "def translate(self,\n",
        "              texts,\n",
        "              *,\n",
        "              max_length=500,\n",
        "              temperature=tf.constant(0.0)):\n",
        "  shape_checker = ShapeChecker()\n",
        "  context = self.encoder.convert_input(texts)\n",
        "  batch_size = tf.shape(context)[0]\n",
        "  shape_checker(context, 'batch s units')\n",
        "\n",
        "  next_token, done, state = self.decoder.get_initial_state(context)\n",
        "\n",
        "  # initialize the accumulator\n",
        "  tokens = tf.TensorArray(tf.int64, size=1, dynamic_size=True)\n",
        "\n",
        "  for t in tf.range(max_length):\n",
        "    # Generate the next token\n",
        "    next_token, done, state = self.decoder.get_next_token(\n",
        "        context, next_token, done, state, temperature)\n",
        "    shape_checker(next_token, 'batch t1')\n",
        "\n",
        "    # Collect the generated tokens\n",
        "    tokens = tokens.write(t, next_token)\n",
        "\n",
        "    # if all the sequences are done, break\n",
        "    if tf.reduce_all(done):\n",
        "      break\n",
        "\n",
        "  # Convert the list of generated token ids to a list of strings.\n",
        "  tokens = tokens.stack()\n",
        "  shape_checker(tokens, 't batch t1')\n",
        "  tokens = einops.rearrange(tokens, 't batch 1 -> batch t')\n",
        "  shape_checker(tokens, 'batch t')\n",
        "\n",
        "  text = self.decoder.tokens_to_text(tokens)\n",
        "  shape_checker(text, 'batch')\n",
        "\n",
        "  return text"
      ]
    },
    {
      "cell_type": "code",
      "execution_count": 65,
      "id": "85eda35a-0bf2-4b67-b463-4e2bce13a68d",
      "metadata": {
        "ExecuteTime": {
          "end_time": "2023-12-27T19:05:18.589456800Z",
          "start_time": "2023-12-27T19:04:56.371887400Z"
        },
        "id": "85eda35a-0bf2-4b67-b463-4e2bce13a68d",
        "outputId": "70ae82bd-17f2-4d24-a816-3f65d7179df9",
        "colab": {
          "base_uri": "https://localhost:8080/"
        }
      },
      "outputs": [
        {
          "output_type": "stream",
          "name": "stdout",
          "text": [
            "its been cold here .  \n",
            "this is my life .  \n",
            "his room is a mess . \n",
            "\n",
            "CPU times: total: 78.1 ms\n",
            "Wall time: 2.13 s\n"
          ]
        }
      ],
      "source": [
        "%%time\n",
        "result = model.translate(inputs)\n",
        "\n",
        "print(result[0].numpy().decode())\n",
        "print(result[1].numpy().decode())\n",
        "print(result[2].numpy().decode())\n",
        "print()"
      ]
    },
    {
      "cell_type": "code",
      "execution_count": 66,
      "id": "325013d3-cee2-48c7-b72b-fc450d838413",
      "metadata": {
        "ExecuteTime": {
          "end_time": "2023-12-27T19:05:18.743432700Z",
          "start_time": "2023-12-27T19:05:18.725769600Z"
        },
        "id": "325013d3-cee2-48c7-b72b-fc450d838413"
      },
      "outputs": [],
      "source": [
        "class Export(tf.Module):\n",
        "  def __init__(self, model):\n",
        "    self.model = model\n",
        "\n",
        "  @tf.function(input_signature=[tf.TensorSpec(dtype=tf.string, shape=[None])])\n",
        "  def translate(self, inputs):\n",
        "    return self.model.translate(inputs)"
      ]
    },
    {
      "cell_type": "code",
      "execution_count": 67,
      "id": "a2a39ef5-eb6c-4caf-a5f5-bcaa5045e3a9",
      "metadata": {
        "ExecuteTime": {
          "end_time": "2023-12-27T19:06:47.155849100Z",
          "start_time": "2023-12-27T19:05:18.786041400Z"
        },
        "id": "a2a39ef5-eb6c-4caf-a5f5-bcaa5045e3a9"
      },
      "outputs": [],
      "source": [
        "export = Export(model)"
      ]
    },
    {
      "cell_type": "code",
      "execution_count": 68,
      "id": "a7d851ee-4fec-48ab-a5e5-fd450a72ba8c",
      "metadata": {
        "ExecuteTime": {
          "end_time": "2023-12-27T19:06:54.189452900Z",
          "start_time": "2023-12-27T19:06:47.158885100Z"
        },
        "id": "a7d851ee-4fec-48ab-a5e5-fd450a72ba8c",
        "outputId": "2e2bb6c2-b5bd-4c5a-fe8c-ef8bb2239a08",
        "colab": {
          "base_uri": "https://localhost:8080/"
        }
      },
      "outputs": [
        {
          "output_type": "stream",
          "name": "stdout",
          "text": [
            "CPU times: total: 1.8 s\n",
            "Wall time: 10.5 s\n"
          ]
        }
      ],
      "source": [
        "%%time\n",
        "_ = export.translate(inputs)"
      ]
    },
    {
      "cell_type": "code",
      "execution_count": 69,
      "id": "593e03bb-9d31-4cb9-a779-bac05176fc1e",
      "metadata": {
        "ExecuteTime": {
          "end_time": "2023-12-27T19:06:54.374295100Z",
          "start_time": "2023-12-27T19:06:54.216965600Z"
        },
        "id": "593e03bb-9d31-4cb9-a779-bac05176fc1e",
        "outputId": "1ba5e145-b5e1-410c-8688-76290a23d37a",
        "colab": {
          "base_uri": "https://localhost:8080/"
        }
      },
      "outputs": [
        {
          "output_type": "stream",
          "name": "stdout",
          "text": [
            "its been cold here .  \n",
            "this is my life .  \n",
            "his room is a mess . \n",
            "\n",
            "CPU times: total: 15.6 ms\n",
            "Wall time: 120 ms\n"
          ]
        }
      ],
      "source": [
        "%%time\n",
        "result = export.translate(inputs)\n",
        "\n",
        "print(result[0].numpy().decode())\n",
        "print(result[1].numpy().decode())\n",
        "print(result[2].numpy().decode())\n",
        "print()"
      ]
    },
    {
      "cell_type": "code",
      "execution_count": 70,
      "id": "3949a0be-c85d-4548-a2db-638922916210",
      "metadata": {
        "ExecuteTime": {
          "end_time": "2023-12-27T19:07:26.265932700Z",
          "start_time": "2023-12-27T19:06:54.387792900Z"
        },
        "id": "3949a0be-c85d-4548-a2db-638922916210",
        "outputId": "1f958317-4bf8-4f19-ae9c-fedd0da16831",
        "colab": {
          "base_uri": "https://localhost:8080/"
        }
      },
      "outputs": [
        {
          "output_type": "stream",
          "name": "stderr",
          "text": [
            "WARNING:absl:Found untraced functions such as embedding_3_layer_call_fn, embedding_3_layer_call_and_return_conditional_losses, embedding_4_layer_call_fn, embedding_4_layer_call_and_return_conditional_losses, cross_attention_2_layer_call_fn while saving (showing 5 of 32). These functions will not be directly callable after loading.\n"
          ]
        },
        {
          "output_type": "stream",
          "name": "stdout",
          "text": [
            "INFO:tensorflow:Assets written to: ./models/dynamic_translator\\assets\n"
          ]
        },
        {
          "output_type": "stream",
          "name": "stderr",
          "text": [
            "INFO:tensorflow:Assets written to: ./models/dynamic_translator\\assets\n"
          ]
        },
        {
          "output_type": "stream",
          "name": "stdout",
          "text": [
            "CPU times: total: 14 s\n",
            "Wall time: 51.5 s\n"
          ]
        }
      ],
      "source": [
        "%%time\n",
        "tf.saved_model.save(export, local_model_path+'dynamic_translator',\n",
        "                    signatures={'serving_default': export.translate})"
      ]
    },
    {
      "cell_type": "code",
      "execution_count": 71,
      "id": "bdc4f67f-dda7-4ff4-a6bf-ca842640ba73",
      "metadata": {
        "ExecuteTime": {
          "end_time": "2023-12-27T19:09:16.064367100Z",
          "start_time": "2023-12-27T19:07:26.267906100Z"
        },
        "id": "bdc4f67f-dda7-4ff4-a6bf-ca842640ba73",
        "outputId": "55c01638-38b3-429c-f7a6-b9d8214f7a0f",
        "colab": {
          "base_uri": "https://localhost:8080/"
        }
      },
      "outputs": [
        {
          "output_type": "stream",
          "name": "stdout",
          "text": [
            "CPU times: total: 6.84 s\n",
            "Wall time: 17.5 s\n"
          ]
        }
      ],
      "source": [
        "%%time\n",
        "reloaded = tf.saved_model.load(local_model_path+'dynamic_translator')\n",
        "_ = reloaded.translate(tf.constant(inputs)) #warmup"
      ]
    },
    {
      "cell_type": "code",
      "execution_count": 72,
      "id": "c90116e6-971e-43ac-841c-04e491e293fe",
      "metadata": {
        "ExecuteTime": {
          "end_time": "2023-12-27T19:09:16.405009Z",
          "start_time": "2023-12-27T19:09:16.026093Z"
        },
        "id": "c90116e6-971e-43ac-841c-04e491e293fe",
        "outputId": "147ef2e1-f18d-414e-d681-1b7d3827afca",
        "colab": {
          "base_uri": "https://localhost:8080/"
        }
      },
      "outputs": [
        {
          "output_type": "stream",
          "name": "stdout",
          "text": [
            "its been cold here .  \n",
            "this is my life .  \n",
            "his room is a mess . \n",
            "\n",
            "CPU times: total: 15.6 ms\n",
            "Wall time: 170 ms\n"
          ]
        }
      ],
      "source": [
        "%%time\n",
        "result = reloaded.translate(tf.constant(inputs))\n",
        "\n",
        "print(result[0].numpy().decode())\n",
        "print(result[1].numpy().decode())\n",
        "print(result[2].numpy().decode())\n",
        "print()"
      ]
    },
    {
      "cell_type": "markdown",
      "id": "c0a4b0d6-5b97-474f-98c4-e73bc2f50a2d",
      "metadata": {
        "id": "c0a4b0d6-5b97-474f-98c4-e73bc2f50a2d"
      },
      "source": [
        "## Step n - Still to do\n",
        "- better understand    \n",
        "    - the attention model here as opposed to the transformer version\n",
        "    - Working with RNNs vs attention\n",
        "- enable GPU (local is completed - Rosie still to do, should just be config)"
      ]
    }
  ],
  "metadata": {
    "kernelspec": {
      "display_name": "Python 3",
      "name": "python3"
    },
    "language_info": {
      "codemirror_mode": {
        "name": "ipython",
        "version": 3
      },
      "file_extension": ".py",
      "mimetype": "text/x-python",
      "name": "python",
      "nbconvert_exporter": "python",
      "pygments_lexer": "ipython3",
      "version": "3.10.0"
    },
    "colab": {
      "provenance": [],
      "gpuType": "T4",
      "include_colab_link": true
    },
    "accelerator": "GPU"
  },
  "nbformat": 4,
  "nbformat_minor": 5
}