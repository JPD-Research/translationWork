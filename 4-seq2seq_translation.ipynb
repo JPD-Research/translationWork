{
 "cells": [
  {
   "cell_type": "markdown",
   "id": "1848aefbeef98104",
   "metadata": {
    "collapsed": false
   },
   "source": [
    "# Text translation using seq2seq architectures\n",
    " \n",
    "Based on Tensorflow tutorial [Neural machine translation with attention](https://www.tensorflow.org/text/tutorials/nmt_with_attention)\n",
    "\n",
    "Training a sequence-to-sequence (seq2seq) model similar to from [Effective Approaches to Attention-based Neural Machine Translation](https://arxiv.org/abs/1508.04025v5)\n",
    "\n",
    "- not the most current architecture, but a good learning step for seq2seq models and attention before moving to Transformers\n",
    "- will allow direct Spanish-English translation\n",
    "- exports model as a tf.saved_model for use in other environments\n",
    "- attention plot is more interesting than the resulting output - shows what parts of the input sentence \"has the model's attention\" while translating\n",
    "\n",
    "With modifications described along the way...\n",
    "this runs on the GPU if available - trained in 11 min on CPU, 2.5 min on GPU\n",
    "\n",
    "## Step 0 - Environment Setup \n",
    "\n",
    "assumes tensorflow-text >= 2.10, matplotlib and einops are installed in the environment\n",
    "conda yaml for the environment compatible with all of these notebooks is included in the root of this repo"
   ]
  },
  {
   "cell_type": "code",
   "execution_count": 1,
   "id": "d80e9a5a8caee092",
   "metadata": {
    "collapsed": false,
    "ExecuteTime": {
     "end_time": "2023-12-27T18:57:17.243285200Z",
     "start_time": "2023-12-27T18:57:06.086999300Z"
    }
   },
   "outputs": [],
   "source": [
    "import numpy as np\n",
    "\n",
    "import typing\n",
    "from typing import Any, Tuple\n",
    "\n",
    "import einops\n",
    "import matplotlib.pyplot as plt\n",
    "import matplotlib.ticker as ticker\n",
    "\n",
    "import tensorflow as tf\n",
    "import tensorflow_text as tf_text"
   ]
  },
  {
   "cell_type": "code",
   "execution_count": 2,
   "outputs": [
    {
     "name": "stdout",
     "output_type": "stream",
     "text": [
      "1 Physical GPUs, 1 Logical GPUs\n"
     ]
    }
   ],
   "source": [
    "gpus = tf.config.list_physical_devices('GPU')\n",
    "if gpus:\n",
    "    # Restrict TensorFlow to only allocate 1GB of memory on the first GPU\n",
    "    try:\n",
    "        for gpu in gpus:\n",
    "            tf.config.experimental.set_memory_growth(gpu, True)\n",
    "            #tf.config.set_logical_device_configuration(\n",
    "        #    gpus[0],\n",
    "        #    [tf.config.LogicalDeviceConfiguration(memory_limit=512)])\n",
    "        logical_gpus = tf.config.list_logical_devices('GPU')\n",
    "        print(len(gpus), \"Physical GPUs,\", len(logical_gpus), \"Logical GPUs\")\n",
    "    except RuntimeError as e:\n",
    "        # Virtual devices must be set before GPUs have been initialized\n",
    "        print(e)"
   ],
   "metadata": {
    "collapsed": false,
    "ExecuteTime": {
     "end_time": "2023-12-27T18:57:18.729458900Z",
     "start_time": "2023-12-27T18:57:17.247784600Z"
    }
   },
   "id": "1c30b550e0576439"
  },
  {
   "cell_type": "code",
   "execution_count": 3,
   "id": "101d797542de6578",
   "metadata": {
    "collapsed": false,
    "ExecuteTime": {
     "end_time": "2023-12-27T18:57:18.749959700Z",
     "start_time": "2023-12-27T18:57:18.731960600Z"
    }
   },
   "outputs": [],
   "source": [
    "local_data_path_root = \"C:/LocalResearch/JPD-Research/translationWork\"\n",
    "local_data_path = local_data_path_root+ \"/data\"\n",
    "local_vocab_path = local_data_path_root+ \"/vocab/\"\n",
    "local_model_path = local_data_path_root+ \"/models/\"\n",
    "\n",
    "# Directory where the checkpoints will be saved\n",
    "checkpoint_dir = local_data_path_root + '/training_checkpoints'"
   ]
  },
  {
   "cell_type": "markdown",
   "id": "d77d8451ed035302",
   "metadata": {
    "collapsed": false
   },
   "source": [
    "include helper class to check shapes correctly:"
   ]
  },
  {
   "cell_type": "code",
   "execution_count": 4,
   "id": "1b1d41e5a166622d",
   "metadata": {
    "collapsed": false,
    "ExecuteTime": {
     "end_time": "2023-12-27T18:57:18.774958900Z",
     "start_time": "2023-12-27T18:57:18.746960100Z"
    }
   },
   "outputs": [],
   "source": [
    "class ShapeChecker():\n",
    "  def __init__(self):\n",
    "    # Keep a cache of every axis-name seen\n",
    "    self.shapes = {}\n",
    "\n",
    "  def __call__(self, tensor, names, broadcast=False):\n",
    "    if not tf.executing_eagerly():\n",
    "      return\n",
    "\n",
    "    parsed = einops.parse_shape(tensor, names)\n",
    "\n",
    "    for name, new_dim in parsed.items():\n",
    "      old_dim = self.shapes.get(name, None)\n",
    "\n",
    "      if (broadcast and new_dim == 1):\n",
    "        continue\n",
    "\n",
    "      if old_dim is None:\n",
    "        # If the axis name is new, add its length to the cache.\n",
    "        self.shapes[name] = new_dim\n",
    "        continue\n",
    "\n",
    "      if new_dim != old_dim:\n",
    "        raise ValueError(f\"Shape mismatch for dimension: '{name}'\\n\"\n",
    "                         f\"    found: {new_dim}\\n\"\n",
    "                         f\"    expected: {old_dim}\\n\")"
   ]
  },
  {
   "cell_type": "markdown",
   "id": "126a783b12c128b6",
   "metadata": {
    "collapsed": false,
    "jp-MarkdownHeadingCollapsed": true
   },
   "source": [
    "## Step 1 - Getting the data\n",
    "\n",
    "Uses [Anki](http://www.manythings.org/anki/) dataset with translation pairs such as english-spanish text - more languages are available\n",
    "\n",
    "1. Download the dataset\n",
    "2. Add a start and end token to each sentence.\n",
    "1. Clean the sentences by removing special characters.\n",
    "1. Create a word index and reverse word index (dictionaries mapping from word → id and id → word).\n",
    "1. Pad each sentence to a maximum length\n",
    "\n",
    "### Download the dataset"
   ]
  },
  {
   "cell_type": "code",
   "execution_count": 5,
   "id": "25399caa18fcb2cb",
   "metadata": {
    "collapsed": false,
    "ExecuteTime": {
     "end_time": "2023-12-27T18:57:19.008608600Z",
     "start_time": "2023-12-27T18:57:18.763959400Z"
    }
   },
   "outputs": [],
   "source": [
    "# Download the file\n",
    "import pathlib\n",
    "\n",
    "path_to_zip = tf.keras.utils.get_file(\n",
    "    'spa-eng.zip', origin='http://storage.googleapis.com/download.tensorflow.org/data/spa-eng.zip',\n",
    "    cache_subdir=local_data_path,\n",
    "    extract=True)\n",
    "\n",
    "path_to_file = pathlib.Path(path_to_zip).parent/'spa-eng/spa.txt'"
   ]
  },
  {
   "cell_type": "code",
   "execution_count": 6,
   "id": "1417d518da552989",
   "metadata": {
    "collapsed": false,
    "ExecuteTime": {
     "end_time": "2023-12-27T18:57:19.024173500Z",
     "start_time": "2023-12-27T18:57:19.012618700Z"
    }
   },
   "outputs": [],
   "source": [
    "def load_data(path):\n",
    "  text = path.read_text(encoding='utf-8')\n",
    "\n",
    "  lines = text.splitlines()\n",
    "  pairs = [line.split('\\t') for line in lines]\n",
    "\n",
    "  context = np.array([context for target, context in pairs])\n",
    "  target = np.array([target for target, context in pairs])\n",
    "\n",
    "  return target, context"
   ]
  },
  {
   "cell_type": "code",
   "execution_count": 7,
   "id": "df0018e2a2260ecd",
   "metadata": {
    "collapsed": false,
    "ExecuteTime": {
     "end_time": "2023-12-27T18:57:19.645982700Z",
     "start_time": "2023-12-27T18:57:19.036748300Z"
    }
   },
   "outputs": [
    {
     "name": "stdout",
     "output_type": "stream",
     "text": [
      "Si quieres sonar como un hablante nativo, debes estar dispuesto a practicar diciendo la misma frase una y otra vez de la misma manera en que un músico de banjo practica el mismo fraseo una y otra vez hasta que lo puedan tocar correctamente y en el tiempo esperado.\n",
      "\n",
      "If you want to sound like a native speaker, you must be willing to practice saying the same sentence over and over in the same way that banjo players practice the same phrase over and over until they can play it correctly and at the desired tempo.\n"
     ]
    }
   ],
   "source": [
    "target_raw, context_raw = load_data(path_to_file)\n",
    "print(context_raw[-1])\n",
    "print()\n",
    "print(target_raw[-1])"
   ]
  },
  {
   "cell_type": "markdown",
   "id": "85c8d0c9f0fae90d",
   "metadata": {
    "collapsed": false,
    "jp-MarkdownHeadingCollapsed": true
   },
   "source": [
    "### Prepare the dataset\n",
    "\n",
    "start with a tf.dataset"
   ]
  },
  {
   "cell_type": "code",
   "execution_count": 8,
   "id": "3540950289fad5ff",
   "metadata": {
    "collapsed": false,
    "ExecuteTime": {
     "end_time": "2023-12-27T18:57:19.908208100Z",
     "start_time": "2023-12-27T18:57:19.646975900Z"
    }
   },
   "outputs": [],
   "source": [
    "BUFFER_SIZE = len(context_raw)\n",
    "BATCH_SIZE = 64\n",
    "\n",
    "is_train = np.random.uniform(size=(len(target_raw),)) < 0.8\n",
    "\n",
    "train_raw = (\n",
    "    tf.data.Dataset\n",
    "    .from_tensor_slices((context_raw[is_train], target_raw[is_train]))\n",
    "    .shuffle(BUFFER_SIZE)\n",
    "    .batch(BATCH_SIZE))\n",
    "val_raw = (\n",
    "    tf.data.Dataset\n",
    "    .from_tensor_slices((context_raw[~is_train], target_raw[~is_train]))\n",
    "    .shuffle(BUFFER_SIZE)\n",
    "    .batch(BATCH_SIZE))"
   ]
  },
  {
   "cell_type": "code",
   "execution_count": 9,
   "id": "189fe63f5802ac68",
   "metadata": {
    "collapsed": false,
    "ExecuteTime": {
     "end_time": "2023-12-27T18:57:20.063330800Z",
     "start_time": "2023-12-27T18:57:19.911686600Z"
    }
   },
   "outputs": [
    {
     "name": "stdout",
     "output_type": "stream",
     "text": [
      "tf.Tensor(\n",
      "[b'Todo tiene soluci\\xc3\\xb3n, menos la muerte.'\n",
      " b'Tom es un conductor imprudente.' b'Vamos a preguntarle.'\n",
      " b'La buena noticia es que usted no va a morir.' b'No me pidas dinero.'], shape=(5,), dtype=string)\n",
      "\n",
      "tf.Tensor(\n",
      "[b\"There's a cure for everything, except death.\"\n",
      " b'Tom is a reckless driver.' b\"Let's ask him.\"\n",
      " b\"The good news is that you're not going to die.\"\n",
      " b\"Don't ask me for money.\"], shape=(5,), dtype=string)\n"
     ]
    }
   ],
   "source": [
    "for example_context_strings, example_target_strings in train_raw.take(1):\n",
    "  print(example_context_strings[:5])\n",
    "  print()\n",
    "  print(example_target_strings[:5])\n",
    "  break"
   ]
  },
  {
   "cell_type": "markdown",
   "id": "96aabcc98d18e1bf",
   "metadata": {
    "collapsed": false,
    "jp-MarkdownHeadingCollapsed": true
   },
   "source": [
    "### Preprocess the text\n",
    "\n",
    "- standardization\n",
    "  - unicode normalization - split accented characters and replace compat chars with ascii equivalents  \n",
    "- vectorization\n",
    "  - handles vocabulary extraction and conversion of input text into token sequences   "
   ]
  },
  {
   "cell_type": "code",
   "execution_count": 10,
   "id": "4ad3ca5df0b860bf",
   "metadata": {
    "collapsed": false,
    "ExecuteTime": {
     "end_time": "2023-12-27T18:57:20.098331500Z",
     "start_time": "2023-12-27T18:57:20.067367100Z"
    }
   },
   "outputs": [
    {
     "name": "stdout",
     "output_type": "stream",
     "text": [
      "b'\\xc2\\xbfTodav\\xc3\\xada est\\xc3\\xa1 en casa?'\n",
      "b'\\xc2\\xbfTodavi\\xcc\\x81a esta\\xcc\\x81 en casa?'\n"
     ]
    }
   ],
   "source": [
    "example_text = tf.constant('¿Todavía está en casa?')\n",
    "\n",
    "print(example_text.numpy())\n",
    "print(tf_text.normalize_utf8(example_text, 'NFKD').numpy())"
   ]
  },
  {
   "cell_type": "code",
   "execution_count": 11,
   "id": "9cc95e802d8302f6",
   "metadata": {
    "collapsed": false,
    "ExecuteTime": {
     "end_time": "2023-12-27T18:57:20.109840800Z",
     "start_time": "2023-12-27T18:57:20.097831100Z"
    }
   },
   "outputs": [],
   "source": [
    "def tf_lower_and_split_punct(text):\n",
    "  # Split accented characters.\n",
    "  text = tf_text.normalize_utf8(text, 'NFKD')\n",
    "  text = tf.strings.lower(text)\n",
    "  # Keep space, a to z, and select punctuation.\n",
    "  text = tf.strings.regex_replace(text, '[^ a-z.?!,¿]', '')\n",
    "  # Add spaces around punctuation.\n",
    "  text = tf.strings.regex_replace(text, '[.?!,¿]', r' \\0 ')\n",
    "  # Strip whitespace.\n",
    "  text = tf.strings.strip(text)\n",
    "\n",
    "  text = tf.strings.join(['[START]', text, '[END]'], separator=' ')\n",
    "  return text"
   ]
  },
  {
   "cell_type": "code",
   "execution_count": 12,
   "id": "d53472744ad3a46d",
   "metadata": {
    "collapsed": false,
    "ExecuteTime": {
     "end_time": "2023-12-27T18:57:20.132348Z",
     "start_time": "2023-12-27T18:57:20.113373Z"
    }
   },
   "outputs": [
    {
     "name": "stdout",
     "output_type": "stream",
     "text": [
      "¿Todavía está en casa?\n",
      "[START] ¿ todavia esta en casa ? [END]\n"
     ]
    }
   ],
   "source": [
    "print(example_text.numpy().decode())\n",
    "print(tf_lower_and_split_punct(example_text).numpy().decode())"
   ]
  },
  {
   "cell_type": "code",
   "execution_count": 13,
   "id": "fbd97412ebccd794",
   "metadata": {
    "collapsed": false,
    "ExecuteTime": {
     "end_time": "2023-12-27T18:57:20.158851700Z",
     "start_time": "2023-12-27T18:57:20.133348600Z"
    }
   },
   "outputs": [],
   "source": [
    "max_vocab_size = 5000\n",
    "\n",
    "context_text_processor = tf.keras.layers.TextVectorization(\n",
    "    standardize=tf_lower_and_split_punct,\n",
    "    max_tokens=max_vocab_size,\n",
    "    ragged=True)"
   ]
  },
  {
   "cell_type": "code",
   "execution_count": 14,
   "id": "6136b8100d248c56",
   "metadata": {
    "collapsed": false,
    "ExecuteTime": {
     "end_time": "2023-12-27T18:57:22.529120700Z",
     "start_time": "2023-12-27T18:57:20.164848400Z"
    }
   },
   "outputs": [
    {
     "data": {
      "text/plain": "['', '[UNK]', '[START]', '[END]', '.', 'que', 'de', 'el', 'a', 'no']"
     },
     "execution_count": 14,
     "metadata": {},
     "output_type": "execute_result"
    }
   ],
   "source": [
    "context_text_processor.adapt(train_raw.map(lambda context, target: context))\n",
    "\n",
    "# Here are the first 10 words from the vocabulary:\n",
    "context_text_processor.get_vocabulary()[:10]"
   ]
  },
  {
   "cell_type": "code",
   "execution_count": 15,
   "id": "3aa904d086488e79",
   "metadata": {
    "collapsed": false,
    "ExecuteTime": {
     "end_time": "2023-12-27T18:57:24.830001200Z",
     "start_time": "2023-12-27T18:57:22.534119800Z"
    }
   },
   "outputs": [
    {
     "data": {
      "text/plain": "['', '[UNK]', '[START]', '[END]', '.', 'the', 'i', 'to', 'you', 'tom']"
     },
     "execution_count": 15,
     "metadata": {},
     "output_type": "execute_result"
    }
   ],
   "source": [
    "target_text_processor = tf.keras.layers.TextVectorization(\n",
    "    standardize=tf_lower_and_split_punct,\n",
    "    max_tokens=max_vocab_size,\n",
    "    ragged=True)\n",
    "\n",
    "target_text_processor.adapt(train_raw.map(lambda context, target: target))\n",
    "target_text_processor.get_vocabulary()[:10]"
   ]
  },
  {
   "cell_type": "code",
   "execution_count": 16,
   "id": "ff6e5daa07e1339f",
   "metadata": {
    "collapsed": false,
    "ExecuteTime": {
     "end_time": "2023-12-27T18:57:24.904472200Z",
     "start_time": "2023-12-27T18:57:24.826439800Z"
    }
   },
   "outputs": [
    {
     "data": {
      "text/plain": "<tf.RaggedTensor [[2, 58, 44, 1425, 19, 211, 11, 557, 4, 3], [2, 10, 15, 16, 1507, 1, 4, 3],\n [2, 295, 8, 1692, 4, 3]]>"
     },
     "execution_count": 16,
     "metadata": {},
     "output_type": "execute_result"
    }
   ],
   "source": [
    "example_tokens = context_text_processor(example_context_strings)\n",
    "example_tokens[:3, :]"
   ]
  },
  {
   "cell_type": "code",
   "execution_count": 17,
   "id": "a44bde4e08203c6",
   "metadata": {
    "collapsed": false,
    "ExecuteTime": {
     "end_time": "2023-12-27T18:57:24.974560400Z",
     "start_time": "2023-12-27T18:57:24.904472200Z"
    }
   },
   "outputs": [
    {
     "name": "stdout",
     "output_type": "stream",
     "text": [
      "[   2   58   44 1425   19  211   11  557    4    3]\n",
      "tf.Tensor(\n",
      "[   2   58   44 1425   19  211   11  557    4    3    0    0    0    0\n",
      "    0    0    0    0    0], shape=(19,), dtype=int64)\n",
      "['[START]' 'todo' 'tiene' 'solucion' ',' 'menos' 'la' 'muerte' '.' '[END]']\n"
     ]
    }
   ],
   "source": [
    "print(example_tokens[0].numpy())\n",
    "context_vocab = np.array(context_text_processor.get_vocabulary())\n",
    "tokens = context_vocab[example_tokens[0].numpy()]\n",
    "' '.join(tokens)\n",
    "print(example_tokens.to_tensor()[0])\n",
    "print(tokens)"
   ]
  },
  {
   "cell_type": "markdown",
   "id": "7f394290bdaf4bf9",
   "metadata": {
    "collapsed": false
   },
   "source": [
    "you can see from the above that the returned tensors are zero padded - these can be used to form a mask"
   ]
  },
  {
   "cell_type": "code",
   "execution_count": 18,
   "id": "fa0ccc36bf5607f4",
   "metadata": {
    "collapsed": false,
    "ExecuteTime": {
     "end_time": "2023-12-27T18:57:25.326205300Z",
     "start_time": "2023-12-27T18:57:24.937568700Z"
    }
   },
   "outputs": [
    {
     "data": {
      "text/plain": "Text(0.5, 1.0, 'Mask')"
     },
     "execution_count": 18,
     "metadata": {},
     "output_type": "execute_result"
    },
    {
     "data": {
      "text/plain": "<Figure size 640x480 with 2 Axes>",
      "image/png": "[encoded data removed]"
     },
     "metadata": {},
     "output_type": "display_data"
    }
   ],
   "source": [
    "plt.subplot(1, 2, 1)\n",
    "plt.pcolormesh(example_tokens.to_tensor())\n",
    "plt.title('Token IDs')\n",
    "\n",
    "plt.subplot(1, 2, 2)\n",
    "plt.pcolormesh(example_tokens.to_tensor() != 0)\n",
    "plt.title('Mask')"
   ]
  },
  {
   "cell_type": "markdown",
   "id": "a6dc68a6ead29e8b",
   "metadata": {
    "collapsed": false,
    "jp-MarkdownHeadingCollapsed": true
   },
   "source": [
    "### process the dataset\n",
    "\n",
    "in the following function, (context, target) becomes ((context,target_in), target_out) for training\n",
    "keras expects (inputs, label) where here, (context, target_in) is the input, and target_out is the label\n",
    "the difference between _in and _out is that _out is shifted one character right, so at each location, the label is the next token (expected value)"
   ]
  },
  {
   "cell_type": "code",
   "execution_count": 19,
   "id": "9c48bdce959ed46d",
   "metadata": {
    "collapsed": false,
    "ExecuteTime": {
     "end_time": "2023-12-27T18:57:25.584493300Z",
     "start_time": "2023-12-27T18:57:25.330714600Z"
    }
   },
   "outputs": [],
   "source": [
    "def process_text(context, target):\n",
    "  context = context_text_processor(context).to_tensor()\n",
    "  target = target_text_processor(target)\n",
    "  targ_in = target[:,:-1].to_tensor()\n",
    "  targ_out = target[:,1:].to_tensor()\n",
    "  return (context, targ_in), targ_out\n",
    "\n",
    "train_ds = train_raw.map(process_text, tf.data.AUTOTUNE)\n",
    "val_ds = val_raw.map(process_text, tf.data.AUTOTUNE)"
   ]
  },
  {
   "cell_type": "code",
   "execution_count": 20,
   "id": "586132968a73ef1d",
   "metadata": {
    "collapsed": false,
    "ExecuteTime": {
     "end_time": "2023-12-27T18:57:25.788625Z",
     "start_time": "2023-12-27T18:57:25.588503200Z"
    }
   },
   "outputs": [
    {
     "name": "stdout",
     "output_type": "stream",
     "text": [
      "[   2  145  100  111    1   21 1037    7 2506    4]\n",
      "\n",
      "[   2  365 1257   32  207 1426   25 2067    4    0]\n",
      "[ 365 1257   32  207 1426   25 2067    4    3    0]\n"
     ]
    }
   ],
   "source": [
    "for (ex_context_tok, ex_tar_in), ex_tar_out in train_ds.take(1):\n",
    "  print(ex_context_tok[0, :10].numpy()) \n",
    "  print()\n",
    "  print(ex_tar_in[0, :10].numpy()) \n",
    "  print(ex_tar_out[0, :10].numpy())"
   ]
  },
  {
   "cell_type": "markdown",
   "id": "c98b59f19cc74593",
   "metadata": {
    "collapsed": false
   },
   "source": [
    "## Step 2 - The encoder / decoder architecture and model\n",
    "\n",
    "two simplifications from the original attention-based translation model - typically unnecessary:\n",
    "- feeding state from encoder's RNN to the decoder's RNN\n",
    "- Feeding attention output back to the RNN input \n"
   ]
  },
  {
   "cell_type": "code",
   "execution_count": 21,
   "id": "47592e41f927a42a",
   "metadata": {
    "collapsed": false,
    "ExecuteTime": {
     "end_time": "2023-12-27T18:57:25.810127600Z",
     "start_time": "2023-12-27T18:57:25.789128900Z"
    }
   },
   "outputs": [],
   "source": [
    "UNITS = 256"
   ]
  },
  {
   "cell_type": "markdown",
   "id": "d97dfe438659a1aa",
   "metadata": {
    "collapsed": false
   },
   "source": [
    "### The encoder design\n",
    "\n",
    "since context sequence is constant, information can flow between any units in the encoder, so use a bidirectional RNN\n",
    "\n",
    "1. gets a list of token IDs\n",
    "2. looks up an embedding vector for each token\n",
    "3. processes the embeddings into a new sequence (using a bidirectional RNN\n",
    "4. returns the processed sequence -> attention head"
   ]
  },
  {
   "cell_type": "code",
   "execution_count": 22,
   "id": "98dd03eace5a465",
   "metadata": {
    "collapsed": false,
    "ExecuteTime": {
     "end_time": "2023-12-27T18:57:25.867165900Z",
     "start_time": "2023-12-27T18:57:25.805627400Z"
    }
   },
   "outputs": [],
   "source": [
    "class Encoder(tf.keras.layers.Layer):\n",
    "  def __init__(self, text_processor, units):\n",
    "    super(Encoder, self).__init__()\n",
    "    self.text_processor = text_processor\n",
    "    self.vocab_size = text_processor.vocabulary_size()\n",
    "    self.units = units\n",
    "\n",
    "    # The embedding layer converts tokens to vectors\n",
    "    self.embedding = tf.keras.layers.Embedding(self.vocab_size, units,\n",
    "                                               mask_zero=True)\n",
    "\n",
    "    # The RNN layer processes those vectors sequentially.\n",
    "    self.rnn = tf.keras.layers.Bidirectional(\n",
    "        merge_mode='sum',\n",
    "        layer=tf.keras.layers.GRU(units,\n",
    "                            # Return the sequence and state\n",
    "                            return_sequences=True,\n",
    "                            recurrent_initializer='glorot_uniform'))\n",
    "\n",
    "  def call(self, x):\n",
    "    shape_checker = ShapeChecker()\n",
    "    shape_checker(x, 'batch s')\n",
    "\n",
    "    # 2. The embedding layer looks up the embedding vector for each token.\n",
    "    x = self.embedding(x)\n",
    "    shape_checker(x, 'batch s units')\n",
    "\n",
    "    # 3. The GRU processes the sequence of embeddings.\n",
    "    x = self.rnn(x)\n",
    "    shape_checker(x, 'batch s units')\n",
    "\n",
    "    # 4. Returns the new sequence of embeddings.\n",
    "    return x\n",
    "\n",
    "  def convert_input(self, texts):\n",
    "    texts = tf.convert_to_tensor(texts)\n",
    "    if len(texts.shape) == 0:\n",
    "      texts = tf.convert_to_tensor(texts)[tf.newaxis]\n",
    "    context = self.text_processor(texts).to_tensor()\n",
    "    context = self(context)\n",
    "    return context"
   ]
  },
  {
   "cell_type": "code",
   "execution_count": 23,
   "id": "a1eae5c7a7177d77",
   "metadata": {
    "collapsed": false,
    "ExecuteTime": {
     "end_time": "2023-12-27T18:57:39.672657400Z",
     "start_time": "2023-12-27T18:57:25.822152600Z"
    }
   },
   "outputs": [
    {
     "name": "stdout",
     "output_type": "stream",
     "text": [
      "Context tokens, shape (batch, s): (64, 18)\n",
      "Encoder output, shape (batch, s, units): (64, 18, 256)\n"
     ]
    }
   ],
   "source": [
    "# Encode the input sequence.\n",
    "encoder = Encoder(context_text_processor, UNITS)\n",
    "ex_context = encoder(ex_context_tok)\n",
    "\n",
    "print(f'Context tokens, shape (batch, s): {ex_context_tok.shape}')\n",
    "print(f'Encoder output, shape (batch, s, units): {ex_context.shape}')"
   ]
  },
  {
   "cell_type": "markdown",
   "id": "67687f2a52b69181",
   "metadata": {
    "collapsed": false,
    "jp-MarkdownHeadingCollapsed": true
   },
   "source": [
    "### the attention layer\n",
    "\n",
    "weighted average across comtext sequence - weights are a combination of context and \"query\" vectors"
   ]
  },
  {
   "cell_type": "code",
   "execution_count": 24,
   "id": "732d9305f09524a2",
   "metadata": {
    "collapsed": false,
    "ExecuteTime": {
     "end_time": "2023-12-27T18:57:39.689119700Z",
     "start_time": "2023-12-27T18:57:39.669128100Z"
    }
   },
   "outputs": [],
   "source": [
    "class CrossAttention(tf.keras.layers.Layer):\n",
    "  def __init__(self, units, **kwargs):\n",
    "    super().__init__()\n",
    "    self.mha = tf.keras.layers.MultiHeadAttention(key_dim=units, num_heads=1, **kwargs)\n",
    "    self.layernorm = tf.keras.layers.LayerNormalization()\n",
    "    self.add = tf.keras.layers.Add()\n",
    "\n",
    "  def call(self, x, context):\n",
    "    shape_checker = ShapeChecker()\n",
    "\n",
    "    shape_checker(x, 'batch t units')\n",
    "    shape_checker(context, 'batch s units')\n",
    "\n",
    "    attn_output, attn_scores = self.mha(\n",
    "        query=x,\n",
    "        value=context,\n",
    "        return_attention_scores=True)\n",
    "\n",
    "    shape_checker(x, 'batch t units')\n",
    "    shape_checker(attn_scores, 'batch heads t s')\n",
    "\n",
    "    # Cache the attention scores for plotting later.\n",
    "    attn_scores = tf.reduce_mean(attn_scores, axis=1)\n",
    "    shape_checker(attn_scores, 'batch t s')\n",
    "    self.last_attention_weights = attn_scores\n",
    "\n",
    "    x = self.add([x, attn_output])\n",
    "    x = self.layernorm(x)\n",
    "\n",
    "    return x"
   ]
  },
  {
   "cell_type": "code",
   "execution_count": 25,
   "id": "66aee0d9381649c3",
   "metadata": {
    "collapsed": false,
    "ExecuteTime": {
     "end_time": "2023-12-27T18:57:42.103979800Z",
     "start_time": "2023-12-27T18:57:39.683620700Z"
    }
   },
   "outputs": [
    {
     "name": "stdout",
     "output_type": "stream",
     "text": [
      "Context sequence, shape (batch, s, units): (64, 18, 256)\n",
      "Target sequence, shape (batch, t, units): (64, 16, 256)\n",
      "Attention result, shape (batch, t, units): (64, 16, 256)\n",
      "Attention weights, shape (batch, t, s):    (64, 16, 18)\n"
     ]
    }
   ],
   "source": [
    "attention_layer = CrossAttention(UNITS)\n",
    "\n",
    "# Attend to the encoded tokens\n",
    "embed = tf.keras.layers.Embedding(target_text_processor.vocabulary_size(),\n",
    "                                  output_dim=UNITS, mask_zero=True)\n",
    "ex_tar_embed = embed(ex_tar_in)\n",
    "\n",
    "result = attention_layer(ex_tar_embed, ex_context)\n",
    "\n",
    "print(f'Context sequence, shape (batch, s, units): {ex_context.shape}')\n",
    "print(f'Target sequence, shape (batch, t, units): {ex_tar_embed.shape}')\n",
    "print(f'Attention result, shape (batch, t, units): {result.shape}')\n",
    "print(f'Attention weights, shape (batch, t, s):    {attention_layer.last_attention_weights.shape}')"
   ]
  },
  {
   "cell_type": "code",
   "execution_count": 26,
   "id": "1c9d0d22b028a49b",
   "metadata": {
    "collapsed": false,
    "ExecuteTime": {
     "end_time": "2023-12-27T18:57:42.152086800Z",
     "start_time": "2023-12-27T18:57:42.100016Z"
    }
   },
   "outputs": [
    {
     "data": {
      "text/plain": "array([0.99999994, 0.99999994, 1.        , 1.        , 1.        ,\n       1.0000001 , 1.        , 1.        , 0.99999994, 1.        ,\n       1.        , 1.        , 1.        , 1.        , 1.        ,\n       1.        ], dtype=float32)"
     },
     "execution_count": 26,
     "metadata": {},
     "output_type": "execute_result"
    }
   ],
   "source": [
    "attention_layer.last_attention_weights[0].numpy().sum(axis=-1)"
   ]
  },
  {
   "cell_type": "code",
   "execution_count": 27,
   "id": "5fcc6245fe8df372",
   "metadata": {
    "collapsed": false,
    "ExecuteTime": {
     "end_time": "2023-12-27T18:57:42.411183500Z",
     "start_time": "2023-12-27T18:57:42.117990600Z"
    }
   },
   "outputs": [
    {
     "data": {
      "text/plain": "<Figure size 640x480 with 2 Axes>",
      "image/png": "[encoded data removed]"
     },
     "metadata": {},
     "output_type": "display_data"
    }
   ],
   "source": [
    "attention_weights = attention_layer.last_attention_weights\n",
    "mask=(ex_context_tok != 0).numpy()\n",
    "\n",
    "plt.subplot(1, 2, 1)\n",
    "plt.pcolormesh(mask*attention_weights[:, 0, :])\n",
    "plt.title('Attention weights')\n",
    "\n",
    "plt.subplot(1, 2, 2)\n",
    "plt.pcolormesh(mask)\n",
    "plt.title('Mask');"
   ]
  },
  {
   "cell_type": "markdown",
   "id": "cdb8fe6826f724da",
   "metadata": {
    "collapsed": false
   },
   "source": [
    "### the decoder\n",
    "\n",
    "1. looks up embeddings for each token in the target sequence\n",
    "2. uses an RNN to process target sequence, and to track generated state\n",
    "3. uses RNN output as the \"query\" to the attention layer, attending to encoder's output\n",
    "4. At each location it predicts the next token - unidirectional RNN to process target sequence"
   ]
  },
  {
   "cell_type": "code",
   "execution_count": 28,
   "id": "3130b8f22780e33a",
   "metadata": {
    "collapsed": false,
    "ExecuteTime": {
     "end_time": "2023-12-27T18:57:42.499705100Z",
     "start_time": "2023-12-27T18:57:42.415193800Z"
    }
   },
   "outputs": [],
   "source": [
    "class Decoder(tf.keras.layers.Layer):\n",
    "  @classmethod\n",
    "  def add_method(cls, fun):\n",
    "    setattr(cls, fun.__name__, fun)\n",
    "    return fun\n",
    "\n",
    "  def __init__(self, text_processor, units):\n",
    "    super(Decoder, self).__init__()\n",
    "    self.text_processor = text_processor\n",
    "    self.vocab_size = text_processor.vocabulary_size()\n",
    "    self.word_to_id = tf.keras.layers.StringLookup(\n",
    "        vocabulary=text_processor.get_vocabulary(),\n",
    "        mask_token='', oov_token='[UNK]')\n",
    "    self.id_to_word = tf.keras.layers.StringLookup(\n",
    "        vocabulary=text_processor.get_vocabulary(),\n",
    "        mask_token='', oov_token='[UNK]',\n",
    "        invert=True)\n",
    "    self.start_token = self.word_to_id('[START]')\n",
    "    self.end_token = self.word_to_id('[END]')\n",
    "\n",
    "    self.units = units\n",
    "\n",
    "\n",
    "    # 1. The embedding layer converts token IDs to vectors\n",
    "    self.embedding = tf.keras.layers.Embedding(self.vocab_size,\n",
    "                                               units, mask_zero=True)\n",
    "\n",
    "    # 2. The RNN keeps track of what's been generated so far.\n",
    "    self.rnn = tf.keras.layers.GRU(units,\n",
    "                                   return_sequences=True,\n",
    "                                   return_state=True,\n",
    "                                   recurrent_initializer='glorot_uniform')\n",
    "\n",
    "    # 3. The RNN output will be the query for the attention layer.\n",
    "    self.attention = CrossAttention(units)\n",
    "\n",
    "    # 4. This fully connected layer produces the logits for each\n",
    "    # output token.\n",
    "    self.output_layer = tf.keras.layers.Dense(self.vocab_size)"
   ]
  },
  {
   "cell_type": "code",
   "execution_count": 29,
   "id": "feb328e9ad3b3b1d",
   "metadata": {
    "collapsed": false,
    "ExecuteTime": {
     "end_time": "2023-12-27T18:57:42.504737200Z",
     "start_time": "2023-12-27T18:57:42.430204700Z"
    }
   },
   "outputs": [],
   "source": [
    "@Decoder.add_method\n",
    "def call(self,\n",
    "         context, x,\n",
    "         state=None,\n",
    "         return_state=False):  \n",
    "  shape_checker = ShapeChecker()\n",
    "  shape_checker(x, 'batch t')\n",
    "  shape_checker(context, 'batch s units')\n",
    "\n",
    "  # 1. Lookup the embeddings\n",
    "  x = self.embedding(x)\n",
    "  shape_checker(x, 'batch t units')\n",
    "\n",
    "  # 2. Process the target sequence.\n",
    "  x, state = self.rnn(x, initial_state=state)\n",
    "  shape_checker(x, 'batch t units')\n",
    "\n",
    "  # 3. Use the RNN output as the query for the attention over the context.\n",
    "  x = self.attention(x, context)\n",
    "  self.last_attention_weights = self.attention.last_attention_weights\n",
    "  shape_checker(x, 'batch t units')\n",
    "  shape_checker(self.last_attention_weights, 'batch t s')\n",
    "\n",
    "  # Step 4. Generate logit predictions for the next token.\n",
    "  logits = self.output_layer(x)\n",
    "  shape_checker(logits, 'batch t target_vocab_size')\n",
    "\n",
    "  if return_state:\n",
    "    return logits, state\n",
    "  else:\n",
    "    return logits"
   ]
  },
  {
   "cell_type": "code",
   "execution_count": 30,
   "id": "a03146cea4850bea",
   "metadata": {
    "collapsed": false,
    "ExecuteTime": {
     "end_time": "2023-12-27T18:57:42.579792600Z",
     "start_time": "2023-12-27T18:57:42.442695900Z"
    }
   },
   "outputs": [],
   "source": [
    "decoder = Decoder(target_text_processor, UNITS)"
   ]
  },
  {
   "cell_type": "code",
   "execution_count": 31,
   "id": "de52f762c5b8853d",
   "metadata": {
    "collapsed": false,
    "ExecuteTime": {
     "end_time": "2023-12-27T18:57:42.800993900Z",
     "start_time": "2023-12-27T18:57:42.581797300Z"
    }
   },
   "outputs": [
    {
     "name": "stdout",
     "output_type": "stream",
     "text": [
      "encoder output shape: (batch, s, units) (64, 18, 256)\n",
      "input target tokens shape: (batch, t) (64, 16)\n",
      "logits shape shape: (batch, target_vocabulary_size) (64, 16, 5000)\n"
     ]
    }
   ],
   "source": [
    "logits = decoder(ex_context, ex_tar_in)\n",
    "\n",
    "print(f'encoder output shape: (batch, s, units) {ex_context.shape}')\n",
    "print(f'input target tokens shape: (batch, t) {ex_tar_in.shape}')\n",
    "print(f'logits shape shape: (batch, target_vocabulary_size) {logits.shape}')"
   ]
  },
  {
   "cell_type": "code",
   "execution_count": 32,
   "id": "c8d1bc78091ddc56",
   "metadata": {
    "collapsed": false,
    "ExecuteTime": {
     "end_time": "2023-12-27T18:57:42.804994Z",
     "start_time": "2023-12-27T18:57:42.791493800Z"
    }
   },
   "outputs": [],
   "source": [
    "@Decoder.add_method\n",
    "def get_initial_state(self, context):\n",
    "  batch_size = tf.shape(context)[0]\n",
    "  start_tokens = tf.fill([batch_size, 1], self.start_token)\n",
    "  done = tf.zeros([batch_size, 1], dtype=tf.bool)\n",
    "  embedded = self.embedding(start_tokens)\n",
    "  return start_tokens, done, self.rnn.get_initial_state(embedded)[0]"
   ]
  },
  {
   "cell_type": "code",
   "execution_count": 33,
   "id": "4ebf4c242e5cf209",
   "metadata": {
    "collapsed": false,
    "ExecuteTime": {
     "end_time": "2023-12-27T18:57:42.886503300Z",
     "start_time": "2023-12-27T18:57:42.803994500Z"
    }
   },
   "outputs": [],
   "source": [
    "@Decoder.add_method\n",
    "def tokens_to_text(self, tokens):\n",
    "  words = self.id_to_word(tokens)\n",
    "  result = tf.strings.reduce_join(words, axis=-1, separator=' ')\n",
    "  result = tf.strings.regex_replace(result, '^ *\\[START\\] *', '')\n",
    "  result = tf.strings.regex_replace(result, ' *\\[END\\] *$', '')\n",
    "  return result"
   ]
  },
  {
   "cell_type": "code",
   "execution_count": 34,
   "id": "d1e3b3530a2a036b",
   "metadata": {
    "collapsed": false,
    "ExecuteTime": {
     "end_time": "2023-12-27T18:57:42.890503900Z",
     "start_time": "2023-12-27T18:57:42.816494900Z"
    }
   },
   "outputs": [],
   "source": [
    "@Decoder.add_method\n",
    "def get_next_token(self, context, next_token, done, state, temperature = 0.0):\n",
    "  logits, state = self(\n",
    "    context, next_token,\n",
    "    state = state,\n",
    "    return_state=True) \n",
    "\n",
    "  if temperature == 0.0:\n",
    "    next_token = tf.argmax(logits, axis=-1)\n",
    "  else:\n",
    "    logits = logits[:, -1, :]/temperature\n",
    "    next_token = tf.random.categorical(logits, num_samples=1)\n",
    "\n",
    "  # If a sequence produces an `end_token`, set it `done`\n",
    "  done = done | (next_token == self.end_token)\n",
    "  # Once a sequence is done it only produces 0-padding.\n",
    "  next_token = tf.where(done, tf.constant(0, dtype=tf.int64), next_token)\n",
    "\n",
    "  return next_token, done, state"
   ]
  },
  {
   "cell_type": "code",
   "execution_count": 35,
   "id": "ec80df5eb89305b9",
   "metadata": {
    "collapsed": false,
    "ExecuteTime": {
     "end_time": "2023-12-27T18:57:43.515691800Z",
     "start_time": "2023-12-27T18:57:42.837998Z"
    }
   },
   "outputs": [
    {
     "data": {
      "text/plain": "array([b'rain date earthquake warning four severe presence per despite hammer',\n       b'romantic snowman apologize shut cruel single selling seatbelt boasts cheered',\n       b'opened created pay jerk spoken loved proposed so oysters chewing'],\n      dtype=object)"
     },
     "execution_count": 35,
     "metadata": {},
     "output_type": "execute_result"
    }
   ],
   "source": [
    "# Setup the loop variables.\n",
    "next_token, done, state = decoder.get_initial_state(ex_context)\n",
    "tokens = []\n",
    "\n",
    "for n in range(10):\n",
    "  # Run one step.\n",
    "  next_token, done, state = decoder.get_next_token(\n",
    "      ex_context, next_token, done, state, temperature=1.0)\n",
    "  # Add the token to the output.\n",
    "  tokens.append(next_token)\n",
    "\n",
    "# Stack all the tokens together.\n",
    "tokens = tf.concat(tokens, axis=-1) # (batch, t)\n",
    "\n",
    "# Convert the tokens back to a a string\n",
    "result = decoder.tokens_to_text(tokens)\n",
    "result[:3].numpy()"
   ]
  },
  {
   "cell_type": "markdown",
   "id": "8967f304757ac93d",
   "metadata": {
    "collapsed": false
   },
   "source": [
    "## The complete model\n"
   ]
  },
  {
   "cell_type": "code",
   "execution_count": 36,
   "id": "3e588b205cb26400",
   "metadata": {
    "collapsed": false,
    "ExecuteTime": {
     "end_time": "2023-12-27T18:57:43.556709Z",
     "start_time": "2023-12-27T18:57:43.521194200Z"
    }
   },
   "outputs": [],
   "source": [
    "class Translator(tf.keras.Model):\n",
    "  @classmethod\n",
    "  def add_method(cls, fun):\n",
    "    setattr(cls, fun.__name__, fun)\n",
    "    return fun\n",
    "\n",
    "  def __init__(self, units,\n",
    "               context_text_processor,\n",
    "               target_text_processor):\n",
    "    super().__init__()\n",
    "    # Build the encoder and decoder\n",
    "    encoder = Encoder(context_text_processor, units)\n",
    "    decoder = Decoder(target_text_processor, units)\n",
    "\n",
    "    self.encoder = encoder\n",
    "    self.decoder = decoder\n",
    "\n",
    "  def call(self, inputs):\n",
    "    context, x = inputs\n",
    "    context = self.encoder(context)\n",
    "    logits = self.decoder(context, x)\n",
    "\n",
    "    #TODO(b/250038731): remove this\n",
    "    try:\n",
    "      # Delete the keras mask, so keras doesn't scale the loss+accuracy. \n",
    "      del logits._keras_mask\n",
    "    except AttributeError:\n",
    "      pass\n",
    "\n",
    "    return logits"
   ]
  },
  {
   "cell_type": "code",
   "execution_count": 36,
   "id": "4a7d43c5b82d6813",
   "metadata": {
    "collapsed": false,
    "ExecuteTime": {
     "end_time": "2023-12-27T18:57:43.596210800Z",
     "start_time": "2023-12-27T18:57:43.529700300Z"
    }
   },
   "outputs": [],
   "source": []
  },
  {
   "cell_type": "code",
   "execution_count": 37,
   "id": "eab06dfb65c1fd00",
   "metadata": {
    "collapsed": false,
    "ExecuteTime": {
     "end_time": "2023-12-27T18:57:43.798329600Z",
     "start_time": "2023-12-27T18:57:43.545713100Z"
    }
   },
   "outputs": [
    {
     "name": "stdout",
     "output_type": "stream",
     "text": [
      "Context tokens, shape: (batch, s, units) (64, 18)\n",
      "Target tokens, shape: (batch, t) (64, 16)\n",
      "logits, shape: (batch, t, target_vocabulary_size) (64, 16, 5000)\n"
     ]
    }
   ],
   "source": [
    "model = Translator(UNITS, context_text_processor, target_text_processor)\n",
    "\n",
    "logits = model((ex_context_tok, ex_tar_in))\n",
    "\n",
    "print(f'Context tokens, shape: (batch, s, units) {ex_context_tok.shape}')\n",
    "print(f'Target tokens, shape: (batch, t) {ex_tar_in.shape}')\n",
    "print(f'logits, shape: (batch, t, target_vocabulary_size) {logits.shape}')"
   ]
  },
  {
   "cell_type": "code",
   "execution_count": 38,
   "id": "b59295643498dbd3",
   "metadata": {
    "collapsed": false,
    "ExecuteTime": {
     "end_time": "2023-12-27T18:57:45.344339700Z",
     "start_time": "2023-12-27T18:57:43.795327200Z"
    }
   },
   "outputs": [],
   "source": [
    "def masked_loss(y_true, y_pred):\n",
    "    # Calculate the loss for each item in the batch.\n",
    "    loss_fn = tf.keras.losses.SparseCategoricalCrossentropy(\n",
    "        from_logits=True, reduction='none')\n",
    "    loss = loss_fn(y_true, y_pred)\n",
    "\n",
    "    # Mask off the losses on padding.\n",
    "    mask = tf.cast(y_true != 0, loss.dtype)\n",
    "    loss *= mask\n",
    "\n",
    "    # Return the total.\n",
    "    return tf.reduce_sum(loss)/tf.reduce_sum(mask)"
   ]
  },
  {
   "cell_type": "code",
   "execution_count": 39,
   "id": "b756c345011f23b",
   "metadata": {
    "collapsed": false,
    "ExecuteTime": {
     "end_time": "2023-12-27T18:57:45.347352100Z",
     "start_time": "2023-12-27T18:57:43.811826900Z"
    }
   },
   "outputs": [],
   "source": [
    "def masked_acc(y_true, y_pred):\n",
    "    # Calculate the loss for each item in the batch.\n",
    "    y_pred = tf.argmax(y_pred, axis=-1)\n",
    "    y_pred = tf.cast(y_pred, y_true.dtype)\n",
    "\n",
    "    match = tf.cast(y_true == y_pred, tf.float32)\n",
    "    mask = tf.cast(y_true != 0, tf.float32)\n",
    "\n",
    "    return tf.reduce_sum(match)/tf.reduce_sum(mask)"
   ]
  },
  {
   "cell_type": "code",
   "execution_count": 40,
   "id": "c5f77e99afe65e68",
   "metadata": {
    "collapsed": false,
    "ExecuteTime": {
     "end_time": "2023-12-27T18:57:45.373350800Z",
     "start_time": "2023-12-27T18:57:43.835829500Z"
    }
   },
   "outputs": [],
   "source": [
    "model.compile(optimizer='adam',\n",
    "              loss=masked_loss, \n",
    "              metrics=[masked_acc, masked_loss])"
   ]
  },
  {
   "cell_type": "code",
   "execution_count": 41,
   "id": "f12640adf599e516",
   "metadata": {
    "collapsed": false,
    "ExecuteTime": {
     "end_time": "2023-12-27T18:57:46.136450Z",
     "start_time": "2023-12-27T18:57:43.888339700Z"
    }
   },
   "outputs": [
    {
     "data": {
      "text/plain": "{'expected_loss': 8.517193, 'expected_acc': 0.0002}"
     },
     "execution_count": 41,
     "metadata": {},
     "output_type": "execute_result"
    }
   ],
   "source": [
    "vocab_size = 1.0 * target_text_processor.vocabulary_size()\n",
    "\n",
    "{\"expected_loss\": tf.math.log(vocab_size).numpy(),\n",
    " \"expected_acc\": 1/vocab_size}"
   ]
  },
  {
   "cell_type": "code",
   "execution_count": 42,
   "id": "2c68fb94c4fa2598",
   "metadata": {
    "collapsed": false,
    "ExecuteTime": {
     "end_time": "2023-12-27T18:57:53.599408300Z",
     "start_time": "2023-12-27T18:57:46.071444800Z"
    }
   },
   "outputs": [
    {
     "name": "stdout",
     "output_type": "stream",
     "text": [
      "20/20 [==============================] - 7s 31ms/step - loss: 8.5229 - masked_acc: 0.0000e+00 - masked_loss: 8.5229\n"
     ]
    },
    {
     "data": {
      "text/plain": "{'loss': 8.52292537689209, 'masked_acc': 0.0, 'masked_loss': 8.52292537689209}"
     },
     "execution_count": 42,
     "metadata": {},
     "output_type": "execute_result"
    }
   ],
   "source": [
    "model.evaluate(val_ds, steps=20, return_dict=True)\n"
   ]
  },
  {
   "cell_type": "code",
   "execution_count": 43,
   "id": "51a0c1d380b1f11f",
   "metadata": {
    "collapsed": false,
    "ExecuteTime": {
     "end_time": "2023-12-27T19:00:32.964595600Z",
     "start_time": "2023-12-27T18:57:53.594906400Z"
    }
   },
   "outputs": [
    {
     "name": "stdout",
     "output_type": "stream",
     "text": [
      "Epoch 1/100\n",
      "100/100 [==============================] - 22s 54ms/step - loss: 5.0738 - masked_acc: 0.2599 - masked_loss: 5.0738 - val_loss: 4.1066 - val_masked_acc: 0.3570 - val_masked_loss: 4.1066\n",
      "Epoch 2/100\n",
      "100/100 [==============================] - 4s 42ms/step - loss: 3.7519 - masked_acc: 0.3960 - masked_loss: 3.7519 - val_loss: 3.3211 - val_masked_acc: 0.4514 - val_masked_loss: 3.3211\n",
      "Epoch 3/100\n",
      "100/100 [==============================] - 4s 42ms/step - loss: 3.1162 - masked_acc: 0.4831 - masked_loss: 3.1162 - val_loss: 2.8362 - val_masked_acc: 0.5259 - val_masked_loss: 2.8362\n",
      "Epoch 4/100\n",
      "100/100 [==============================] - 4s 43ms/step - loss: 2.6996 - masked_acc: 0.5396 - masked_loss: 2.6996 - val_loss: 2.4925 - val_masked_acc: 0.5647 - val_masked_loss: 2.4925\n",
      "Epoch 5/100\n",
      "100/100 [==============================] - 4s 42ms/step - loss: 2.4284 - masked_acc: 0.5760 - masked_loss: 2.4284 - val_loss: 2.1902 - val_masked_acc: 0.6061 - val_masked_loss: 2.1902\n",
      "Epoch 6/100\n",
      "100/100 [==============================] - 4s 43ms/step - loss: 2.1841 - masked_acc: 0.6127 - masked_loss: 2.1841 - val_loss: 2.0255 - val_masked_acc: 0.6294 - val_masked_loss: 2.0255\n",
      "Epoch 7/100\n",
      "100/100 [==============================] - 4s 42ms/step - loss: 1.9915 - masked_acc: 0.6409 - masked_loss: 1.9915 - val_loss: 1.9086 - val_masked_acc: 0.6516 - val_masked_loss: 1.9086\n",
      "Epoch 8/100\n",
      "100/100 [==============================] - 4s 42ms/step - loss: 1.8818 - masked_acc: 0.6566 - masked_loss: 1.8818 - val_loss: 1.8258 - val_masked_acc: 0.6636 - val_masked_loss: 1.8258\n",
      "Epoch 9/100\n",
      "100/100 [==============================] - 4s 42ms/step - loss: 1.7875 - masked_acc: 0.6697 - masked_loss: 1.7875 - val_loss: 1.6738 - val_masked_acc: 0.6852 - val_masked_loss: 1.6738\n",
      "Epoch 10/100\n",
      "100/100 [==============================] - 4s 43ms/step - loss: 1.6768 - masked_acc: 0.6859 - masked_loss: 1.6768 - val_loss: 1.6714 - val_masked_acc: 0.6803 - val_masked_loss: 1.6714\n",
      "Epoch 11/100\n",
      "100/100 [==============================] - 4s 42ms/step - loss: 1.6150 - masked_acc: 0.6932 - masked_loss: 1.6150 - val_loss: 1.5679 - val_masked_acc: 0.7014 - val_masked_loss: 1.5679\n",
      "Epoch 12/100\n",
      "100/100 [==============================] - 4s 44ms/step - loss: 1.5673 - masked_acc: 0.6994 - masked_loss: 1.5673 - val_loss: 1.5042 - val_masked_acc: 0.7054 - val_masked_loss: 1.5042\n",
      "Epoch 13/100\n",
      "100/100 [==============================] - 4s 44ms/step - loss: 1.5049 - masked_acc: 0.7061 - masked_loss: 1.5049 - val_loss: 1.5024 - val_masked_acc: 0.7063 - val_masked_loss: 1.5024\n",
      "Epoch 14/100\n",
      "100/100 [==============================] - 4s 43ms/step - loss: 1.4784 - masked_acc: 0.7138 - masked_loss: 1.4784 - val_loss: 1.4235 - val_masked_acc: 0.7221 - val_masked_loss: 1.4235\n",
      "Epoch 15/100\n",
      "100/100 [==============================] - 4s 44ms/step - loss: 1.4207 - masked_acc: 0.7183 - masked_loss: 1.4199 - val_loss: 1.3850 - val_masked_acc: 0.7219 - val_masked_loss: 1.3850\n",
      "Epoch 16/100\n",
      "100/100 [==============================] - 4s 43ms/step - loss: 1.1866 - masked_acc: 0.7522 - masked_loss: 1.1866 - val_loss: 1.3495 - val_masked_acc: 0.7262 - val_masked_loss: 1.3495\n",
      "Epoch 17/100\n",
      "100/100 [==============================] - 4s 43ms/step - loss: 1.2040 - masked_acc: 0.7471 - masked_loss: 1.2040 - val_loss: 1.3869 - val_masked_acc: 0.7232 - val_masked_loss: 1.3869\n",
      "Epoch 18/100\n",
      "100/100 [==============================] - 4s 43ms/step - loss: 1.1979 - masked_acc: 0.7488 - masked_loss: 1.1979 - val_loss: 1.3513 - val_masked_acc: 0.7332 - val_masked_loss: 1.3513\n",
      "Epoch 19/100\n",
      "100/100 [==============================] - 4s 42ms/step - loss: 1.2212 - masked_acc: 0.7438 - masked_loss: 1.2212 - val_loss: 1.2918 - val_masked_acc: 0.7401 - val_masked_loss: 1.2918\n",
      "Epoch 20/100\n",
      "100/100 [==============================] - 4s 43ms/step - loss: 1.1988 - masked_acc: 0.7475 - masked_loss: 1.1988 - val_loss: 1.3453 - val_masked_acc: 0.7268 - val_masked_loss: 1.3453\n",
      "Epoch 21/100\n",
      "100/100 [==============================] - 4s 42ms/step - loss: 1.1964 - masked_acc: 0.7483 - masked_loss: 1.1964 - val_loss: 1.3259 - val_masked_acc: 0.7336 - val_masked_loss: 1.3259\n",
      "Epoch 22/100\n",
      "100/100 [==============================] - 4s 43ms/step - loss: 1.2171 - masked_acc: 0.7458 - masked_loss: 1.2171 - val_loss: 1.2890 - val_masked_acc: 0.7361 - val_masked_loss: 1.2890\n",
      "Epoch 23/100\n",
      "100/100 [==============================] - 4s 42ms/step - loss: 1.1832 - masked_acc: 0.7511 - masked_loss: 1.1832 - val_loss: 1.2528 - val_masked_acc: 0.7438 - val_masked_loss: 1.2528\n",
      "Epoch 24/100\n",
      "100/100 [==============================] - 4s 42ms/step - loss: 1.1657 - masked_acc: 0.7542 - masked_loss: 1.1657 - val_loss: 1.2785 - val_masked_acc: 0.7411 - val_masked_loss: 1.2785\n",
      "Epoch 25/100\n",
      "100/100 [==============================] - 4s 42ms/step - loss: 1.1672 - masked_acc: 0.7549 - masked_loss: 1.1672 - val_loss: 1.2383 - val_masked_acc: 0.7508 - val_masked_loss: 1.2383\n",
      "Epoch 26/100\n",
      "100/100 [==============================] - 4s 44ms/step - loss: 1.1460 - masked_acc: 0.7581 - masked_loss: 1.1460 - val_loss: 1.2133 - val_masked_acc: 0.7569 - val_masked_loss: 1.2133\n",
      "Epoch 27/100\n",
      "100/100 [==============================] - 4s 42ms/step - loss: 1.1332 - masked_acc: 0.7585 - masked_loss: 1.1332 - val_loss: 1.2690 - val_masked_acc: 0.7459 - val_masked_loss: 1.2690\n",
      "Epoch 28/100\n",
      "100/100 [==============================] - 4s 43ms/step - loss: 1.1317 - masked_acc: 0.7613 - masked_loss: 1.1317 - val_loss: 1.2126 - val_masked_acc: 0.7509 - val_masked_loss: 1.2126\n",
      "Epoch 29/100\n",
      "100/100 [==============================] - 4s 42ms/step - loss: 1.1299 - masked_acc: 0.7603 - masked_loss: 1.1299 - val_loss: 1.2181 - val_masked_acc: 0.7492 - val_masked_loss: 1.2181\n",
      "Epoch 30/100\n",
      "100/100 [==============================] - 4s 43ms/step - loss: 1.0636 - masked_acc: 0.7717 - masked_loss: 1.0635 - val_loss: 1.1298 - val_masked_acc: 0.7597 - val_masked_loss: 1.1298\n",
      "Epoch 31/100\n",
      "100/100 [==============================] - 4s 44ms/step - loss: 0.8941 - masked_acc: 0.7954 - masked_loss: 0.8941 - val_loss: 1.1572 - val_masked_acc: 0.7622 - val_masked_loss: 1.1572\n",
      "Epoch 32/100\n",
      "100/100 [==============================] - 4s 43ms/step - loss: 0.9210 - masked_acc: 0.7905 - masked_loss: 0.9210 - val_loss: 1.1635 - val_masked_acc: 0.7597 - val_masked_loss: 1.1635\n",
      "Epoch 33/100\n",
      "100/100 [==============================] - 4s 43ms/step - loss: 0.9080 - masked_acc: 0.7911 - masked_loss: 0.9080 - val_loss: 1.2439 - val_masked_acc: 0.7517 - val_masked_loss: 1.2439\n"
     ]
    }
   ],
   "source": [
    "history = model.fit(\n",
    "    train_ds.repeat(), \n",
    "    epochs=100,\n",
    "    steps_per_epoch = 100,\n",
    "    validation_data=val_ds,\n",
    "    validation_steps = 20,\n",
    "    callbacks=[\n",
    "        tf.keras.callbacks.EarlyStopping(patience=3)])"
   ]
  },
  {
   "cell_type": "code",
   "execution_count": 44,
   "id": "36d5919872a9b323",
   "metadata": {
    "collapsed": false,
    "ExecuteTime": {
     "end_time": "2023-12-27T19:00:33.138806600Z",
     "start_time": "2023-12-27T19:00:32.968595900Z"
    }
   },
   "outputs": [
    {
     "data": {
      "text/plain": "<matplotlib.legend.Legend at 0x15145929570>"
     },
     "execution_count": 44,
     "metadata": {},
     "output_type": "execute_result"
    },
    {
     "data": {
      "text/plain": "<Figure size 640x480 with 1 Axes>",
      "image/png": "[encoded data removed]"
     },
     "metadata": {},
     "output_type": "display_data"
    }
   ],
   "source": [
    "plt.plot(history.history['loss'], label='loss')\n",
    "plt.plot(history.history['val_loss'], label='val_loss')\n",
    "plt.ylim([0, max(plt.ylim())])\n",
    "plt.xlabel('Epoch #')\n",
    "plt.ylabel('CE/token')\n",
    "plt.legend()"
   ]
  },
  {
   "cell_type": "code",
   "execution_count": 45,
   "id": "5628888de70e43d3",
   "metadata": {
    "collapsed": false,
    "ExecuteTime": {
     "end_time": "2023-12-27T19:00:33.339391Z",
     "start_time": "2023-12-27T19:00:33.153307900Z"
    }
   },
   "outputs": [
    {
     "data": {
      "text/plain": "<matplotlib.legend.Legend at 0x1522dda1d50>"
     },
     "execution_count": 45,
     "metadata": {},
     "output_type": "execute_result"
    },
    {
     "data": {
      "text/plain": "<Figure size 640x480 with 1 Axes>",
      "image/png": "[encoded data removed]"
     },
     "metadata": {},
     "output_type": "display_data"
    }
   ],
   "source": [
    "plt.plot(history.history['masked_acc'], label='accuracy')\n",
    "plt.plot(history.history['val_masked_acc'], label='val_accuracy')\n",
    "plt.ylim([0, max(plt.ylim())])\n",
    "plt.xlabel('Epoch #')\n",
    "plt.ylabel('CE/token')\n",
    "plt.legend()"
   ]
  },
  {
   "cell_type": "code",
   "execution_count": 46,
   "id": "14545ba071f0b3a0",
   "metadata": {
    "collapsed": false,
    "ExecuteTime": {
     "end_time": "2023-12-27T19:00:33.362388600Z",
     "start_time": "2023-12-27T19:00:33.312380Z"
    }
   },
   "outputs": [],
   "source": [
    "@Translator.add_method\n",
    "def translate(self,\n",
    "              texts, *,\n",
    "              max_length=50,\n",
    "              temperature=0.0):\n",
    "  # Process the input texts\n",
    "  context = self.encoder.convert_input(texts)\n",
    "  batch_size = tf.shape(texts)[0]\n",
    "\n",
    "  # Setup the loop inputs\n",
    "  tokens = []\n",
    "  attention_weights = []\n",
    "  next_token, done, state = self.decoder.get_initial_state(context)\n",
    "\n",
    "  for _ in range(max_length):\n",
    "    # Generate the next token\n",
    "    next_token, done, state = self.decoder.get_next_token(\n",
    "        context, next_token, done,  state, temperature)\n",
    "\n",
    "    # Collect the generated tokens\n",
    "    tokens.append(next_token)\n",
    "    attention_weights.append(self.decoder.last_attention_weights)\n",
    "\n",
    "    if tf.executing_eagerly() and tf.reduce_all(done):\n",
    "      break\n",
    "\n",
    "  # Stack the lists of tokens and attention weights.\n",
    "  tokens = tf.concat(tokens, axis=-1)   # t*[(batch 1)] -> (batch, t)\n",
    "  self.last_attention_weights = tf.concat(attention_weights, axis=1)  # t*[(batch 1 s)] -> (batch, t s)\n",
    "\n",
    "  result = self.decoder.tokens_to_text(tokens)\n",
    "  return result"
   ]
  },
  {
   "cell_type": "code",
   "execution_count": 47,
   "id": "29bc68713cb8a1f3",
   "metadata": {
    "collapsed": false,
    "ExecuteTime": {
     "end_time": "2023-12-27T19:00:33.569428400Z",
     "start_time": "2023-12-27T19:00:33.324390100Z"
    }
   },
   "outputs": [
    {
     "data": {
      "text/plain": "'is he still home ? '"
     },
     "execution_count": 47,
     "metadata": {},
     "output_type": "execute_result"
    }
   ],
   "source": [
    "result = model.translate(['¿Todavía está en casa?']) # Are you still home\n",
    "result[0].numpy().decode()"
   ]
  },
  {
   "cell_type": "code",
   "execution_count": 48,
   "id": "e7fbdb0bc2e6f0e2",
   "metadata": {
    "collapsed": false,
    "ExecuteTime": {
     "end_time": "2023-12-27T19:00:33.621477500Z",
     "start_time": "2023-12-27T19:00:33.577429300Z"
    }
   },
   "outputs": [],
   "source": [
    "@Translator.add_method\n",
    "def plot_attention(self, text, **kwargs):\n",
    "  assert isinstance(text, str)\n",
    "  output = self.translate([text], **kwargs)\n",
    "  output = output[0].numpy().decode()\n",
    "\n",
    "  attention = self.last_attention_weights[0]\n",
    "\n",
    "  context = tf_lower_and_split_punct(text)\n",
    "  context = context.numpy().decode().split()\n",
    "\n",
    "  output = tf_lower_and_split_punct(output)\n",
    "  output = output.numpy().decode().split()[1:]\n",
    "\n",
    "  fig = plt.figure(figsize=(10, 10))\n",
    "  ax = fig.add_subplot(1, 1, 1)\n",
    "\n",
    "  ax.matshow(attention, cmap='viridis', vmin=0.0)\n",
    "\n",
    "  fontdict = {'fontsize': 14}\n",
    "\n",
    "  ax.set_xticklabels([''] + context, fontdict=fontdict, rotation=90)\n",
    "  ax.set_yticklabels([''] + output, fontdict=fontdict)\n",
    "\n",
    "  ax.xaxis.set_major_locator(ticker.MultipleLocator(1))\n",
    "  ax.yaxis.set_major_locator(ticker.MultipleLocator(1))\n",
    "\n",
    "  ax.set_xlabel('Input text')\n",
    "  ax.set_ylabel('Output text')"
   ]
  },
  {
   "cell_type": "code",
   "execution_count": 49,
   "id": "b7888162fc07e072",
   "metadata": {
    "collapsed": false,
    "ExecuteTime": {
     "end_time": "2023-12-27T19:00:34.101213900Z",
     "start_time": "2023-12-27T19:00:33.599419400Z"
    }
   },
   "outputs": [
    {
     "name": "stderr",
     "output_type": "stream",
     "text": [
      "C:\\Users\\john\\AppData\\Local\\Temp\\ipykernel_20616\\1396770852.py:22: UserWarning: set_ticklabels() should only be used with a fixed number of ticks, i.e. after set_ticks() or using a FixedLocator.\n",
      "  ax.set_xticklabels([''] + context, fontdict=fontdict, rotation=90)\n",
      "C:\\Users\\john\\AppData\\Local\\Temp\\ipykernel_20616\\1396770852.py:23: UserWarning: set_ticklabels() should only be used with a fixed number of ticks, i.e. after set_ticks() or using a FixedLocator.\n",
      "  ax.set_yticklabels([''] + output, fontdict=fontdict)\n"
     ]
    },
    {
     "data": {
      "text/plain": "<Figure size 1000x1000 with 1 Axes>",
      "image/png": "[encoded data removed]"
     },
     "metadata": {},
     "output_type": "display_data"
    }
   ],
   "source": [
    "model.plot_attention('¿Todavía está en casa?') # Are you still home"
   ]
  },
  {
   "cell_type": "code",
   "execution_count": 50,
   "id": "2797d41d6d209677",
   "metadata": {
    "collapsed": false,
    "ExecuteTime": {
     "end_time": "2023-12-27T19:00:34.574040200Z",
     "start_time": "2023-12-27T19:00:34.084705800Z"
    }
   },
   "outputs": [
    {
     "name": "stderr",
     "output_type": "stream",
     "text": [
      "C:\\Users\\john\\AppData\\Local\\Temp\\ipykernel_20616\\1396770852.py:22: UserWarning: set_ticklabels() should only be used with a fixed number of ticks, i.e. after set_ticks() or using a FixedLocator.\n",
      "  ax.set_xticklabels([''] + context, fontdict=fontdict, rotation=90)\n",
      "C:\\Users\\john\\AppData\\Local\\Temp\\ipykernel_20616\\1396770852.py:23: UserWarning: set_ticklabels() should only be used with a fixed number of ticks, i.e. after set_ticks() or using a FixedLocator.\n",
      "  ax.set_yticklabels([''] + output, fontdict=fontdict)\n"
     ]
    },
    {
     "name": "stdout",
     "output_type": "stream",
     "text": [
      "CPU times: total: 31.2 ms\n",
      "Wall time: 226 ms\n"
     ]
    },
    {
     "data": {
      "text/plain": "<Figure size 1000x1000 with 1 Axes>",
      "image/png": "[encoded data removed]"
     },
     "metadata": {},
     "output_type": "display_data"
    }
   ],
   "source": [
    "%%time\n",
    "# This is my life.\n",
    "model.plot_attention('Esta es mi vida.')"
   ]
  },
  {
   "cell_type": "code",
   "execution_count": 51,
   "id": "229c9de53a1a67fa",
   "metadata": {
    "collapsed": false,
    "ExecuteTime": {
     "end_time": "2023-12-27T19:00:35.129814700Z",
     "start_time": "2023-12-27T19:00:34.551533200Z"
    }
   },
   "outputs": [
    {
     "name": "stderr",
     "output_type": "stream",
     "text": [
      "C:\\Users\\john\\AppData\\Local\\Temp\\ipykernel_20616\\1396770852.py:22: UserWarning: set_ticklabels() should only be used with a fixed number of ticks, i.e. after set_ticks() or using a FixedLocator.\n",
      "  ax.set_xticklabels([''] + context, fontdict=fontdict, rotation=90)\n",
      "C:\\Users\\john\\AppData\\Local\\Temp\\ipykernel_20616\\1396770852.py:23: UserWarning: set_ticklabels() should only be used with a fixed number of ticks, i.e. after set_ticks() or using a FixedLocator.\n",
      "  ax.set_yticklabels([''] + output, fontdict=fontdict)\n"
     ]
    },
    {
     "name": "stdout",
     "output_type": "stream",
     "text": [
      "CPU times: total: 15.6 ms\n",
      "Wall time: 225 ms\n"
     ]
    },
    {
     "data": {
      "text/plain": "<Figure size 1000x1000 with 1 Axes>",
      "image/png": "[encoded data removed]"
     },
     "metadata": {},
     "output_type": "display_data"
    }
   ],
   "source": [
    "%%time\n",
    " # Try to find out.'\n",
    "model.plot_attention('Tratar de descubrir.')"
   ]
  },
  {
   "cell_type": "code",
   "execution_count": 52,
   "id": "628010540af59de2",
   "metadata": {
    "collapsed": false,
    "ExecuteTime": {
     "end_time": "2023-12-27T19:00:35.132816600Z",
     "start_time": "2023-12-27T19:00:35.015184100Z"
    }
   },
   "outputs": [
    {
     "name": "stdout",
     "output_type": "stream",
     "text": [
      "Expected output:\n",
      " If you want to sound like a native speaker, you must be willing to\n",
      "practice saying the same sentence over and over in the same way that\n",
      "banjo players practice the same phrase over and over until they can\n",
      "play it correctly and at the desired tempo.\n"
     ]
    }
   ],
   "source": [
    "long_text = context_raw[-1]\n",
    "\n",
    "import textwrap\n",
    "print('Expected output:\\n', '\\n'.join(textwrap.wrap(target_raw[-1])))"
   ]
  },
  {
   "cell_type": "code",
   "execution_count": 53,
   "id": "ad7bd010-b6b6-4a83-93ec-dfdf70dfe497",
   "metadata": {
    "ExecuteTime": {
     "end_time": "2023-12-27T19:00:36.403835700Z",
     "start_time": "2023-12-27T19:00:35.030739600Z"
    }
   },
   "outputs": [
    {
     "name": "stderr",
     "output_type": "stream",
     "text": [
      "C:\\Users\\john\\AppData\\Local\\Temp\\ipykernel_20616\\1396770852.py:22: UserWarning: set_ticklabels() should only be used with a fixed number of ticks, i.e. after set_ticks() or using a FixedLocator.\n",
      "  ax.set_xticklabels([''] + context, fontdict=fontdict, rotation=90)\n",
      "C:\\Users\\john\\AppData\\Local\\Temp\\ipykernel_20616\\1396770852.py:23: UserWarning: set_ticklabels() should only be used with a fixed number of ticks, i.e. after set_ticks() or using a FixedLocator.\n",
      "  ax.set_yticklabels([''] + output, fontdict=fontdict)\n"
     ]
    },
    {
     "data": {
      "text/plain": "<Figure size 1000x1000 with 1 Axes>",
      "image/png": "[encoded data removed]"
     },
     "metadata": {},
     "output_type": "display_data"
    }
   ],
   "source": [
    "model.plot_attention(long_text)"
   ]
  },
  {
   "cell_type": "code",
   "execution_count": 54,
   "id": "77a405f4-658b-43c2-b22f-d096c5ffafca",
   "metadata": {
    "ExecuteTime": {
     "end_time": "2023-12-27T19:00:36.488388100Z",
     "start_time": "2023-12-27T19:00:36.396835200Z"
    }
   },
   "outputs": [],
   "source": [
    "inputs = [\n",
    "    'Hace mucho frio aqui.', # \"It's really cold here.\"\n",
    "    'Esta es mi vida.', # \"This is my life.\"\n",
    "    'Su cuarto es un desastre.' # \"His room is a mess\"\n",
    "]"
   ]
  },
  {
   "cell_type": "code",
   "execution_count": 55,
   "id": "09b14a6b-400b-4a67-af5c-c25e07e36017",
   "metadata": {
    "ExecuteTime": {
     "end_time": "2023-12-27T19:00:37.136852100Z",
     "start_time": "2023-12-27T19:00:36.412340Z"
    }
   },
   "outputs": [
    {
     "name": "stdout",
     "output_type": "stream",
     "text": [
      "its very cold here . \n",
      "this is my life . \n",
      "his room is a mess . \n",
      "\n",
      "CPU times: total: 46.9 ms\n",
      "Wall time: 709 ms\n"
     ]
    }
   ],
   "source": [
    "%%time\n",
    "for t in inputs:\n",
    "  print(model.translate([t])[0].numpy().decode())\n",
    "\n",
    "print()"
   ]
  },
  {
   "cell_type": "code",
   "execution_count": 56,
   "id": "5e6b206a-5adb-48ef-9f27-879e35c6eb3a",
   "metadata": {
    "ExecuteTime": {
     "end_time": "2023-12-27T19:00:37.502695600Z",
     "start_time": "2023-12-27T19:00:37.138851900Z"
    }
   },
   "outputs": [
    {
     "name": "stdout",
     "output_type": "stream",
     "text": [
      "its very cold here .  \n",
      "this is my life .  \n",
      "his room is a mess . \n",
      "\n",
      "CPU times: total: 15.6 ms\n",
      "Wall time: 345 ms\n"
     ]
    }
   ],
   "source": [
    "%%time\n",
    "result = model.translate(inputs)\n",
    "\n",
    "print(result[0].numpy().decode())\n",
    "print(result[1].numpy().decode())\n",
    "print(result[2].numpy().decode())\n",
    "print()"
   ]
  },
  {
   "cell_type": "code",
   "execution_count": 57,
   "id": "ad5a4f77-66bc-49ea-a57a-00dfeee4a026",
   "metadata": {
    "ExecuteTime": {
     "end_time": "2023-12-27T19:00:37.539759900Z",
     "start_time": "2023-12-27T19:00:37.496697100Z"
    }
   },
   "outputs": [],
   "source": [
    "class Export(tf.Module):\n",
    "  def __init__(self, model):\n",
    "    self.model = model\n",
    "\n",
    "  @tf.function(input_signature=[tf.TensorSpec(dtype=tf.string, shape=[None])])\n",
    "  def translate(self, inputs):\n",
    "    return self.model.translate(inputs)"
   ]
  },
  {
   "cell_type": "code",
   "execution_count": 58,
   "id": "c163df4a-15b4-4787-b2f7-ee27fc6ed2b0",
   "metadata": {
    "ExecuteTime": {
     "end_time": "2023-12-27T19:00:37.542259900Z",
     "start_time": "2023-12-27T19:00:37.512713300Z"
    }
   },
   "outputs": [],
   "source": [
    "export = Export(model)"
   ]
  },
  {
   "cell_type": "code",
   "execution_count": 59,
   "id": "70643113-f821-4743-a1c6-85ed450f5d9d",
   "metadata": {
    "ExecuteTime": {
     "end_time": "2023-12-27T19:01:39.013326900Z",
     "start_time": "2023-12-27T19:00:37.527266500Z"
    }
   },
   "outputs": [
    {
     "name": "stdout",
     "output_type": "stream",
     "text": [
      "CPU times: total: 15.9 s\n",
      "Wall time: 1min 1s\n"
     ]
    }
   ],
   "source": [
    "%%time\n",
    "_ = export.translate(tf.constant(inputs))"
   ]
  },
  {
   "cell_type": "code",
   "execution_count": 60,
   "id": "10a793b3-41e0-4cfa-872b-376becaa486e",
   "metadata": {
    "ExecuteTime": {
     "end_time": "2023-12-27T19:01:39.270248100Z",
     "start_time": "2023-12-27T19:01:39.004860900Z"
    }
   },
   "outputs": [
    {
     "name": "stdout",
     "output_type": "stream",
     "text": [
      "its very cold here .                                             \n",
      "this is my life .                                             \n",
      "his room is a mess .                                            \n",
      "\n",
      "CPU times: total: 15.6 ms\n",
      "Wall time: 249 ms\n"
     ]
    }
   ],
   "source": [
    "%%time\n",
    "result = export.translate(tf.constant(inputs))\n",
    "\n",
    "print(result[0].numpy().decode())\n",
    "print(result[1].numpy().decode())\n",
    "print(result[2].numpy().decode())\n",
    "print()"
   ]
  },
  {
   "cell_type": "code",
   "execution_count": 61,
   "id": "8f2d18c3-80dd-4fd5-aca5-b70aa30f461b",
   "metadata": {
    "ExecuteTime": {
     "end_time": "2023-12-27T19:03:32.595573400Z",
     "start_time": "2023-12-27T19:01:39.269249900Z"
    }
   },
   "outputs": [
    {
     "name": "stderr",
     "output_type": "stream",
     "text": [
      "WARNING:absl:Found untraced functions such as embedding_3_layer_call_fn, embedding_3_layer_call_and_return_conditional_losses, embedding_4_layer_call_fn, embedding_4_layer_call_and_return_conditional_losses, cross_attention_2_layer_call_fn while saving (showing 5 of 32). These functions will not be directly callable after loading.\n"
     ]
    },
    {
     "name": "stdout",
     "output_type": "stream",
     "text": [
      "INFO:tensorflow:Assets written to: C:/LocalResearch/JPD-Research/translationWork/models/translator\\assets\n"
     ]
    },
    {
     "name": "stderr",
     "output_type": "stream",
     "text": [
      "INFO:tensorflow:Assets written to: C:/LocalResearch/JPD-Research/translationWork/models/translator\\assets\n"
     ]
    },
    {
     "name": "stdout",
     "output_type": "stream",
     "text": [
      "CPU times: total: 20.4 s\n",
      "Wall time: 1min 53s\n"
     ]
    }
   ],
   "source": [
    "%%time\n",
    "tf.saved_model.save(export, local_model_path+'translator',\n",
    "                    signatures={'serving_default': export.translate})"
   ]
  },
  {
   "cell_type": "code",
   "execution_count": 62,
   "id": "9c55f536-3523-41d5-a937-eb900aba3a37",
   "metadata": {
    "ExecuteTime": {
     "end_time": "2023-12-27T19:04:53.019509100Z",
     "start_time": "2023-12-27T19:03:32.605072100Z"
    }
   },
   "outputs": [
    {
     "name": "stdout",
     "output_type": "stream",
     "text": [
      "CPU times: total: 18.2 s\n",
      "Wall time: 1min 20s\n"
     ]
    }
   ],
   "source": [
    "%%time\n",
    "reloaded = tf.saved_model.load(local_model_path+'translator')\n",
    "_ = reloaded.translate(tf.constant(inputs)) #warmup"
   ]
  },
  {
   "cell_type": "code",
   "execution_count": 63,
   "id": "3c6494b8-3f2d-4413-8c72-abe857007375",
   "metadata": {
    "ExecuteTime": {
     "end_time": "2023-12-27T19:04:54.431841800Z",
     "start_time": "2023-12-27T19:04:53.024010600Z"
    }
   },
   "outputs": [
    {
     "name": "stdout",
     "output_type": "stream",
     "text": [
      "its very cold here .                                             \n",
      "this is my life .                                             \n",
      "his room is a mess .                                            \n",
      "\n",
      "CPU times: total: 46.9 ms\n",
      "Wall time: 1.39 s\n"
     ]
    }
   ],
   "source": [
    "%%time\n",
    "result = reloaded.translate(tf.constant(inputs))\n",
    "\n",
    "print(result[0].numpy().decode())\n",
    "print(result[1].numpy().decode())\n",
    "print(result[2].numpy().decode())\n",
    "print()"
   ]
  },
  {
   "cell_type": "code",
   "execution_count": 64,
   "id": "f89954d7-c709-4499-ad56-503edb4cdfcb",
   "metadata": {
    "ExecuteTime": {
     "end_time": "2023-12-27T19:04:56.370888800Z",
     "start_time": "2023-12-27T19:04:55.812043700Z"
    }
   },
   "outputs": [],
   "source": [
    "@Translator.add_method\n",
    "def translate(self,\n",
    "              texts,\n",
    "              *,\n",
    "              max_length=500,\n",
    "              temperature=tf.constant(0.0)):\n",
    "  shape_checker = ShapeChecker()\n",
    "  context = self.encoder.convert_input(texts)\n",
    "  batch_size = tf.shape(context)[0]\n",
    "  shape_checker(context, 'batch s units')\n",
    "\n",
    "  next_token, done, state = self.decoder.get_initial_state(context)\n",
    "\n",
    "  # initialize the accumulator\n",
    "  tokens = tf.TensorArray(tf.int64, size=1, dynamic_size=True)\n",
    "\n",
    "  for t in tf.range(max_length):\n",
    "    # Generate the next token\n",
    "    next_token, done, state = self.decoder.get_next_token(\n",
    "        context, next_token, done, state, temperature)\n",
    "    shape_checker(next_token, 'batch t1')\n",
    "\n",
    "    # Collect the generated tokens\n",
    "    tokens = tokens.write(t, next_token)\n",
    "\n",
    "    # if all the sequences are done, break\n",
    "    if tf.reduce_all(done):\n",
    "      break\n",
    "\n",
    "  # Convert the list of generated token ids to a list of strings.\n",
    "  tokens = tokens.stack()\n",
    "  shape_checker(tokens, 't batch t1')\n",
    "  tokens = einops.rearrange(tokens, 't batch 1 -> batch t')\n",
    "  shape_checker(tokens, 'batch t')\n",
    "\n",
    "  text = self.decoder.tokens_to_text(tokens)\n",
    "  shape_checker(text, 'batch')\n",
    "\n",
    "  return text"
   ]
  },
  {
   "cell_type": "code",
   "execution_count": 65,
   "id": "85eda35a-0bf2-4b67-b463-4e2bce13a68d",
   "metadata": {
    "ExecuteTime": {
     "end_time": "2023-12-27T19:05:18.589456800Z",
     "start_time": "2023-12-27T19:04:56.371887400Z"
    }
   },
   "outputs": [
    {
     "name": "stdout",
     "output_type": "stream",
     "text": [
      "its very cold here .  \n",
      "this is my life .  \n",
      "his room is a mess . \n",
      "\n",
      "CPU times: total: 78.1 ms\n",
      "Wall time: 22.8 s\n"
     ]
    }
   ],
   "source": [
    "%%time\n",
    "result = model.translate(inputs)\n",
    "\n",
    "print(result[0].numpy().decode())\n",
    "print(result[1].numpy().decode())\n",
    "print(result[2].numpy().decode())\n",
    "print()"
   ]
  },
  {
   "cell_type": "code",
   "execution_count": 66,
   "id": "325013d3-cee2-48c7-b72b-fc450d838413",
   "metadata": {
    "ExecuteTime": {
     "end_time": "2023-12-27T19:05:18.743432700Z",
     "start_time": "2023-12-27T19:05:18.725769600Z"
    }
   },
   "outputs": [],
   "source": [
    "class Export(tf.Module):\n",
    "  def __init__(self, model):\n",
    "    self.model = model\n",
    "\n",
    "  @tf.function(input_signature=[tf.TensorSpec(dtype=tf.string, shape=[None])])\n",
    "  def translate(self, inputs):\n",
    "    return self.model.translate(inputs)"
   ]
  },
  {
   "cell_type": "code",
   "execution_count": 67,
   "id": "a2a39ef5-eb6c-4caf-a5f5-bcaa5045e3a9",
   "metadata": {
    "ExecuteTime": {
     "end_time": "2023-12-27T19:06:47.155849100Z",
     "start_time": "2023-12-27T19:05:18.786041400Z"
    }
   },
   "outputs": [],
   "source": [
    "export = Export(model)"
   ]
  },
  {
   "cell_type": "code",
   "execution_count": 68,
   "id": "a7d851ee-4fec-48ab-a5e5-fd450a72ba8c",
   "metadata": {
    "ExecuteTime": {
     "end_time": "2023-12-27T19:06:54.189452900Z",
     "start_time": "2023-12-27T19:06:47.158885100Z"
    }
   },
   "outputs": [
    {
     "name": "stdout",
     "output_type": "stream",
     "text": [
      "CPU times: total: 1.41 s\n",
      "Wall time: 7.01 s\n"
     ]
    }
   ],
   "source": [
    "%%time\n",
    "_ = export.translate(inputs)"
   ]
  },
  {
   "cell_type": "code",
   "execution_count": 69,
   "id": "593e03bb-9d31-4cb9-a779-bac05176fc1e",
   "metadata": {
    "ExecuteTime": {
     "end_time": "2023-12-27T19:06:54.374295100Z",
     "start_time": "2023-12-27T19:06:54.216965600Z"
    }
   },
   "outputs": [
    {
     "name": "stdout",
     "output_type": "stream",
     "text": [
      "its very cold here .  \n",
      "this is my life .  \n",
      "his room is a mess . \n",
      "\n",
      "CPU times: total: 0 ns\n",
      "Wall time: 164 ms\n"
     ]
    }
   ],
   "source": [
    "%%time\n",
    "result = export.translate(inputs)\n",
    "\n",
    "print(result[0].numpy().decode())\n",
    "print(result[1].numpy().decode())\n",
    "print(result[2].numpy().decode())\n",
    "print()"
   ]
  },
  {
   "cell_type": "code",
   "execution_count": 70,
   "id": "3949a0be-c85d-4548-a2db-638922916210",
   "metadata": {
    "ExecuteTime": {
     "end_time": "2023-12-27T19:07:26.265932700Z",
     "start_time": "2023-12-27T19:06:54.387792900Z"
    }
   },
   "outputs": [
    {
     "name": "stderr",
     "output_type": "stream",
     "text": [
      "WARNING:absl:Found untraced functions such as embedding_3_layer_call_fn, embedding_3_layer_call_and_return_conditional_losses, embedding_4_layer_call_fn, embedding_4_layer_call_and_return_conditional_losses, cross_attention_2_layer_call_fn while saving (showing 5 of 32). These functions will not be directly callable after loading.\n"
     ]
    },
    {
     "name": "stdout",
     "output_type": "stream",
     "text": [
      "INFO:tensorflow:Assets written to: C:/LocalResearch/JPD-Research/translationWork/models/dynamic_translator\\assets\n"
     ]
    },
    {
     "name": "stderr",
     "output_type": "stream",
     "text": [
      "INFO:tensorflow:Assets written to: C:/LocalResearch/JPD-Research/translationWork/models/dynamic_translator\\assets\n"
     ]
    },
    {
     "name": "stdout",
     "output_type": "stream",
     "text": [
      "CPU times: total: 10.6 s\n",
      "Wall time: 31.9 s\n"
     ]
    }
   ],
   "source": [
    "%%time\n",
    "tf.saved_model.save(export, local_model_path+'dynamic_translator',\n",
    "                    signatures={'serving_default': export.translate})"
   ]
  },
  {
   "cell_type": "code",
   "execution_count": 71,
   "id": "bdc4f67f-dda7-4ff4-a6bf-ca842640ba73",
   "metadata": {
    "ExecuteTime": {
     "end_time": "2023-12-27T19:09:16.064367100Z",
     "start_time": "2023-12-27T19:07:26.267906100Z"
    }
   },
   "outputs": [
    {
     "name": "stdout",
     "output_type": "stream",
     "text": [
      "CPU times: total: 5.84 s\n",
      "Wall time: 1min 49s\n"
     ]
    }
   ],
   "source": [
    "%%time\n",
    "reloaded = tf.saved_model.load(local_model_path+'dynamic_translator')\n",
    "_ = reloaded.translate(tf.constant(inputs)) #warmup"
   ]
  },
  {
   "cell_type": "code",
   "execution_count": 72,
   "id": "c90116e6-971e-43ac-841c-04e491e293fe",
   "metadata": {
    "ExecuteTime": {
     "end_time": "2023-12-27T19:09:16.405009Z",
     "start_time": "2023-12-27T19:09:16.026093Z"
    }
   },
   "outputs": [
    {
     "name": "stdout",
     "output_type": "stream",
     "text": [
      "its very cold here .  \n",
      "this is my life .  \n",
      "his room is a mess . \n",
      "\n",
      "CPU times: total: 0 ns\n",
      "Wall time: 262 ms\n"
     ]
    }
   ],
   "source": [
    "%%time\n",
    "result = reloaded.translate(tf.constant(inputs))\n",
    "\n",
    "print(result[0].numpy().decode())\n",
    "print(result[1].numpy().decode())\n",
    "print(result[2].numpy().decode())\n",
    "print()"
   ]
  },
  {
   "cell_type": "markdown",
   "id": "c0a4b0d6-5b97-474f-98c4-e73bc2f50a2d",
   "metadata": {},
   "source": [
    "## Step n - Still to do\n",
    "- better understand    \n",
    "    - the attention model here as opposed to the transformer version\n",
    "    - Working with RNNs vs attention\n",
    "- enable GPU (local is completed - Rosie still to do, should just be config)"
   ]
  }
 ],
 "metadata": {
  "kernelspec": {
   "display_name": "Python 3 (ipykernel)",
   "language": "python",
   "name": "python3"
  },
  "language_info": {
   "codemirror_mode": {
    "name": "ipython",
    "version": 3
   },
   "file_extension": ".py",
   "mimetype": "text/x-python",
   "name": "python",
   "nbconvert_exporter": "python",
   "pygments_lexer": "ipython3",
   "version": "3.10.0"
  }
 },
 "nbformat": 4,
 "nbformat_minor": 5
}
