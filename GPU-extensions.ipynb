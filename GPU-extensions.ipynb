{
 "cells": [
  {
   "cell_type": "markdown",
   "source": [
    "# code to start making GPU available to the rest of the environment\n",
    "\n",
    "Based on Tensorflow documentation [Use a GPU](tensorflow.org/guide/gpu)\n",
    "as well as this guide to [installing GPU support on Tensorflow for Windows:](http://www.mysmu.edu/faculty/jwwang/post/install-gpu-support-to-tensoflow-on-windows/#:~:text=Install%20the%20CUDA%20Toolkit,your%20Python%20and%20TensorFlow%20versions).\n",
    "and [nVidia cuDNN documentation](https://docs.nvidia.com/deeplearning/cudnn/install-guide/index.html#install-windows)\n",
    "\n",
    "## Step 0 - Environment Setup \n",
    "apparently keras will use a single GPU if available with no code changes\n",
    "updated nVidia GPU driver\n",
    "downloaded CUDA toolkit\n",
    "ran checkDevice.exe to confirm availability of GPU cores (outside of Python environment)\n",
    "installed cuDNN\n",
    "had to rebuild jupyter kernels\n",
    "- jupyter kernelspec list\n",
    "- jupyter kernelspec remove 'your kernel name'\n",
    "- conda install nb_conda_kernels\n",
    "\n",
    "\n",
    "packages available in the yaml provided are sufficient for this work\n",
    "conda yaml for the environment compatible with all of these notebooks is included in the root of this repo "
   ],
   "metadata": {
    "collapsed": false
   },
   "id": "b429e366f93be66b"
  },
  {
   "cell_type": "code",
   "execution_count": 1,
   "outputs": [
    {
     "name": "stdout",
     "output_type": "stream",
     "text": [
      "Num GPUs Available:  1\n"
     ]
    }
   ],
   "source": [
    "import tensorflow as tf\n",
    "print(\"Num GPUs Available: \", len(tf.config.list_physical_devices('GPU')))"
   ],
   "metadata": {
    "collapsed": true,
    "ExecuteTime": {
     "end_time": "2023-12-27T17:12:56.803774400Z",
     "start_time": "2023-12-27T17:12:44.944653600Z"
    }
   },
   "id": "initial_id"
  },
  {
   "cell_type": "code",
   "execution_count": 2,
   "outputs": [],
   "source": [
    "a = tf.constant([[1.0, 2.0, 3.0], [4.0, 5.0, 6.0]])\n",
    "b = tf.constant([[1.0, 2.0], [3.0, 4.0], [5.0, 6.0]])"
   ],
   "metadata": {
    "collapsed": false,
    "ExecuteTime": {
     "end_time": "2023-12-27T17:13:00.416658300Z",
     "start_time": "2023-12-27T17:13:00.407693600Z"
    }
   },
   "id": "30ce01d29bfb2861"
  },
  {
   "cell_type": "code",
   "execution_count": 2,
   "outputs": [],
   "source": [],
   "metadata": {
    "collapsed": false,
    "ExecuteTime": {
     "end_time": "2023-12-27T17:13:00.432660100Z",
     "start_time": "2023-12-27T17:13:00.419657700Z"
    }
   },
   "id": "b4858d1a222e1472"
  }
 ],
 "metadata": {
  "kernelspec": {
   "name": "python3",
   "language": "python",
   "display_name": "Python 3 (ipykernel)"
  },
  "language_info": {
   "codemirror_mode": {
    "name": "ipython",
    "version": 2
   },
   "file_extension": ".py",
   "mimetype": "text/x-python",
   "name": "python",
   "nbconvert_exporter": "python",
   "pygments_lexer": "ipython2",
   "version": "2.7.6"
  }
 },
 "nbformat": 4,
 "nbformat_minor": 5
}
