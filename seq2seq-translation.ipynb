{
 "cells": [
  {
   "cell_type": "markdown",
   "source": [
    "# Text translation using seq2seq architectures\n",
    " \n",
    "Based on Tensorflow tutorial [Neural machine translation with attention](https://www.tensorflow.org/text/tutorials/nmt_with_attention)\n",
    "\n",
    "Training a sequence-to-sequence (seq2seq) model similar to from [Effective Approaches to Attention-based Neural Machine Translation](https://arxiv.org/abs/1508.04025v5)\n",
    "\n",
    "- not the most current architecture, but a good learning step for seq2seq models and attention before moving to Transformers\n",
    "- will allow direct Spanish-English translation\n",
    "- exports model as a tf.saved_model for use in other environments\n",
    "- attention plot is more interesting than the resulting output - shows what parts of the input sentence \"has the model's attention\" while translating\n",
    "\n",
    "With modifications described along the way...this does not currently leverage any available GPU, but will by the time we're done...\n",
    "\n",
    "## Step 0 - Environment Setup \n",
    "\n",
    "assumes tensorflow-text >= 2.10, matplotlib and einops are installed in the environment"
   ],
   "metadata": {
    "collapsed": false
   },
   "id": "1848aefbeef98104"
  },
  {
   "cell_type": "code",
   "execution_count": 4,
   "outputs": [],
   "source": [
    "import numpy as np\n",
    "\n",
    "import typing\n",
    "from typing import Any, Tuple\n",
    "\n",
    "import einops\n",
    "import matplotlib.pyplot as plt\n",
    "import matplotlib.ticker as ticker\n",
    "\n",
    "import tensorflow as tf\n",
    "import tensorflow_text as tf_text"
   ],
   "metadata": {
    "collapsed": false,
    "ExecuteTime": {
     "end_time": "2023-12-19T20:49:52.165302200Z",
     "start_time": "2023-12-19T20:49:42.652844400Z"
    }
   },
   "id": "d80e9a5a8caee092"
  },
  {
   "cell_type": "code",
   "execution_count": 5,
   "outputs": [],
   "source": [
    "local_data_path_root = \"C:/LocalResearch/JPD-Research/translationWork\""
   ],
   "metadata": {
    "collapsed": false,
    "ExecuteTime": {
     "end_time": "2023-12-19T20:49:52.180795200Z",
     "start_time": "2023-12-19T20:49:52.168796800Z"
    }
   },
   "id": "101d797542de6578"
  },
  {
   "cell_type": "markdown",
   "source": [
    "include helper class to check shapes correctly:"
   ],
   "metadata": {
    "collapsed": false
   },
   "id": "d77d8451ed035302"
  },
  {
   "cell_type": "code",
   "execution_count": 6,
   "outputs": [],
   "source": [
    "class ShapeChecker():\n",
    "  def __init__(self):\n",
    "    # Keep a cache of every axis-name seen\n",
    "    self.shapes = {}\n",
    "\n",
    "  def __call__(self, tensor, names, broadcast=False):\n",
    "    if not tf.executing_eagerly():\n",
    "      return\n",
    "\n",
    "    parsed = einops.parse_shape(tensor, names)\n",
    "\n",
    "    for name, new_dim in parsed.items():\n",
    "      old_dim = self.shapes.get(name, None)\n",
    "\n",
    "      if (broadcast and new_dim == 1):\n",
    "        continue\n",
    "\n",
    "      if old_dim is None:\n",
    "        # If the axis name is new, add its length to the cache.\n",
    "        self.shapes[name] = new_dim\n",
    "        continue\n",
    "\n",
    "      if new_dim != old_dim:\n",
    "        raise ValueError(f\"Shape mismatch for dimension: '{name}'\\n\"\n",
    "                         f\"    found: {new_dim}\\n\"\n",
    "                         f\"    expected: {old_dim}\\n\")"
   ],
   "metadata": {
    "collapsed": false,
    "ExecuteTime": {
     "end_time": "2023-12-19T20:49:52.216336700Z",
     "start_time": "2023-12-19T20:49:52.186810200Z"
    }
   },
   "id": "1b1d41e5a166622d"
  },
  {
   "cell_type": "markdown",
   "source": [
    "## Step 1 - Getting the data\n",
    "\n",
    "Uses [Anki](http://www.manythings.org/anki/) dataset with translation pairs such as english-spanish text - more languages are available\n",
    "\n",
    "1. Download the dataset\n",
    "2. Add a start and end token to each sentence.\n",
    "1. Clean the sentences by removing special characters.\n",
    "1. Create a word index and reverse word index (dictionaries mapping from word → id and id → word).\n",
    "1. Pad each sentence to a maximum length\n",
    "\n",
    "### Download the dataset"
   ],
   "metadata": {
    "collapsed": false
   },
   "id": "126a783b12c128b6"
  },
  {
   "cell_type": "code",
   "execution_count": 7,
   "outputs": [],
   "source": [
    "# Download the file\n",
    "import pathlib\n",
    "local_data_path = local_data_path_root+ \"/data\"\n",
    "\n",
    "path_to_zip = tf.keras.utils.get_file(\n",
    "    'spa-eng.zip', origin='http://storage.googleapis.com/download.tensorflow.org/data/spa-eng.zip',\n",
    "    cache_subdir=local_data_path,\n",
    "    extract=True)\n",
    "\n",
    "path_to_file = pathlib.Path(path_to_zip).parent/'spa-eng/spa.txt'"
   ],
   "metadata": {
    "collapsed": false,
    "ExecuteTime": {
     "end_time": "2023-12-19T20:49:52.289361900Z",
     "start_time": "2023-12-19T20:49:52.202344900Z"
    }
   },
   "id": "25399caa18fcb2cb"
  },
  {
   "cell_type": "code",
   "execution_count": 8,
   "outputs": [],
   "source": [
    "def load_data(path):\n",
    "  text = path.read_text(encoding='utf-8')\n",
    "\n",
    "  lines = text.splitlines()\n",
    "  pairs = [line.split('\\t') for line in lines]\n",
    "\n",
    "  context = np.array([context for target, context in pairs])\n",
    "  target = np.array([target for target, context in pairs])\n",
    "\n",
    "  return target, context"
   ],
   "metadata": {
    "collapsed": false,
    "ExecuteTime": {
     "end_time": "2023-12-19T20:49:52.306410300Z",
     "start_time": "2023-12-19T20:49:52.293353100Z"
    }
   },
   "id": "1417d518da552989"
  },
  {
   "cell_type": "code",
   "execution_count": 9,
   "outputs": [
    {
     "name": "stdout",
     "output_type": "stream",
     "text": [
      "Si quieres sonar como un hablante nativo, debes estar dispuesto a practicar diciendo la misma frase una y otra vez de la misma manera en que un músico de banjo practica el mismo fraseo una y otra vez hasta que lo puedan tocar correctamente y en el tiempo esperado.\n",
      "\n",
      "If you want to sound like a native speaker, you must be willing to practice saying the same sentence over and over in the same way that banjo players practice the same phrase over and over until they can play it correctly and at the desired tempo.\n"
     ]
    }
   ],
   "source": [
    "target_raw, context_raw = load_data(path_to_file)\n",
    "print(context_raw[-1])\n",
    "print()\n",
    "print(target_raw[-1])"
   ],
   "metadata": {
    "collapsed": false,
    "ExecuteTime": {
     "end_time": "2023-12-19T20:49:52.755235900Z",
     "start_time": "2023-12-19T20:49:52.307900400Z"
    }
   },
   "id": "df0018e2a2260ecd"
  },
  {
   "cell_type": "markdown",
   "source": [
    "### Prepare the dataset\n",
    "\n",
    "start with a tf.dataset"
   ],
   "metadata": {
    "collapsed": false
   },
   "id": "85c8d0c9f0fae90d"
  },
  {
   "cell_type": "code",
   "execution_count": 10,
   "outputs": [],
   "source": [
    "BUFFER_SIZE = len(context_raw)\n",
    "BATCH_SIZE = 64\n",
    "\n",
    "is_train = np.random.uniform(size=(len(target_raw),)) < 0.8\n",
    "\n",
    "train_raw = (\n",
    "    tf.data.Dataset\n",
    "    .from_tensor_slices((context_raw[is_train], target_raw[is_train]))\n",
    "    .shuffle(BUFFER_SIZE)\n",
    "    .batch(BATCH_SIZE))\n",
    "val_raw = (\n",
    "    tf.data.Dataset\n",
    "    .from_tensor_slices((context_raw[~is_train], target_raw[~is_train]))\n",
    "    .shuffle(BUFFER_SIZE)\n",
    "    .batch(BATCH_SIZE))"
   ],
   "metadata": {
    "collapsed": false,
    "ExecuteTime": {
     "end_time": "2023-12-19T20:49:53.267499500Z",
     "start_time": "2023-12-19T20:49:52.758232800Z"
    }
   },
   "id": "3540950289fad5ff"
  },
  {
   "cell_type": "code",
   "execution_count": 11,
   "outputs": [
    {
     "name": "stdout",
     "output_type": "stream",
     "text": [
      "tf.Tensor(\n",
      "[b'Boston es mi casa.' b'Estoy ocupado ahora y no puedo jugar con vos.'\n",
      " b'Tom le dese\\xc3\\xb3 buena suerte a Mary.'\n",
      " b'\\xc2\\xbfQu\\xc3\\xa9 estamos haciendo?'\n",
      " b'Tom quer\\xc3\\xada despedir a Mary, pero John se lo impidi\\xc3\\xb3.'], shape=(5,), dtype=string)\n",
      "\n",
      "tf.Tensor(\n",
      "[b'Boston is my home.' b\"I am busy now and can't play with you.\"\n",
      " b'Tom wished Mary good luck.' b'What are we doing?'\n",
      " b'Tom wanted to fire Mary, but John stopped him.'], shape=(5,), dtype=string)\n"
     ]
    }
   ],
   "source": [
    "for example_context_strings, example_target_strings in train_raw.take(1):\n",
    "  print(example_context_strings[:5])\n",
    "  print()\n",
    "  print(example_target_strings[:5])\n",
    "  break"
   ],
   "metadata": {
    "collapsed": false,
    "ExecuteTime": {
     "end_time": "2023-12-19T20:49:53.578102Z",
     "start_time": "2023-12-19T20:49:53.270000100Z"
    }
   },
   "id": "189fe63f5802ac68"
  },
  {
   "cell_type": "markdown",
   "source": [
    "### Preprocess the text\n",
    "\n",
    "- standardization\n",
    "  - unicode normalization - split accented characters and replace compat chars with ascii equivalents  \n",
    "- vectorization\n",
    "  - handles vocabulary extraction and conversion of input text into token sequences   "
   ],
   "metadata": {
    "collapsed": false
   },
   "id": "96aabcc98d18e1bf"
  },
  {
   "cell_type": "code",
   "execution_count": 12,
   "outputs": [
    {
     "name": "stdout",
     "output_type": "stream",
     "text": [
      "b'\\xc2\\xbfTodav\\xc3\\xada est\\xc3\\xa1 en casa?'\n",
      "b'\\xc2\\xbfTodavi\\xcc\\x81a esta\\xcc\\x81 en casa?'\n"
     ]
    }
   ],
   "source": [
    "example_text = tf.constant('¿Todavía está en casa?')\n",
    "\n",
    "print(example_text.numpy())\n",
    "print(tf_text.normalize_utf8(example_text, 'NFKD').numpy())"
   ],
   "metadata": {
    "collapsed": false,
    "ExecuteTime": {
     "end_time": "2023-12-19T20:49:53.637607700Z",
     "start_time": "2023-12-19T20:49:53.582604200Z"
    }
   },
   "id": "4ad3ca5df0b860bf"
  },
  {
   "cell_type": "code",
   "execution_count": 13,
   "outputs": [],
   "source": [
    "def tf_lower_and_split_punct(text):\n",
    "  # Split accented characters.\n",
    "  text = tf_text.normalize_utf8(text, 'NFKD')\n",
    "  text = tf.strings.lower(text)\n",
    "  # Keep space, a to z, and select punctuation.\n",
    "  text = tf.strings.regex_replace(text, '[^ a-z.?!,¿]', '')\n",
    "  # Add spaces around punctuation.\n",
    "  text = tf.strings.regex_replace(text, '[.?!,¿]', r' \\0 ')\n",
    "  # Strip whitespace.\n",
    "  text = tf.strings.strip(text)\n",
    "\n",
    "  text = tf.strings.join(['[START]', text, '[END]'], separator=' ')\n",
    "  return text"
   ],
   "metadata": {
    "collapsed": false,
    "ExecuteTime": {
     "end_time": "2023-12-19T20:49:53.639607400Z",
     "start_time": "2023-12-19T20:49:53.598101100Z"
    }
   },
   "id": "9cc95e802d8302f6"
  },
  {
   "cell_type": "code",
   "execution_count": 14,
   "outputs": [
    {
     "name": "stdout",
     "output_type": "stream",
     "text": [
      "¿Todavía está en casa?\n",
      "[START] ¿ todavia esta en casa ? [END]\n"
     ]
    }
   ],
   "source": [
    "print(example_text.numpy().decode())\n",
    "print(tf_lower_and_split_punct(example_text).numpy().decode())"
   ],
   "metadata": {
    "collapsed": false,
    "ExecuteTime": {
     "end_time": "2023-12-19T20:49:53.695614700Z",
     "start_time": "2023-12-19T20:49:53.612616400Z"
    }
   },
   "id": "d53472744ad3a46d"
  },
  {
   "cell_type": "code",
   "execution_count": 15,
   "outputs": [],
   "source": [
    "max_vocab_size = 5000\n",
    "\n",
    "context_text_processor = tf.keras.layers.TextVectorization(\n",
    "    standardize=tf_lower_and_split_punct,\n",
    "    max_tokens=max_vocab_size,\n",
    "    ragged=True)"
   ],
   "metadata": {
    "collapsed": false,
    "ExecuteTime": {
     "end_time": "2023-12-19T20:49:53.759125Z",
     "start_time": "2023-12-19T20:49:53.665608100Z"
    }
   },
   "id": "fbd97412ebccd794"
  },
  {
   "cell_type": "code",
   "execution_count": 16,
   "outputs": [
    {
     "data": {
      "text/plain": "['', '[UNK]', '[START]', '[END]', '.', 'que', 'de', 'el', 'a', 'no']"
     },
     "execution_count": 16,
     "metadata": {},
     "output_type": "execute_result"
    }
   ],
   "source": [
    "context_text_processor.adapt(train_raw.map(lambda context, target: context))\n",
    "\n",
    "# Here are the first 10 words from the vocabulary:\n",
    "context_text_processor.get_vocabulary()[:10]"
   ],
   "metadata": {
    "collapsed": false,
    "ExecuteTime": {
     "end_time": "2023-12-19T20:49:55.576489Z",
     "start_time": "2023-12-19T20:49:53.707126600Z"
    }
   },
   "id": "6136b8100d248c56"
  },
  {
   "cell_type": "code",
   "execution_count": 17,
   "outputs": [
    {
     "data": {
      "text/plain": "['', '[UNK]', '[START]', '[END]', '.', 'the', 'i', 'to', 'you', 'tom']"
     },
     "execution_count": 17,
     "metadata": {},
     "output_type": "execute_result"
    }
   ],
   "source": [
    "target_text_processor = tf.keras.layers.TextVectorization(\n",
    "    standardize=tf_lower_and_split_punct,\n",
    "    max_tokens=max_vocab_size,\n",
    "    ragged=True)\n",
    "\n",
    "target_text_processor.adapt(train_raw.map(lambda context, target: target))\n",
    "target_text_processor.get_vocabulary()[:10]"
   ],
   "metadata": {
    "collapsed": false,
    "ExecuteTime": {
     "end_time": "2023-12-19T20:49:57.254756Z",
     "start_time": "2023-12-19T20:49:55.576989300Z"
    }
   },
   "id": "3aa904d086488e79"
  },
  {
   "cell_type": "code",
   "execution_count": 18,
   "outputs": [
    {
     "data": {
      "text/plain": "<tf.RaggedTensor [[2, 137, 15, 24, 53, 4, 3],\n [2, 41, 340, 92, 33, 9, 55, 325, 27, 469, 4, 3],\n [2, 10, 28, 1073, 210, 533, 8, 32, 4, 3]]>"
     },
     "execution_count": 18,
     "metadata": {},
     "output_type": "execute_result"
    }
   ],
   "source": [
    "example_tokens = context_text_processor(example_context_strings)\n",
    "example_tokens[:3, :]"
   ],
   "metadata": {
    "collapsed": false,
    "ExecuteTime": {
     "end_time": "2023-12-19T20:49:57.360212800Z",
     "start_time": "2023-12-19T20:49:57.253757300Z"
    }
   },
   "id": "ff6e5daa07e1339f"
  },
  {
   "cell_type": "code",
   "execution_count": 19,
   "outputs": [
    {
     "name": "stdout",
     "output_type": "stream",
     "text": [
      "[  2 137  15  24  53   4   3]\n",
      "tf.Tensor([  2 137  15  24  53   4   3   0   0   0   0   0   0   0   0   0], shape=(16,), dtype=int64)\n",
      "['[START]' 'boston' 'es' 'mi' 'casa' '.' '[END]']\n"
     ]
    }
   ],
   "source": [
    "print(example_tokens[0].numpy())\n",
    "context_vocab = np.array(context_text_processor.get_vocabulary())\n",
    "tokens = context_vocab[example_tokens[0].numpy()]\n",
    "' '.join(tokens)\n",
    "print(example_tokens.to_tensor()[0])\n",
    "print(tokens)"
   ],
   "metadata": {
    "collapsed": false,
    "ExecuteTime": {
     "end_time": "2023-12-19T20:49:57.404226700Z",
     "start_time": "2023-12-19T20:49:57.362702100Z"
    }
   },
   "id": "a44bde4e08203c6"
  },
  {
   "cell_type": "markdown",
   "source": [
    "you can see from the above that the returned tensors are zero padded - these can be used to form a mask"
   ],
   "metadata": {
    "collapsed": false
   },
   "id": "7f394290bdaf4bf9"
  },
  {
   "cell_type": "code",
   "execution_count": 20,
   "outputs": [
    {
     "data": {
      "text/plain": "Text(0.5, 1.0, 'Mask')"
     },
     "execution_count": 20,
     "metadata": {},
     "output_type": "execute_result"
    },
    {
     "data": {
      "text/plain": "<Figure size 640x480 with 2 Axes>",
      "image/png": "[encoded data removed]"
     },
     "metadata": {},
     "output_type": "display_data"
    }
   ],
   "source": [
    "plt.subplot(1, 2, 1)\n",
    "plt.pcolormesh(example_tokens.to_tensor())\n",
    "plt.title('Token IDs')\n",
    "\n",
    "plt.subplot(1, 2, 2)\n",
    "plt.pcolormesh(example_tokens.to_tensor() != 0)\n",
    "plt.title('Mask')"
   ],
   "metadata": {
    "collapsed": false,
    "ExecuteTime": {
     "end_time": "2023-12-19T20:49:57.767335500Z",
     "start_time": "2023-12-19T20:49:57.394216100Z"
    }
   },
   "id": "fa0ccc36bf5607f4"
  },
  {
   "cell_type": "markdown",
   "source": [
    "### process the dataset\n",
    "\n",
    "in the following function, (context, target) becomes ((context,target_in), target_out) for training\n",
    "keras expects (inputs, label) where here, (context, target_in) is the input, and target_out is the label\n",
    "the difference between _in and _out is that _out is shifted one character right, so at each location, the label is the next token (expected value)"
   ],
   "metadata": {
    "collapsed": false
   },
   "id": "a6dc68a6ead29e8b"
  },
  {
   "cell_type": "code",
   "execution_count": 21,
   "outputs": [],
   "source": [
    "def process_text(context, target):\n",
    "  context = context_text_processor(context).to_tensor()\n",
    "  target = target_text_processor(target)\n",
    "  targ_in = target[:,:-1].to_tensor()\n",
    "  targ_out = target[:,1:].to_tensor()\n",
    "  return (context, targ_in), targ_out\n",
    "\n",
    "train_ds = train_raw.map(process_text, tf.data.AUTOTUNE)\n",
    "val_ds = val_raw.map(process_text, tf.data.AUTOTUNE)"
   ],
   "metadata": {
    "collapsed": false,
    "ExecuteTime": {
     "end_time": "2023-12-19T20:49:57.979486400Z",
     "start_time": "2023-12-19T20:49:57.767836100Z"
    }
   },
   "id": "9c48bdce959ed46d"
  },
  {
   "cell_type": "code",
   "execution_count": 22,
   "outputs": [
    {
     "name": "stdout",
     "output_type": "stream",
     "text": [
      "[   2   10   17 3177   31  323    4    3    0    0]\n",
      "\n",
      "[   2    9 3377    7   93    4    0    0    0    0]\n",
      "[   9 3377    7   93    4    3    0    0    0    0]\n"
     ]
    }
   ],
   "source": [
    "for (ex_context_tok, ex_tar_in), ex_tar_out in train_ds.take(1):\n",
    "  print(ex_context_tok[0, :10].numpy()) \n",
    "  print()\n",
    "  print(ex_tar_in[0, :10].numpy()) \n",
    "  print(ex_tar_out[0, :10].numpy())"
   ],
   "metadata": {
    "collapsed": false,
    "ExecuteTime": {
     "end_time": "2023-12-19T20:49:58.219647800Z",
     "start_time": "2023-12-19T20:49:57.983485900Z"
    }
   },
   "id": "586132968a73ef1d"
  },
  {
   "cell_type": "markdown",
   "source": [
    "## Step 2 - The encoder / decoder architecture and model\n",
    "\n",
    "two simplifications from the original attention-based translation model - typically unnecessary:\n",
    "- feeding state from encoder's RNN to the decoder's RNN\n",
    "- Feeding attention output back to the RNN input \n"
   ],
   "metadata": {
    "collapsed": false
   },
   "id": "c98b59f19cc74593"
  },
  {
   "cell_type": "code",
   "execution_count": 23,
   "outputs": [],
   "source": [
    "UNITS = 256"
   ],
   "metadata": {
    "collapsed": false,
    "ExecuteTime": {
     "end_time": "2023-12-19T20:49:58.252650200Z",
     "start_time": "2023-12-19T20:49:58.215645900Z"
    }
   },
   "id": "47592e41f927a42a"
  },
  {
   "cell_type": "markdown",
   "source": [
    "### The encoder design\n",
    "\n",
    "since context sequence is constant, information can flow between any units in the encoder, so use a bidirectional RNN\n",
    "\n",
    "1. gets a list of token IDs\n",
    "2. looks up an embedding vector for each token\n",
    "3. processes the embeddings into a new sequence (using a bidirectional RNN\n",
    "4. returns the processed sequence -> attention head"
   ],
   "metadata": {
    "collapsed": false
   },
   "id": "d97dfe438659a1aa"
  },
  {
   "cell_type": "code",
   "execution_count": 24,
   "outputs": [],
   "source": [
    "class Encoder(tf.keras.layers.Layer):\n",
    "  def __init__(self, text_processor, units):\n",
    "    super(Encoder, self).__init__()\n",
    "    self.text_processor = text_processor\n",
    "    self.vocab_size = text_processor.vocabulary_size()\n",
    "    self.units = units\n",
    "\n",
    "    # The embedding layer converts tokens to vectors\n",
    "    self.embedding = tf.keras.layers.Embedding(self.vocab_size, units,\n",
    "                                               mask_zero=True)\n",
    "\n",
    "    # The RNN layer processes those vectors sequentially.\n",
    "    self.rnn = tf.keras.layers.Bidirectional(\n",
    "        merge_mode='sum',\n",
    "        layer=tf.keras.layers.GRU(units,\n",
    "                            # Return the sequence and state\n",
    "                            return_sequences=True,\n",
    "                            recurrent_initializer='glorot_uniform'))\n",
    "\n",
    "  def call(self, x):\n",
    "    shape_checker = ShapeChecker()\n",
    "    shape_checker(x, 'batch s')\n",
    "\n",
    "    # 2. The embedding layer looks up the embedding vector for each token.\n",
    "    x = self.embedding(x)\n",
    "    shape_checker(x, 'batch s units')\n",
    "\n",
    "    # 3. The GRU processes the sequence of embeddings.\n",
    "    x = self.rnn(x)\n",
    "    shape_checker(x, 'batch s units')\n",
    "\n",
    "    # 4. Returns the new sequence of embeddings.\n",
    "    return x\n",
    "\n",
    "  def convert_input(self, texts):\n",
    "    texts = tf.convert_to_tensor(texts)\n",
    "    if len(texts.shape) == 0:\n",
    "      texts = tf.convert_to_tensor(texts)[tf.newaxis]\n",
    "    context = self.text_processor(texts).to_tensor()\n",
    "    context = self(context)\n",
    "    return context"
   ],
   "metadata": {
    "collapsed": false,
    "ExecuteTime": {
     "end_time": "2023-12-19T20:49:58.254147500Z",
     "start_time": "2023-12-19T20:49:58.236144100Z"
    }
   },
   "id": "98dd03eace5a465"
  },
  {
   "cell_type": "code",
   "execution_count": 25,
   "outputs": [
    {
     "name": "stdout",
     "output_type": "stream",
     "text": [
      "Context tokens, shape (batch, s): (64, 21)\n",
      "Encoder output, shape (batch, s, units): (64, 21, 256)\n"
     ]
    }
   ],
   "source": [
    "# Encode the input sequence.\n",
    "encoder = Encoder(context_text_processor, UNITS)\n",
    "ex_context = encoder(ex_context_tok)\n",
    "\n",
    "print(f'Context tokens, shape (batch, s): {ex_context_tok.shape}')\n",
    "print(f'Encoder output, shape (batch, s, units): {ex_context.shape}')"
   ],
   "metadata": {
    "collapsed": false,
    "ExecuteTime": {
     "end_time": "2023-12-19T20:49:58.569818900Z",
     "start_time": "2023-12-19T20:49:58.265137200Z"
    }
   },
   "id": "a1eae5c7a7177d77"
  },
  {
   "cell_type": "code",
   "execution_count": 25,
   "outputs": [],
   "source": [],
   "metadata": {
    "collapsed": false,
    "ExecuteTime": {
     "end_time": "2023-12-19T20:49:58.584341Z",
     "start_time": "2023-12-19T20:49:58.572843900Z"
    }
   },
   "id": "2c6f1d541b11f4f5"
  }
 ],
 "metadata": {
  "kernelspec": {
   "display_name": "Python 3",
   "language": "python",
   "name": "python3"
  },
  "language_info": {
   "codemirror_mode": {
    "name": "ipython",
    "version": 2
   },
   "file_extension": ".py",
   "mimetype": "text/x-python",
   "name": "python",
   "nbconvert_exporter": "python",
   "pygments_lexer": "ipython2",
   "version": "2.7.6"
  }
 },
 "nbformat": 4,
 "nbformat_minor": 5
}
