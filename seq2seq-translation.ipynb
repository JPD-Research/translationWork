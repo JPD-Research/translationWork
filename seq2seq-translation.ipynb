{
 "cells": [
  {
   "cell_type": "markdown",
   "source": [
    "# Text translation using seq2seq architectures\n",
    " \n",
    "Based on Tensorflow tutorial [Neural machine translation with attention](https://www.tensorflow.org/text/tutorials/nmt_with_attention)\n",
    "\n",
    "Training a sequence-to-sequence (seq2seq) model similar to from [Effective Approaches to Attention-based Neural Machine Translation](https://arxiv.org/abs/1508.04025v5)\n",
    "\n",
    "- not the most current architecture, but a good learning step for seq2seq models and attention before moving to Transformers\n",
    "- will allow direct Spanish-English translation\n",
    "- exports model as a tf.saved_model for use in other environments\n",
    "- attention plot is more interesting than the resulting output - shows what parts of the input sentence \"has the model's attention\" while translating\n",
    "\n",
    "With modifications described along the way...this does not currently leverage any available GPU, but will by the time we're done...\n",
    "\n",
    "## Step 0 - Environment Setup \n",
    "\n",
    "assumes tensorflow-text >= 2.10, matplotlib and einops are installed in the environment"
   ],
   "metadata": {
    "collapsed": false
   },
   "id": "1848aefbeef98104"
  },
  {
   "cell_type": "code",
   "execution_count": 1,
   "outputs": [],
   "source": [
    "import numpy as np\n",
    "\n",
    "import typing\n",
    "from typing import Any, Tuple\n",
    "\n",
    "import einops\n",
    "import matplotlib.pyplot as plt\n",
    "import matplotlib.ticker as ticker\n",
    "\n",
    "import tensorflow as tf\n",
    "import tensorflow_text as tf_text"
   ],
   "metadata": {
    "collapsed": false,
    "ExecuteTime": {
     "end_time": "2023-12-19T22:58:27.914356Z",
     "start_time": "2023-12-19T22:58:17.555475500Z"
    }
   },
   "id": "d80e9a5a8caee092"
  },
  {
   "cell_type": "code",
   "execution_count": 2,
   "outputs": [],
   "source": [
    "local_data_path_root = \"C:/LocalResearch/JPD-Research/translationWork\""
   ],
   "metadata": {
    "collapsed": false,
    "ExecuteTime": {
     "end_time": "2023-12-19T22:58:27.922393100Z",
     "start_time": "2023-12-19T22:58:27.916856800Z"
    }
   },
   "id": "101d797542de6578"
  },
  {
   "cell_type": "markdown",
   "source": [
    "include helper class to check shapes correctly:"
   ],
   "metadata": {
    "collapsed": false
   },
   "id": "d77d8451ed035302"
  },
  {
   "cell_type": "code",
   "execution_count": 3,
   "outputs": [],
   "source": [
    "class ShapeChecker():\n",
    "  def __init__(self):\n",
    "    # Keep a cache of every axis-name seen\n",
    "    self.shapes = {}\n",
    "\n",
    "  def __call__(self, tensor, names, broadcast=False):\n",
    "    if not tf.executing_eagerly():\n",
    "      return\n",
    "\n",
    "    parsed = einops.parse_shape(tensor, names)\n",
    "\n",
    "    for name, new_dim in parsed.items():\n",
    "      old_dim = self.shapes.get(name, None)\n",
    "\n",
    "      if (broadcast and new_dim == 1):\n",
    "        continue\n",
    "\n",
    "      if old_dim is None:\n",
    "        # If the axis name is new, add its length to the cache.\n",
    "        self.shapes[name] = new_dim\n",
    "        continue\n",
    "\n",
    "      if new_dim != old_dim:\n",
    "        raise ValueError(f\"Shape mismatch for dimension: '{name}'\\n\"\n",
    "                         f\"    found: {new_dim}\\n\"\n",
    "                         f\"    expected: {old_dim}\\n\")"
   ],
   "metadata": {
    "collapsed": false,
    "ExecuteTime": {
     "end_time": "2023-12-19T22:58:27.956439Z",
     "start_time": "2023-12-19T22:58:27.923865800Z"
    }
   },
   "id": "1b1d41e5a166622d"
  },
  {
   "cell_type": "markdown",
   "source": [
    "## Step 1 - Getting the data\n",
    "\n",
    "Uses [Anki](http://www.manythings.org/anki/) dataset with translation pairs such as english-spanish text - more languages are available\n",
    "\n",
    "1. Download the dataset\n",
    "2. Add a start and end token to each sentence.\n",
    "1. Clean the sentences by removing special characters.\n",
    "1. Create a word index and reverse word index (dictionaries mapping from word → id and id → word).\n",
    "1. Pad each sentence to a maximum length\n",
    "\n",
    "### Download the dataset"
   ],
   "metadata": {
    "collapsed": false
   },
   "id": "126a783b12c128b6"
  },
  {
   "cell_type": "code",
   "execution_count": 4,
   "outputs": [],
   "source": [
    "# Download the file\n",
    "import pathlib\n",
    "local_data_path = local_data_path_root+ \"/data\"\n",
    "\n",
    "path_to_zip = tf.keras.utils.get_file(\n",
    "    'spa-eng.zip', origin='http://storage.googleapis.com/download.tensorflow.org/data/spa-eng.zip',\n",
    "    cache_subdir=local_data_path,\n",
    "    extract=True)\n",
    "\n",
    "path_to_file = pathlib.Path(path_to_zip).parent/'spa-eng/spa.txt'"
   ],
   "metadata": {
    "collapsed": false,
    "ExecuteTime": {
     "end_time": "2023-12-19T22:58:28.004942500Z",
     "start_time": "2023-12-19T22:58:27.958938400Z"
    }
   },
   "id": "25399caa18fcb2cb"
  },
  {
   "cell_type": "code",
   "execution_count": 5,
   "outputs": [],
   "source": [
    "def load_data(path):\n",
    "  text = path.read_text(encoding='utf-8')\n",
    "\n",
    "  lines = text.splitlines()\n",
    "  pairs = [line.split('\\t') for line in lines]\n",
    "\n",
    "  context = np.array([context for target, context in pairs])\n",
    "  target = np.array([target for target, context in pairs])\n",
    "\n",
    "  return target, context"
   ],
   "metadata": {
    "collapsed": false,
    "ExecuteTime": {
     "end_time": "2023-12-19T22:58:28.012974Z",
     "start_time": "2023-12-19T22:58:28.009478300Z"
    }
   },
   "id": "1417d518da552989"
  },
  {
   "cell_type": "code",
   "execution_count": 6,
   "outputs": [
    {
     "name": "stdout",
     "output_type": "stream",
     "text": [
      "Si quieres sonar como un hablante nativo, debes estar dispuesto a practicar diciendo la misma frase una y otra vez de la misma manera en que un músico de banjo practica el mismo fraseo una y otra vez hasta que lo puedan tocar correctamente y en el tiempo esperado.\n",
      "\n",
      "If you want to sound like a native speaker, you must be willing to practice saying the same sentence over and over in the same way that banjo players practice the same phrase over and over until they can play it correctly and at the desired tempo.\n"
     ]
    }
   ],
   "source": [
    "target_raw, context_raw = load_data(path_to_file)\n",
    "print(context_raw[-1])\n",
    "print()\n",
    "print(target_raw[-1])"
   ],
   "metadata": {
    "collapsed": false,
    "ExecuteTime": {
     "end_time": "2023-12-19T22:58:28.394587200Z",
     "start_time": "2023-12-19T22:58:28.012974Z"
    }
   },
   "id": "df0018e2a2260ecd"
  },
  {
   "cell_type": "markdown",
   "source": [
    "### Prepare the dataset\n",
    "\n",
    "start with a tf.dataset"
   ],
   "metadata": {
    "collapsed": false
   },
   "id": "85c8d0c9f0fae90d"
  },
  {
   "cell_type": "code",
   "execution_count": 7,
   "outputs": [],
   "source": [
    "BUFFER_SIZE = len(context_raw)\n",
    "BATCH_SIZE = 64\n",
    "\n",
    "is_train = np.random.uniform(size=(len(target_raw),)) < 0.8\n",
    "\n",
    "train_raw = (\n",
    "    tf.data.Dataset\n",
    "    .from_tensor_slices((context_raw[is_train], target_raw[is_train]))\n",
    "    .shuffle(BUFFER_SIZE)\n",
    "    .batch(BATCH_SIZE))\n",
    "val_raw = (\n",
    "    tf.data.Dataset\n",
    "    .from_tensor_slices((context_raw[~is_train], target_raw[~is_train]))\n",
    "    .shuffle(BUFFER_SIZE)\n",
    "    .batch(BATCH_SIZE))"
   ],
   "metadata": {
    "collapsed": false,
    "ExecuteTime": {
     "end_time": "2023-12-19T22:58:28.672811Z",
     "start_time": "2023-12-19T22:58:28.392586900Z"
    }
   },
   "id": "3540950289fad5ff"
  },
  {
   "cell_type": "code",
   "execution_count": 8,
   "outputs": [
    {
     "name": "stdout",
     "output_type": "stream",
     "text": [
      "tf.Tensor(\n",
      "[b'No lo expongas a la lluvia.' b'Los japoneses son un pueblo muy limpio.'\n",
      " b'Por favor, dejadme comer tranquilo.' b'Vosotras primero.'\n",
      " b'\\xc2\\xbfHace tanto fr\\xc3\\xado en Alemania como en Canad\\xc3\\xa1?'], shape=(5,), dtype=string)\n",
      "\n",
      "tf.Tensor(\n",
      "[b\"Don't expose it to the rain.\" b'The Japanese are a very clean people.'\n",
      " b'Please let me eat in peace.' b'You go first.'\n",
      " b'Is Germany as cold as Canada?'], shape=(5,), dtype=string)\n"
     ]
    }
   ],
   "source": [
    "for example_context_strings, example_target_strings in train_raw.take(1):\n",
    "  print(example_context_strings[:5])\n",
    "  print()\n",
    "  print(example_target_strings[:5])\n",
    "  break"
   ],
   "metadata": {
    "collapsed": false,
    "ExecuteTime": {
     "end_time": "2023-12-19T22:58:28.827419500Z",
     "start_time": "2023-12-19T22:58:28.675314200Z"
    }
   },
   "id": "189fe63f5802ac68"
  },
  {
   "cell_type": "markdown",
   "source": [
    "### Preprocess the text\n",
    "\n",
    "- standardization\n",
    "  - unicode normalization - split accented characters and replace compat chars with ascii equivalents  \n",
    "- vectorization\n",
    "  - handles vocabulary extraction and conversion of input text into token sequences   "
   ],
   "metadata": {
    "collapsed": false
   },
   "id": "96aabcc98d18e1bf"
  },
  {
   "cell_type": "code",
   "execution_count": 9,
   "outputs": [
    {
     "name": "stdout",
     "output_type": "stream",
     "text": [
      "b'\\xc2\\xbfTodav\\xc3\\xada est\\xc3\\xa1 en casa?'\n",
      "b'\\xc2\\xbfTodavi\\xcc\\x81a esta\\xcc\\x81 en casa?'\n"
     ]
    }
   ],
   "source": [
    "example_text = tf.constant('¿Todavía está en casa?')\n",
    "\n",
    "print(example_text.numpy())\n",
    "print(tf_text.normalize_utf8(example_text, 'NFKD').numpy())"
   ],
   "metadata": {
    "collapsed": false,
    "ExecuteTime": {
     "end_time": "2023-12-19T22:58:28.828927600Z",
     "start_time": "2023-12-19T22:58:28.824428300Z"
    }
   },
   "id": "4ad3ca5df0b860bf"
  },
  {
   "cell_type": "code",
   "execution_count": 10,
   "outputs": [],
   "source": [
    "def tf_lower_and_split_punct(text):\n",
    "  # Split accented characters.\n",
    "  text = tf_text.normalize_utf8(text, 'NFKD')\n",
    "  text = tf.strings.lower(text)\n",
    "  # Keep space, a to z, and select punctuation.\n",
    "  text = tf.strings.regex_replace(text, '[^ a-z.?!,¿]', '')\n",
    "  # Add spaces around punctuation.\n",
    "  text = tf.strings.regex_replace(text, '[.?!,¿]', r' \\0 ')\n",
    "  # Strip whitespace.\n",
    "  text = tf.strings.strip(text)\n",
    "\n",
    "  text = tf.strings.join(['[START]', text, '[END]'], separator=' ')\n",
    "  return text"
   ],
   "metadata": {
    "collapsed": false,
    "ExecuteTime": {
     "end_time": "2023-12-19T22:58:28.878965700Z",
     "start_time": "2023-12-19T22:58:28.832434400Z"
    }
   },
   "id": "9cc95e802d8302f6"
  },
  {
   "cell_type": "code",
   "execution_count": 11,
   "outputs": [
    {
     "name": "stdout",
     "output_type": "stream",
     "text": [
      "¿Todavía está en casa?\n",
      "[START] ¿ todavia esta en casa ? [END]\n"
     ]
    }
   ],
   "source": [
    "print(example_text.numpy().decode())\n",
    "print(tf_lower_and_split_punct(example_text).numpy().decode())"
   ],
   "metadata": {
    "collapsed": false,
    "ExecuteTime": {
     "end_time": "2023-12-19T22:58:28.880435500Z",
     "start_time": "2023-12-19T22:58:28.843438700Z"
    }
   },
   "id": "d53472744ad3a46d"
  },
  {
   "cell_type": "code",
   "execution_count": 12,
   "outputs": [],
   "source": [
    "max_vocab_size = 5000\n",
    "\n",
    "context_text_processor = tf.keras.layers.TextVectorization(\n",
    "    standardize=tf_lower_and_split_punct,\n",
    "    max_tokens=max_vocab_size,\n",
    "    ragged=True)"
   ],
   "metadata": {
    "collapsed": false,
    "ExecuteTime": {
     "end_time": "2023-12-19T22:58:28.948987300Z",
     "start_time": "2023-12-19T22:58:28.933486800Z"
    }
   },
   "id": "fbd97412ebccd794"
  },
  {
   "cell_type": "code",
   "execution_count": 13,
   "outputs": [
    {
     "data": {
      "text/plain": "['', '[UNK]', '[START]', '[END]', '.', 'que', 'de', 'el', 'a', 'no']"
     },
     "execution_count": 13,
     "metadata": {},
     "output_type": "execute_result"
    }
   ],
   "source": [
    "context_text_processor.adapt(train_raw.map(lambda context, target: context))\n",
    "\n",
    "# Here are the first 10 words from the vocabulary:\n",
    "context_text_processor.get_vocabulary()[:10]"
   ],
   "metadata": {
    "collapsed": false,
    "ExecuteTime": {
     "end_time": "2023-12-19T22:58:30.652426700Z",
     "start_time": "2023-12-19T22:58:28.951997700Z"
    }
   },
   "id": "6136b8100d248c56"
  },
  {
   "cell_type": "code",
   "execution_count": 14,
   "outputs": [
    {
     "data": {
      "text/plain": "['', '[UNK]', '[START]', '[END]', '.', 'the', 'i', 'to', 'you', 'tom']"
     },
     "execution_count": 14,
     "metadata": {},
     "output_type": "execute_result"
    }
   ],
   "source": [
    "target_text_processor = tf.keras.layers.TextVectorization(\n",
    "    standardize=tf_lower_and_split_punct,\n",
    "    max_tokens=max_vocab_size,\n",
    "    ragged=True)\n",
    "\n",
    "target_text_processor.adapt(train_raw.map(lambda context, target: target))\n",
    "target_text_processor.get_vocabulary()[:10]"
   ],
   "metadata": {
    "collapsed": false,
    "ExecuteTime": {
     "end_time": "2023-12-19T22:58:32.208094Z",
     "start_time": "2023-12-19T22:58:30.650429300Z"
    }
   },
   "id": "3aa904d086488e79"
  },
  {
   "cell_type": "code",
   "execution_count": 15,
   "outputs": [
    {
     "data": {
      "text/plain": "<tf.RaggedTensor [[2, 9, 22, 1, 8, 11, 622, 4, 3],\n [2, 26, 1258, 64, 16, 972, 42, 1650, 4, 3],\n [2, 21, 66, 19, 1, 145, 2226, 4, 3]]>"
     },
     "execution_count": 15,
     "metadata": {},
     "output_type": "execute_result"
    }
   ],
   "source": [
    "example_tokens = context_text_processor(example_context_strings)\n",
    "example_tokens[:3, :]"
   ],
   "metadata": {
    "collapsed": false,
    "ExecuteTime": {
     "end_time": "2023-12-19T22:58:32.252128500Z",
     "start_time": "2023-12-19T22:58:32.205093400Z"
    }
   },
   "id": "ff6e5daa07e1339f"
  },
  {
   "cell_type": "code",
   "execution_count": 16,
   "outputs": [
    {
     "name": "stdout",
     "output_type": "stream",
     "text": [
      "[  2   9  22   1   8  11 622   4   3]\n",
      "tf.Tensor([  2   9  22   1   8  11 622   4   3   0   0   0   0   0], shape=(14,), dtype=int64)\n",
      "['[START]' 'no' 'lo' '[UNK]' 'a' 'la' 'lluvia' '.' '[END]']\n"
     ]
    }
   ],
   "source": [
    "print(example_tokens[0].numpy())\n",
    "context_vocab = np.array(context_text_processor.get_vocabulary())\n",
    "tokens = context_vocab[example_tokens[0].numpy()]\n",
    "' '.join(tokens)\n",
    "print(example_tokens.to_tensor()[0])\n",
    "print(tokens)"
   ],
   "metadata": {
    "collapsed": false,
    "ExecuteTime": {
     "end_time": "2023-12-19T22:58:32.311623100Z",
     "start_time": "2023-12-19T22:58:32.244621800Z"
    }
   },
   "id": "a44bde4e08203c6"
  },
  {
   "cell_type": "markdown",
   "source": [
    "you can see from the above that the returned tensors are zero padded - these can be used to form a mask"
   ],
   "metadata": {
    "collapsed": false
   },
   "id": "7f394290bdaf4bf9"
  },
  {
   "cell_type": "code",
   "execution_count": 17,
   "outputs": [
    {
     "data": {
      "text/plain": "Text(0.5, 1.0, 'Mask')"
     },
     "execution_count": 17,
     "metadata": {},
     "output_type": "execute_result"
    },
    {
     "data": {
      "text/plain": "<Figure size 640x480 with 2 Axes>",
      "image/png": "[encoded data removed]"
     },
     "metadata": {},
     "output_type": "display_data"
    }
   ],
   "source": [
    "plt.subplot(1, 2, 1)\n",
    "plt.pcolormesh(example_tokens.to_tensor())\n",
    "plt.title('Token IDs')\n",
    "\n",
    "plt.subplot(1, 2, 2)\n",
    "plt.pcolormesh(example_tokens.to_tensor() != 0)\n",
    "plt.title('Mask')"
   ],
   "metadata": {
    "collapsed": false,
    "ExecuteTime": {
     "end_time": "2023-12-19T22:58:32.594812600Z",
     "start_time": "2023-12-19T22:58:32.270122Z"
    }
   },
   "id": "fa0ccc36bf5607f4"
  },
  {
   "cell_type": "markdown",
   "source": [
    "### process the dataset\n",
    "\n",
    "in the following function, (context, target) becomes ((context,target_in), target_out) for training\n",
    "keras expects (inputs, label) where here, (context, target_in) is the input, and target_out is the label\n",
    "the difference between _in and _out is that _out is shifted one character right, so at each location, the label is the next token (expected value)"
   ],
   "metadata": {
    "collapsed": false
   },
   "id": "a6dc68a6ead29e8b"
  },
  {
   "cell_type": "code",
   "execution_count": 18,
   "outputs": [],
   "source": [
    "def process_text(context, target):\n",
    "  context = context_text_processor(context).to_tensor()\n",
    "  target = target_text_processor(target)\n",
    "  targ_in = target[:,:-1].to_tensor()\n",
    "  targ_out = target[:,1:].to_tensor()\n",
    "  return (context, targ_in), targ_out\n",
    "\n",
    "train_ds = train_raw.map(process_text, tf.data.AUTOTUNE)\n",
    "val_ds = val_raw.map(process_text, tf.data.AUTOTUNE)"
   ],
   "metadata": {
    "collapsed": false,
    "ExecuteTime": {
     "end_time": "2023-12-19T22:58:32.869354700Z",
     "start_time": "2023-12-19T22:58:32.593324500Z"
    }
   },
   "id": "9c48bdce959ed46d"
  },
  {
   "cell_type": "code",
   "execution_count": 19,
   "outputs": [
    {
     "name": "stdout",
     "output_type": "stream",
     "text": [
      "[  2 183 144 894 140   4   3   0   0   0]\n",
      "\n",
      "[  2   8 111  22  80 184   4   0   0   0]\n",
      "[  8 111  22  80 184   4   3   0   0   0]\n"
     ]
    }
   ],
   "source": [
    "for (ex_context_tok, ex_tar_in), ex_tar_out in train_ds.take(1):\n",
    "  print(ex_context_tok[0, :10].numpy()) \n",
    "  print()\n",
    "  print(ex_tar_in[0, :10].numpy()) \n",
    "  print(ex_tar_out[0, :10].numpy())"
   ],
   "metadata": {
    "collapsed": false,
    "ExecuteTime": {
     "end_time": "2023-12-19T22:58:33.068470300Z",
     "start_time": "2023-12-19T22:58:32.870853600Z"
    }
   },
   "id": "586132968a73ef1d"
  },
  {
   "cell_type": "markdown",
   "source": [
    "## Step 2 - The encoder / decoder architecture and model\n",
    "\n",
    "two simplifications from the original attention-based translation model - typically unnecessary:\n",
    "- feeding state from encoder's RNN to the decoder's RNN\n",
    "- Feeding attention output back to the RNN input \n"
   ],
   "metadata": {
    "collapsed": false
   },
   "id": "c98b59f19cc74593"
  },
  {
   "cell_type": "code",
   "execution_count": 20,
   "outputs": [],
   "source": [
    "UNITS = 256"
   ],
   "metadata": {
    "collapsed": false,
    "ExecuteTime": {
     "end_time": "2023-12-19T22:58:33.071459900Z",
     "start_time": "2023-12-19T22:58:33.066969400Z"
    }
   },
   "id": "47592e41f927a42a"
  },
  {
   "cell_type": "markdown",
   "source": [
    "### The encoder design\n",
    "\n",
    "since context sequence is constant, information can flow between any units in the encoder, so use a bidirectional RNN\n",
    "\n",
    "1. gets a list of token IDs\n",
    "2. looks up an embedding vector for each token\n",
    "3. processes the embeddings into a new sequence (using a bidirectional RNN\n",
    "4. returns the processed sequence -> attention head"
   ],
   "metadata": {
    "collapsed": false
   },
   "id": "d97dfe438659a1aa"
  },
  {
   "cell_type": "code",
   "execution_count": 21,
   "outputs": [],
   "source": [
    "class Encoder(tf.keras.layers.Layer):\n",
    "  def __init__(self, text_processor, units):\n",
    "    super(Encoder, self).__init__()\n",
    "    self.text_processor = text_processor\n",
    "    self.vocab_size = text_processor.vocabulary_size()\n",
    "    self.units = units\n",
    "\n",
    "    # The embedding layer converts tokens to vectors\n",
    "    self.embedding = tf.keras.layers.Embedding(self.vocab_size, units,\n",
    "                                               mask_zero=True)\n",
    "\n",
    "    # The RNN layer processes those vectors sequentially.\n",
    "    self.rnn = tf.keras.layers.Bidirectional(\n",
    "        merge_mode='sum',\n",
    "        layer=tf.keras.layers.GRU(units,\n",
    "                            # Return the sequence and state\n",
    "                            return_sequences=True,\n",
    "                            recurrent_initializer='glorot_uniform'))\n",
    "\n",
    "  def call(self, x):\n",
    "    shape_checker = ShapeChecker()\n",
    "    shape_checker(x, 'batch s')\n",
    "\n",
    "    # 2. The embedding layer looks up the embedding vector for each token.\n",
    "    x = self.embedding(x)\n",
    "    shape_checker(x, 'batch s units')\n",
    "\n",
    "    # 3. The GRU processes the sequence of embeddings.\n",
    "    x = self.rnn(x)\n",
    "    shape_checker(x, 'batch s units')\n",
    "\n",
    "    # 4. Returns the new sequence of embeddings.\n",
    "    return x\n",
    "\n",
    "  def convert_input(self, texts):\n",
    "    texts = tf.convert_to_tensor(texts)\n",
    "    if len(texts.shape) == 0:\n",
    "      texts = tf.convert_to_tensor(texts)[tf.newaxis]\n",
    "    context = self.text_processor(texts).to_tensor()\n",
    "    context = self(context)\n",
    "    return context"
   ],
   "metadata": {
    "collapsed": false,
    "ExecuteTime": {
     "end_time": "2023-12-19T22:58:33.117965700Z",
     "start_time": "2023-12-19T22:58:33.072961700Z"
    }
   },
   "id": "98dd03eace5a465"
  },
  {
   "cell_type": "code",
   "execution_count": 22,
   "outputs": [
    {
     "name": "stdout",
     "output_type": "stream",
     "text": [
      "Context tokens, shape (batch, s): (64, 19)\n",
      "Encoder output, shape (batch, s, units): (64, 19, 256)\n"
     ]
    }
   ],
   "source": [
    "# Encode the input sequence.\n",
    "encoder = Encoder(context_text_processor, UNITS)\n",
    "ex_context = encoder(ex_context_tok)\n",
    "\n",
    "print(f'Context tokens, shape (batch, s): {ex_context_tok.shape}')\n",
    "print(f'Encoder output, shape (batch, s, units): {ex_context.shape}')"
   ],
   "metadata": {
    "collapsed": false,
    "ExecuteTime": {
     "end_time": "2023-12-19T22:58:33.304017600Z",
     "start_time": "2023-12-19T22:58:33.090460600Z"
    }
   },
   "id": "a1eae5c7a7177d77"
  },
  {
   "cell_type": "markdown",
   "source": [
    "### the attention layer\n",
    "\n",
    "weighted average across comtext sequence - weights are a combination of context and \"query\" vectors"
   ],
   "metadata": {
    "collapsed": false
   },
   "id": "67687f2a52b69181"
  },
  {
   "cell_type": "code",
   "execution_count": 25,
   "outputs": [],
   "source": [
    "class CrossAttention(tf.keras.layers.Layer):\n",
    "  def __init__(self, units, **kwargs):\n",
    "    super().__init__()\n",
    "    self.mha = tf.keras.layers.MultiHeadAttention(key_dim=units, num_heads=1, **kwargs)\n",
    "    self.layernorm = tf.keras.layers.LayerNormalization()\n",
    "    self.add = tf.keras.layers.Add()\n",
    "\n",
    "  def call(self, x, context):\n",
    "    shape_checker = ShapeChecker()\n",
    "\n",
    "    shape_checker(x, 'batch t units')\n",
    "    shape_checker(context, 'batch s units')\n",
    "\n",
    "    attn_output, attn_scores = self.mha(\n",
    "        query=x,\n",
    "        value=context,\n",
    "        return_attention_scores=True)\n",
    "\n",
    "    shape_checker(x, 'batch t units')\n",
    "    shape_checker(attn_scores, 'batch heads t s')\n",
    "\n",
    "    # Cache the attention scores for plotting later.\n",
    "    attn_scores = tf.reduce_mean(attn_scores, axis=1)\n",
    "    shape_checker(attn_scores, 'batch t s')\n",
    "    self.last_attention_weights = attn_scores\n",
    "\n",
    "    x = self.add([x, attn_output])\n",
    "    x = self.layernorm(x)\n",
    "\n",
    "    return x"
   ],
   "metadata": {
    "collapsed": false,
    "ExecuteTime": {
     "end_time": "2023-12-19T23:00:03.746175900Z",
     "start_time": "2023-12-19T23:00:03.732171300Z"
    }
   },
   "id": "732d9305f09524a2"
  },
  {
   "cell_type": "code",
   "execution_count": 26,
   "outputs": [
    {
     "name": "stdout",
     "output_type": "stream",
     "text": [
      "Context sequence, shape (batch, s, units): (64, 19, 256)\n",
      "Target sequence, shape (batch, t, units): (64, 18, 256)\n",
      "Attention result, shape (batch, t, units): (64, 18, 256)\n",
      "Attention weights, shape (batch, t, s):    (64, 18, 19)\n"
     ]
    }
   ],
   "source": [
    "attention_layer = CrossAttention(UNITS)\n",
    "\n",
    "# Attend to the encoded tokens\n",
    "embed = tf.keras.layers.Embedding(target_text_processor.vocabulary_size(),\n",
    "                                  output_dim=UNITS, mask_zero=True)\n",
    "ex_tar_embed = embed(ex_tar_in)\n",
    "\n",
    "result = attention_layer(ex_tar_embed, ex_context)\n",
    "\n",
    "print(f'Context sequence, shape (batch, s, units): {ex_context.shape}')\n",
    "print(f'Target sequence, shape (batch, t, units): {ex_tar_embed.shape}')\n",
    "print(f'Attention result, shape (batch, t, units): {result.shape}')\n",
    "print(f'Attention weights, shape (batch, t, s):    {attention_layer.last_attention_weights.shape}')"
   ],
   "metadata": {
    "collapsed": false,
    "ExecuteTime": {
     "end_time": "2023-12-19T23:00:07.019623800Z",
     "start_time": "2023-12-19T23:00:06.959610400Z"
    }
   },
   "id": "66aee0d9381649c3"
  },
  {
   "cell_type": "code",
   "execution_count": 27,
   "outputs": [
    {
     "data": {
      "text/plain": "array([1.        , 1.        , 1.        , 1.        , 1.        ,\n       0.99999994, 1.        , 0.99999994, 0.99999994, 0.99999994,\n       0.99999994, 0.99999994, 0.99999994, 0.99999994, 0.99999994,\n       0.99999994, 0.99999994, 0.99999994], dtype=float32)"
     },
     "execution_count": 27,
     "metadata": {},
     "output_type": "execute_result"
    }
   ],
   "source": [
    "attention_layer.last_attention_weights[0].numpy().sum(axis=-1)"
   ],
   "metadata": {
    "collapsed": false,
    "ExecuteTime": {
     "end_time": "2023-12-19T23:00:33.526419600Z",
     "start_time": "2023-12-19T23:00:33.505424600Z"
    }
   },
   "id": "1c9d0d22b028a49b"
  },
  {
   "cell_type": "code",
   "execution_count": 28,
   "outputs": [
    {
     "data": {
      "text/plain": "<Figure size 640x480 with 2 Axes>",
      "image/png": "[encoded data removed]"
     },
     "metadata": {},
     "output_type": "display_data"
    }
   ],
   "source": [
    "attention_weights = attention_layer.last_attention_weights\n",
    "mask=(ex_context_tok != 0).numpy()\n",
    "\n",
    "plt.subplot(1, 2, 1)\n",
    "plt.pcolormesh(mask*attention_weights[:, 0, :])\n",
    "plt.title('Attention weights')\n",
    "\n",
    "plt.subplot(1, 2, 2)\n",
    "plt.pcolormesh(mask)\n",
    "plt.title('Mask');"
   ],
   "metadata": {
    "collapsed": false,
    "ExecuteTime": {
     "end_time": "2023-12-19T23:01:15.543698700Z",
     "start_time": "2023-12-19T23:01:15.165585900Z"
    }
   },
   "id": "5fcc6245fe8df372"
  },
  {
   "cell_type": "markdown",
   "source": [
    "### the decoder\n",
    "\n",
    "1. looks up embeddings for each token in the target sequence\n",
    "2. uses an RNN to process target sequence, and to track generated state\n",
    "3. uses RNN output as the \"query\" to the attention layer, attending to encoder's output\n",
    "4. At each location it predicts the next token - unidirectional RNN to process target sequence"
   ],
   "metadata": {
    "collapsed": false
   },
   "id": "cdb8fe6826f724da"
  },
  {
   "cell_type": "code",
   "execution_count": 29,
   "outputs": [],
   "source": [
    "class Decoder(tf.keras.layers.Layer):\n",
    "  @classmethod\n",
    "  def add_method(cls, fun):\n",
    "    setattr(cls, fun.__name__, fun)\n",
    "    return fun\n",
    "\n",
    "  def __init__(self, text_processor, units):\n",
    "    super(Decoder, self).__init__()\n",
    "    self.text_processor = text_processor\n",
    "    self.vocab_size = text_processor.vocabulary_size()\n",
    "    self.word_to_id = tf.keras.layers.StringLookup(\n",
    "        vocabulary=text_processor.get_vocabulary(),\n",
    "        mask_token='', oov_token='[UNK]')\n",
    "    self.id_to_word = tf.keras.layers.StringLookup(\n",
    "        vocabulary=text_processor.get_vocabulary(),\n",
    "        mask_token='', oov_token='[UNK]',\n",
    "        invert=True)\n",
    "    self.start_token = self.word_to_id('[START]')\n",
    "    self.end_token = self.word_to_id('[END]')\n",
    "\n",
    "    self.units = units\n",
    "\n",
    "\n",
    "    # 1. The embedding layer converts token IDs to vectors\n",
    "    self.embedding = tf.keras.layers.Embedding(self.vocab_size,\n",
    "                                               units, mask_zero=True)\n",
    "\n",
    "    # 2. The RNN keeps track of what's been generated so far.\n",
    "    self.rnn = tf.keras.layers.GRU(units,\n",
    "                                   return_sequences=True,\n",
    "                                   return_state=True,\n",
    "                                   recurrent_initializer='glorot_uniform')\n",
    "\n",
    "    # 3. The RNN output will be the query for the attention layer.\n",
    "    self.attention = CrossAttention(units)\n",
    "\n",
    "    # 4. This fully connected layer produces the logits for each\n",
    "    # output token.\n",
    "    self.output_layer = tf.keras.layers.Dense(self.vocab_size)"
   ],
   "metadata": {
    "collapsed": false,
    "ExecuteTime": {
     "end_time": "2023-12-19T23:03:11.031516900Z",
     "start_time": "2023-12-19T23:03:11.012521700Z"
    }
   },
   "id": "3130b8f22780e33a"
  },
  {
   "cell_type": "code",
   "execution_count": 30,
   "outputs": [],
   "source": [
    "@Decoder.add_method\n",
    "def call(self,\n",
    "         context, x,\n",
    "         state=None,\n",
    "         return_state=False):  \n",
    "  shape_checker = ShapeChecker()\n",
    "  shape_checker(x, 'batch t')\n",
    "  shape_checker(context, 'batch s units')\n",
    "\n",
    "  # 1. Lookup the embeddings\n",
    "  x = self.embedding(x)\n",
    "  shape_checker(x, 'batch t units')\n",
    "\n",
    "  # 2. Process the target sequence.\n",
    "  x, state = self.rnn(x, initial_state=state)\n",
    "  shape_checker(x, 'batch t units')\n",
    "\n",
    "  # 3. Use the RNN output as the query for the attention over the context.\n",
    "  x = self.attention(x, context)\n",
    "  self.last_attention_weights = self.attention.last_attention_weights\n",
    "  shape_checker(x, 'batch t units')\n",
    "  shape_checker(self.last_attention_weights, 'batch t s')\n",
    "\n",
    "  # Step 4. Generate logit predictions for the next token.\n",
    "  logits = self.output_layer(x)\n",
    "  shape_checker(logits, 'batch t target_vocab_size')\n",
    "\n",
    "  if return_state:\n",
    "    return logits, state\n",
    "  else:\n",
    "    return logits"
   ],
   "metadata": {
    "collapsed": false,
    "ExecuteTime": {
     "end_time": "2023-12-19T23:03:53.247735700Z",
     "start_time": "2023-12-19T23:03:53.229232Z"
    }
   },
   "id": "feb328e9ad3b3b1d"
  },
  {
   "cell_type": "code",
   "execution_count": 31,
   "outputs": [],
   "source": [
    "decoder = Decoder(target_text_processor, UNITS)"
   ],
   "metadata": {
    "collapsed": false,
    "ExecuteTime": {
     "end_time": "2023-12-19T23:04:00.998328900Z",
     "start_time": "2023-12-19T23:04:00.865811600Z"
    }
   },
   "id": "a03146cea4850bea"
  },
  {
   "cell_type": "code",
   "execution_count": 32,
   "outputs": [
    {
     "name": "stdout",
     "output_type": "stream",
     "text": [
      "encoder output shape: (batch, s, units) (64, 19, 256)\n",
      "input target tokens shape: (batch, t) (64, 18)\n",
      "logits shape shape: (batch, target_vocabulary_size) (64, 18, 5000)\n"
     ]
    }
   ],
   "source": [
    "logits = decoder(ex_context, ex_tar_in)\n",
    "\n",
    "print(f'encoder output shape: (batch, s, units) {ex_context.shape}')\n",
    "print(f'input target tokens shape: (batch, t) {ex_tar_in.shape}')\n",
    "print(f'logits shape shape: (batch, target_vocabulary_size) {logits.shape}')"
   ],
   "metadata": {
    "collapsed": false,
    "ExecuteTime": {
     "end_time": "2023-12-19T23:04:19.164902700Z",
     "start_time": "2023-12-19T23:04:18.981380700Z"
    }
   },
   "id": "de52f762c5b8853d"
  },
  {
   "cell_type": "code",
   "execution_count": 33,
   "outputs": [],
   "source": [
    "@Decoder.add_method\n",
    "def get_initial_state(self, context):\n",
    "  batch_size = tf.shape(context)[0]\n",
    "  start_tokens = tf.fill([batch_size, 1], self.start_token)\n",
    "  done = tf.zeros([batch_size, 1], dtype=tf.bool)\n",
    "  embedded = self.embedding(start_tokens)\n",
    "  return start_tokens, done, self.rnn.get_initial_state(embedded)[0]"
   ],
   "metadata": {
    "collapsed": false,
    "ExecuteTime": {
     "end_time": "2023-12-19T23:04:45.632104300Z",
     "start_time": "2023-12-19T23:04:45.607075500Z"
    }
   },
   "id": "c8d1bc78091ddc56"
  },
  {
   "cell_type": "code",
   "execution_count": 34,
   "outputs": [],
   "source": [
    "@Decoder.add_method\n",
    "def tokens_to_text(self, tokens):\n",
    "  words = self.id_to_word(tokens)\n",
    "  result = tf.strings.reduce_join(words, axis=-1, separator=' ')\n",
    "  result = tf.strings.regex_replace(result, '^ *\\[START\\] *', '')\n",
    "  result = tf.strings.regex_replace(result, ' *\\[END\\] *$', '')\n",
    "  return result"
   ],
   "metadata": {
    "collapsed": false,
    "ExecuteTime": {
     "end_time": "2023-12-19T23:04:51.887521900Z",
     "start_time": "2023-12-19T23:04:51.863491500Z"
    }
   },
   "id": "4ebf4c242e5cf209"
  },
  {
   "cell_type": "code",
   "execution_count": 35,
   "outputs": [],
   "source": [
    "@Decoder.add_method\n",
    "def get_next_token(self, context, next_token, done, state, temperature = 0.0):\n",
    "  logits, state = self(\n",
    "    context, next_token,\n",
    "    state = state,\n",
    "    return_state=True) \n",
    "\n",
    "  if temperature == 0.0:\n",
    "    next_token = tf.argmax(logits, axis=-1)\n",
    "  else:\n",
    "    logits = logits[:, -1, :]/temperature\n",
    "    next_token = tf.random.categorical(logits, num_samples=1)\n",
    "\n",
    "  # If a sequence produces an `end_token`, set it `done`\n",
    "  done = done | (next_token == self.end_token)\n",
    "  # Once a sequence is done it only produces 0-padding.\n",
    "  next_token = tf.where(done, tf.constant(0, dtype=tf.int64), next_token)\n",
    "\n",
    "  return next_token, done, state"
   ],
   "metadata": {
    "collapsed": false,
    "ExecuteTime": {
     "end_time": "2023-12-19T23:05:04.081233100Z",
     "start_time": "2023-12-19T23:05:04.067236300Z"
    }
   },
   "id": "d1e3b3530a2a036b"
  },
  {
   "cell_type": "code",
   "execution_count": 36,
   "outputs": [
    {
     "data": {
      "text/plain": "array([b'lived nap meat woman picking becoming hoping admire flew patience',\n       b'waiting shall shopping web tune agent approached whereabouts entrance couldve',\n       b'state pioneer francisco recover skinny movie official matters unaware refuses'],\n      dtype=object)"
     },
     "execution_count": 36,
     "metadata": {},
     "output_type": "execute_result"
    }
   ],
   "source": [
    "# Setup the loop variables.\n",
    "next_token, done, state = decoder.get_initial_state(ex_context)\n",
    "tokens = []\n",
    "\n",
    "for n in range(10):\n",
    "  # Run one step.\n",
    "  next_token, done, state = decoder.get_next_token(\n",
    "      ex_context, next_token, done, state, temperature=1.0)\n",
    "  # Add the token to the output.\n",
    "  tokens.append(next_token)\n",
    "\n",
    "# Stack all the tokens together.\n",
    "tokens = tf.concat(tokens, axis=-1) # (batch, t)\n",
    "\n",
    "# Convert the tokens back to a a string\n",
    "result = decoder.tokens_to_text(tokens)\n",
    "result[:3].numpy()"
   ],
   "metadata": {
    "collapsed": false,
    "ExecuteTime": {
     "end_time": "2023-12-19T23:05:17.884667700Z",
     "start_time": "2023-12-19T23:05:17.048383900Z"
    }
   },
   "id": "ec80df5eb89305b9"
  },
  {
   "cell_type": "markdown",
   "source": [
    "## The complete model\n"
   ],
   "metadata": {
    "collapsed": false
   },
   "id": "8967f304757ac93d"
  },
  {
   "cell_type": "code",
   "execution_count": 37,
   "outputs": [],
   "source": [
    "class Translator(tf.keras.Model):\n",
    "  @classmethod\n",
    "  def add_method(cls, fun):\n",
    "    setattr(cls, fun.__name__, fun)\n",
    "    return fun\n",
    "\n",
    "  def __init__(self, units,\n",
    "               context_text_processor,\n",
    "               target_text_processor):\n",
    "    super().__init__()\n",
    "    # Build the encoder and decoder\n",
    "    encoder = Encoder(context_text_processor, units)\n",
    "    decoder = Decoder(target_text_processor, units)\n",
    "\n",
    "    self.encoder = encoder\n",
    "    self.decoder = decoder\n",
    "\n",
    "  def call(self, inputs):\n",
    "    context, x = inputs\n",
    "    context = self.encoder(context)\n",
    "    logits = self.decoder(context, x)\n",
    "\n",
    "    #TODO(b/250038731): remove this\n",
    "    try:\n",
    "      # Delete the keras mask, so keras doesn't scale the loss+accuracy. \n",
    "      del logits._keras_mask\n",
    "    except AttributeError:\n",
    "      pass\n",
    "\n",
    "    return logits"
   ],
   "metadata": {
    "collapsed": false,
    "ExecuteTime": {
     "end_time": "2023-12-19T23:06:26.862754800Z",
     "start_time": "2023-12-19T23:06:26.820260900Z"
    }
   },
   "id": "3e588b205cb26400"
  },
  {
   "cell_type": "code",
   "execution_count": null,
   "outputs": [],
   "source": [],
   "metadata": {
    "collapsed": false
   },
   "id": "4a7d43c5b82d6813"
  },
  {
   "cell_type": "code",
   "execution_count": 38,
   "outputs": [
    {
     "name": "stdout",
     "output_type": "stream",
     "text": [
      "Context tokens, shape: (batch, s, units) (64, 19)\n",
      "Target tokens, shape: (batch, t) (64, 18)\n",
      "logits, shape: (batch, t, target_vocabulary_size) (64, 18, 5000)\n"
     ]
    }
   ],
   "source": [
    "model = Translator(UNITS, context_text_processor, target_text_processor)\n",
    "\n",
    "logits = model((ex_context_tok, ex_tar_in))\n",
    "\n",
    "print(f'Context tokens, shape: (batch, s, units) {ex_context_tok.shape}')\n",
    "print(f'Target tokens, shape: (batch, t) {ex_tar_in.shape}')\n",
    "print(f'logits, shape: (batch, t, target_vocabulary_size) {logits.shape}')"
   ],
   "metadata": {
    "collapsed": false,
    "ExecuteTime": {
     "end_time": "2023-12-19T23:06:37.803667400Z",
     "start_time": "2023-12-19T23:06:37.015941500Z"
    }
   },
   "id": "eab06dfb65c1fd00"
  },
  {
   "cell_type": "code",
   "execution_count": 39,
   "outputs": [],
   "source": [
    "def masked_loss(y_true, y_pred):\n",
    "    # Calculate the loss for each item in the batch.\n",
    "    loss_fn = tf.keras.losses.SparseCategoricalCrossentropy(\n",
    "        from_logits=True, reduction='none')\n",
    "    loss = loss_fn(y_true, y_pred)\n",
    "\n",
    "    # Mask off the losses on padding.\n",
    "    mask = tf.cast(y_true != 0, loss.dtype)\n",
    "    loss *= mask\n",
    "\n",
    "    # Return the total.\n",
    "    return tf.reduce_sum(loss)/tf.reduce_sum(mask)"
   ],
   "metadata": {
    "collapsed": false,
    "ExecuteTime": {
     "end_time": "2023-12-19T23:06:53.862472900Z",
     "start_time": "2023-12-19T23:06:53.834473600Z"
    }
   },
   "id": "b59295643498dbd3"
  },
  {
   "cell_type": "code",
   "execution_count": 40,
   "outputs": [],
   "source": [
    "def masked_acc(y_true, y_pred):\n",
    "    # Calculate the loss for each item in the batch.\n",
    "    y_pred = tf.argmax(y_pred, axis=-1)\n",
    "    y_pred = tf.cast(y_pred, y_true.dtype)\n",
    "\n",
    "    match = tf.cast(y_true == y_pred, tf.float32)\n",
    "    mask = tf.cast(y_true != 0, tf.float32)\n",
    "\n",
    "    return tf.reduce_sum(match)/tf.reduce_sum(mask)"
   ],
   "metadata": {
    "collapsed": false,
    "ExecuteTime": {
     "end_time": "2023-12-19T23:07:02.061302700Z",
     "start_time": "2023-12-19T23:07:02.031814300Z"
    }
   },
   "id": "b756c345011f23b"
  },
  {
   "cell_type": "code",
   "execution_count": 41,
   "outputs": [],
   "source": [
    "model.compile(optimizer='adam',\n",
    "              loss=masked_loss, \n",
    "              metrics=[masked_acc, masked_loss])"
   ],
   "metadata": {
    "collapsed": false,
    "ExecuteTime": {
     "end_time": "2023-12-19T23:07:10.035256300Z",
     "start_time": "2023-12-19T23:07:09.991741600Z"
    }
   },
   "id": "c5f77e99afe65e68"
  },
  {
   "cell_type": "code",
   "execution_count": 42,
   "outputs": [
    {
     "data": {
      "text/plain": "{'expected_loss': 8.517193, 'expected_acc': 0.0002}"
     },
     "execution_count": 42,
     "metadata": {},
     "output_type": "execute_result"
    }
   ],
   "source": [
    "vocab_size = 1.0 * target_text_processor.vocabulary_size()\n",
    "\n",
    "{\"expected_loss\": tf.math.log(vocab_size).numpy(),\n",
    " \"expected_acc\": 1/vocab_size}"
   ],
   "metadata": {
    "collapsed": false,
    "ExecuteTime": {
     "end_time": "2023-12-19T23:07:26.970588400Z",
     "start_time": "2023-12-19T23:07:26.929564800Z"
    }
   },
   "id": "f12640adf599e516"
  },
  {
   "cell_type": "code",
   "execution_count": 43,
   "outputs": [
    {
     "name": "stdout",
     "output_type": "stream",
     "text": [
      "20/20 [==============================] - 8s 91ms/step - loss: 8.5270 - masked_acc: 1.8233e-04 - masked_loss: 8.5270\n"
     ]
    },
    {
     "data": {
      "text/plain": "{'loss': 8.526970863342285,\n 'masked_acc': 0.0001823276688810438,\n 'masked_loss': 8.526970863342285}"
     },
     "execution_count": 43,
     "metadata": {},
     "output_type": "execute_result"
    }
   ],
   "source": [
    "model.evaluate(val_ds, steps=20, return_dict=True)\n"
   ],
   "metadata": {
    "collapsed": false,
    "ExecuteTime": {
     "end_time": "2023-12-19T23:07:53.077293Z",
     "start_time": "2023-12-19T23:07:44.607410200Z"
    }
   },
   "id": "2c68fb94c4fa2598"
  },
  {
   "cell_type": "code",
   "execution_count": 44,
   "outputs": [
    {
     "name": "stdout",
     "output_type": "stream",
     "text": [
      "Epoch 1/100\n",
      "100/100 [==============================] - 34s 238ms/step - loss: 5.0386 - masked_acc: 0.2630 - masked_loss: 5.0386 - val_loss: 4.1272 - val_masked_acc: 0.3512 - val_masked_loss: 4.1272\n",
      "Epoch 2/100\n",
      "100/100 [==============================] - 25s 253ms/step - loss: 3.6851 - masked_acc: 0.4048 - masked_loss: 3.6851 - val_loss: 3.3655 - val_masked_acc: 0.4475 - val_masked_loss: 3.3655\n",
      "Epoch 3/100\n",
      "100/100 [==============================] - 26s 256ms/step - loss: 3.1141 - masked_acc: 0.4815 - masked_loss: 3.1141 - val_loss: 2.8131 - val_masked_acc: 0.5163 - val_masked_loss: 2.8131\n",
      "Epoch 4/100\n",
      "100/100 [==============================] - 24s 242ms/step - loss: 2.6951 - masked_acc: 0.5401 - masked_loss: 2.6951 - val_loss: 2.5959 - val_masked_acc: 0.5575 - val_masked_loss: 2.5959\n",
      "Epoch 5/100\n",
      "100/100 [==============================] - 24s 244ms/step - loss: 2.3875 - masked_acc: 0.5822 - masked_loss: 2.3875 - val_loss: 2.3232 - val_masked_acc: 0.5946 - val_masked_loss: 2.3232\n",
      "Epoch 6/100\n",
      "100/100 [==============================] - 25s 248ms/step - loss: 2.1506 - masked_acc: 0.6193 - masked_loss: 2.1506 - val_loss: 2.0641 - val_masked_acc: 0.6317 - val_masked_loss: 2.0641\n",
      "Epoch 7/100\n",
      "100/100 [==============================] - 24s 241ms/step - loss: 1.9983 - masked_acc: 0.6423 - masked_loss: 1.9983 - val_loss: 1.8876 - val_masked_acc: 0.6537 - val_masked_loss: 1.8876\n",
      "Epoch 8/100\n",
      "100/100 [==============================] - 25s 246ms/step - loss: 1.8873 - masked_acc: 0.6579 - masked_loss: 1.8873 - val_loss: 1.8236 - val_masked_acc: 0.6703 - val_masked_loss: 1.8236\n",
      "Epoch 9/100\n",
      "100/100 [==============================] - 24s 244ms/step - loss: 1.7952 - masked_acc: 0.6725 - masked_loss: 1.7952 - val_loss: 1.6964 - val_masked_acc: 0.6784 - val_masked_loss: 1.6964\n",
      "Epoch 10/100\n",
      "100/100 [==============================] - 24s 236ms/step - loss: 1.7100 - masked_acc: 0.6803 - masked_loss: 1.7100 - val_loss: 1.6517 - val_masked_acc: 0.6858 - val_masked_loss: 1.6517\n",
      "Epoch 11/100\n",
      "100/100 [==============================] - 23s 231ms/step - loss: 1.6190 - masked_acc: 0.6939 - masked_loss: 1.6190 - val_loss: 1.5699 - val_masked_acc: 0.6955 - val_masked_loss: 1.5699\n",
      "Epoch 12/100\n",
      "100/100 [==============================] - 25s 255ms/step - loss: 1.5717 - masked_acc: 0.6988 - masked_loss: 1.5717 - val_loss: 1.5456 - val_masked_acc: 0.7047 - val_masked_loss: 1.5456\n",
      "Epoch 13/100\n",
      "100/100 [==============================] - 30s 297ms/step - loss: 1.5146 - masked_acc: 0.7086 - masked_loss: 1.5146 - val_loss: 1.4742 - val_masked_acc: 0.7065 - val_masked_loss: 1.4742\n",
      "Epoch 14/100\n",
      "100/100 [==============================] - 25s 248ms/step - loss: 1.4535 - masked_acc: 0.7192 - masked_loss: 1.4535 - val_loss: 1.4257 - val_masked_acc: 0.7194 - val_masked_loss: 1.4257\n",
      "Epoch 15/100\n",
      "100/100 [==============================] - 27s 265ms/step - loss: 1.4119 - masked_acc: 0.7233 - masked_loss: 1.4123 - val_loss: 1.4822 - val_masked_acc: 0.7127 - val_masked_loss: 1.4822\n",
      "Epoch 16/100\n",
      "100/100 [==============================] - 29s 289ms/step - loss: 1.2225 - masked_acc: 0.7450 - masked_loss: 1.2225 - val_loss: 1.3565 - val_masked_acc: 0.7332 - val_masked_loss: 1.3565\n",
      "Epoch 17/100\n",
      "100/100 [==============================] - 28s 285ms/step - loss: 1.1982 - masked_acc: 0.7482 - masked_loss: 1.1982 - val_loss: 1.3950 - val_masked_acc: 0.7251 - val_masked_loss: 1.3950\n",
      "Epoch 18/100\n",
      "100/100 [==============================] - 24s 242ms/step - loss: 1.2206 - masked_acc: 0.7471 - masked_loss: 1.2206 - val_loss: 1.4118 - val_masked_acc: 0.7217 - val_masked_loss: 1.4118\n",
      "Epoch 19/100\n",
      "100/100 [==============================] - 24s 236ms/step - loss: 1.1925 - masked_acc: 0.7486 - masked_loss: 1.1925 - val_loss: 1.3191 - val_masked_acc: 0.7363 - val_masked_loss: 1.3191\n",
      "Epoch 20/100\n",
      "100/100 [==============================] - 26s 258ms/step - loss: 1.1816 - masked_acc: 0.7509 - masked_loss: 1.1816 - val_loss: 1.3264 - val_masked_acc: 0.7326 - val_masked_loss: 1.3264\n",
      "Epoch 21/100\n",
      "100/100 [==============================] - 29s 290ms/step - loss: 1.1949 - masked_acc: 0.7477 - masked_loss: 1.1949 - val_loss: 1.3522 - val_masked_acc: 0.7257 - val_masked_loss: 1.3522\n",
      "Epoch 22/100\n",
      "100/100 [==============================] - 27s 268ms/step - loss: 1.1714 - masked_acc: 0.7560 - masked_loss: 1.1714 - val_loss: 1.2418 - val_masked_acc: 0.7475 - val_masked_loss: 1.2418\n",
      "Epoch 23/100\n",
      "100/100 [==============================] - 24s 243ms/step - loss: 1.1769 - masked_acc: 0.7528 - masked_loss: 1.1769 - val_loss: 1.2859 - val_masked_acc: 0.7352 - val_masked_loss: 1.2859\n",
      "Epoch 24/100\n",
      "100/100 [==============================] - 24s 241ms/step - loss: 1.1732 - masked_acc: 0.7534 - masked_loss: 1.1732 - val_loss: 1.2848 - val_masked_acc: 0.7416 - val_masked_loss: 1.2848\n",
      "Epoch 25/100\n",
      "100/100 [==============================] - 24s 243ms/step - loss: 1.1511 - masked_acc: 0.7587 - masked_loss: 1.1511 - val_loss: 1.2567 - val_masked_acc: 0.7458 - val_masked_loss: 1.2567\n"
     ]
    }
   ],
   "source": [
    "history = model.fit(\n",
    "    train_ds.repeat(), \n",
    "    epochs=100,\n",
    "    steps_per_epoch = 100,\n",
    "    validation_data=val_ds,\n",
    "    validation_steps = 20,\n",
    "    callbacks=[\n",
    "        tf.keras.callbacks.EarlyStopping(patience=3)])"
   ],
   "metadata": {
    "collapsed": false,
    "ExecuteTime": {
     "end_time": "2023-12-19T23:18:57.353249800Z",
     "start_time": "2023-12-19T23:08:13.710948600Z"
    }
   },
   "id": "51a0c1d380b1f11f"
  },
  {
   "cell_type": "code",
   "execution_count": 45,
   "outputs": [
    {
     "data": {
      "text/plain": "<matplotlib.legend.Legend at 0x2bf2a827850>"
     },
     "execution_count": 45,
     "metadata": {},
     "output_type": "execute_result"
    },
    {
     "data": {
      "text/plain": "<Figure size 640x480 with 1 Axes>",
      "image/png": "[encoded data removed]"
     },
     "metadata": {},
     "output_type": "display_data"
    }
   ],
   "source": [
    "plt.plot(history.history['loss'], label='loss')\n",
    "plt.plot(history.history['val_loss'], label='val_loss')\n",
    "plt.ylim([0, max(plt.ylim())])\n",
    "plt.xlabel('Epoch #')\n",
    "plt.ylabel('CE/token')\n",
    "plt.legend()"
   ],
   "metadata": {
    "collapsed": false,
    "ExecuteTime": {
     "end_time": "2023-12-19T23:28:47.134913600Z",
     "start_time": "2023-12-19T23:28:46.979858300Z"
    }
   },
   "id": "36d5919872a9b323"
  },
  {
   "cell_type": "code",
   "execution_count": 46,
   "outputs": [
    {
     "data": {
      "text/plain": "<matplotlib.legend.Legend at 0x2bf654eb7f0>"
     },
     "execution_count": 46,
     "metadata": {},
     "output_type": "execute_result"
    },
    {
     "data": {
      "text/plain": "<Figure size 640x480 with 1 Axes>",
      "image/png": "[encoded data removed]"
     },
     "metadata": {},
     "output_type": "display_data"
    }
   ],
   "source": [
    "plt.plot(history.history['masked_acc'], label='accuracy')\n",
    "plt.plot(history.history['val_masked_acc'], label='val_accuracy')\n",
    "plt.ylim([0, max(plt.ylim())])\n",
    "plt.xlabel('Epoch #')\n",
    "plt.ylabel('CE/token')\n",
    "plt.legend()"
   ],
   "metadata": {
    "collapsed": false,
    "ExecuteTime": {
     "end_time": "2023-12-19T23:28:53.906821500Z",
     "start_time": "2023-12-19T23:28:53.748242100Z"
    }
   },
   "id": "5628888de70e43d3"
  },
  {
   "cell_type": "code",
   "execution_count": 47,
   "outputs": [],
   "source": [
    "@Translator.add_method\n",
    "def translate(self,\n",
    "              texts, *,\n",
    "              max_length=50,\n",
    "              temperature=0.0):\n",
    "  # Process the input texts\n",
    "  context = self.encoder.convert_input(texts)\n",
    "  batch_size = tf.shape(texts)[0]\n",
    "\n",
    "  # Setup the loop inputs\n",
    "  tokens = []\n",
    "  attention_weights = []\n",
    "  next_token, done, state = self.decoder.get_initial_state(context)\n",
    "\n",
    "  for _ in range(max_length):\n",
    "    # Generate the next token\n",
    "    next_token, done, state = self.decoder.get_next_token(\n",
    "        context, next_token, done,  state, temperature)\n",
    "\n",
    "    # Collect the generated tokens\n",
    "    tokens.append(next_token)\n",
    "    attention_weights.append(self.decoder.last_attention_weights)\n",
    "\n",
    "    if tf.executing_eagerly() and tf.reduce_all(done):\n",
    "      break\n",
    "\n",
    "  # Stack the lists of tokens and attention weights.\n",
    "  tokens = tf.concat(tokens, axis=-1)   # t*[(batch 1)] -> (batch, t)\n",
    "  self.last_attention_weights = tf.concat(attention_weights, axis=1)  # t*[(batch 1 s)] -> (batch, t s)\n",
    "\n",
    "  result = self.decoder.tokens_to_text(tokens)\n",
    "  return result"
   ],
   "metadata": {
    "collapsed": false,
    "ExecuteTime": {
     "end_time": "2023-12-19T23:28:59.697158300Z",
     "start_time": "2023-12-19T23:28:59.678151300Z"
    }
   },
   "id": "14545ba071f0b3a0"
  },
  {
   "cell_type": "code",
   "execution_count": 48,
   "outputs": [
    {
     "data": {
      "text/plain": "'is it still at home ? '"
     },
     "execution_count": 48,
     "metadata": {},
     "output_type": "execute_result"
    }
   ],
   "source": [
    "result = model.translate(['¿Todavía está en casa?']) # Are you still home\n",
    "result[0].numpy().decode()"
   ],
   "metadata": {
    "collapsed": false,
    "ExecuteTime": {
     "end_time": "2023-12-19T23:29:02.577140700Z",
     "start_time": "2023-12-19T23:29:02.322404100Z"
    }
   },
   "id": "29bc68713cb8a1f3"
  },
  {
   "cell_type": "code",
   "execution_count": 49,
   "outputs": [],
   "source": [
    "@Translator.add_method\n",
    "def plot_attention(self, text, **kwargs):\n",
    "  assert isinstance(text, str)\n",
    "  output = self.translate([text], **kwargs)\n",
    "  output = output[0].numpy().decode()\n",
    "\n",
    "  attention = self.last_attention_weights[0]\n",
    "\n",
    "  context = tf_lower_and_split_punct(text)\n",
    "  context = context.numpy().decode().split()\n",
    "\n",
    "  output = tf_lower_and_split_punct(output)\n",
    "  output = output.numpy().decode().split()[1:]\n",
    "\n",
    "  fig = plt.figure(figsize=(10, 10))\n",
    "  ax = fig.add_subplot(1, 1, 1)\n",
    "\n",
    "  ax.matshow(attention, cmap='viridis', vmin=0.0)\n",
    "\n",
    "  fontdict = {'fontsize': 14}\n",
    "\n",
    "  ax.set_xticklabels([''] + context, fontdict=fontdict, rotation=90)\n",
    "  ax.set_yticklabels([''] + output, fontdict=fontdict)\n",
    "\n",
    "  ax.xaxis.set_major_locator(ticker.MultipleLocator(1))\n",
    "  ax.yaxis.set_major_locator(ticker.MultipleLocator(1))\n",
    "\n",
    "  ax.set_xlabel('Input text')\n",
    "  ax.set_ylabel('Output text')"
   ],
   "metadata": {
    "collapsed": false,
    "ExecuteTime": {
     "end_time": "2023-12-19T23:29:02.962330800Z",
     "start_time": "2023-12-19T23:29:02.945820500Z"
    }
   },
   "id": "e7fbdb0bc2e6f0e2"
  },
  {
   "cell_type": "code",
   "execution_count": 50,
   "outputs": [
    {
     "name": "stderr",
     "output_type": "stream",
     "text": [
      "C:\\Users\\john\\AppData\\Local\\Temp\\ipykernel_12284\\1396770852.py:22: UserWarning: set_ticklabels() should only be used with a fixed number of ticks, i.e. after set_ticks() or using a FixedLocator.\n",
      "  ax.set_xticklabels([''] + context, fontdict=fontdict, rotation=90)\n",
      "C:\\Users\\john\\AppData\\Local\\Temp\\ipykernel_12284\\1396770852.py:23: UserWarning: set_ticklabels() should only be used with a fixed number of ticks, i.e. after set_ticks() or using a FixedLocator.\n",
      "  ax.set_yticklabels([''] + output, fontdict=fontdict)\n"
     ]
    },
    {
     "data": {
      "text/plain": "<Figure size 1000x1000 with 1 Axes>",
      "image/png": "[encoded data removed]"
     },
     "metadata": {},
     "output_type": "display_data"
    }
   ],
   "source": [
    "model.plot_attention('¿Todavía está en casa?') # Are you still home"
   ],
   "metadata": {
    "collapsed": false,
    "ExecuteTime": {
     "end_time": "2023-12-19T23:29:09.687949900Z",
     "start_time": "2023-12-19T23:29:09.005747700Z"
    }
   },
   "id": "b7888162fc07e072"
  },
  {
   "cell_type": "code",
   "execution_count": 51,
   "outputs": [
    {
     "name": "stderr",
     "output_type": "stream",
     "text": [
      "C:\\Users\\john\\AppData\\Local\\Temp\\ipykernel_12284\\1396770852.py:22: UserWarning: set_ticklabels() should only be used with a fixed number of ticks, i.e. after set_ticks() or using a FixedLocator.\n",
      "  ax.set_xticklabels([''] + context, fontdict=fontdict, rotation=90)\n",
      "C:\\Users\\john\\AppData\\Local\\Temp\\ipykernel_12284\\1396770852.py:23: UserWarning: set_ticklabels() should only be used with a fixed number of ticks, i.e. after set_ticks() or using a FixedLocator.\n",
      "  ax.set_yticklabels([''] + output, fontdict=fontdict)\n"
     ]
    },
    {
     "name": "stdout",
     "output_type": "stream",
     "text": [
      "CPU times: total: 93.8 ms\n",
      "Wall time: 230 ms\n"
     ]
    },
    {
     "data": {
      "text/plain": "<Figure size 1000x1000 with 1 Axes>",
      "image/png": "[encoded data removed]"
     },
     "metadata": {},
     "output_type": "display_data"
    }
   ],
   "source": [
    "%%time\n",
    "# This is my life.\n",
    "model.plot_attention('Esta es mi vida.')"
   ],
   "metadata": {
    "collapsed": false,
    "ExecuteTime": {
     "end_time": "2023-12-19T23:29:28.393032600Z",
     "start_time": "2023-12-19T23:29:27.768785800Z"
    }
   },
   "id": "2797d41d6d209677"
  },
  {
   "cell_type": "code",
   "execution_count": 52,
   "outputs": [
    {
     "name": "stderr",
     "output_type": "stream",
     "text": [
      "C:\\Users\\john\\AppData\\Local\\Temp\\ipykernel_12284\\1396770852.py:22: UserWarning: set_ticklabels() should only be used with a fixed number of ticks, i.e. after set_ticks() or using a FixedLocator.\n",
      "  ax.set_xticklabels([''] + context, fontdict=fontdict, rotation=90)\n",
      "C:\\Users\\john\\AppData\\Local\\Temp\\ipykernel_12284\\1396770852.py:23: UserWarning: set_ticklabels() should only be used with a fixed number of ticks, i.e. after set_ticks() or using a FixedLocator.\n",
      "  ax.set_yticklabels([''] + output, fontdict=fontdict)\n"
     ]
    },
    {
     "name": "stdout",
     "output_type": "stream",
     "text": [
      "CPU times: total: 78.1 ms\n",
      "Wall time: 233 ms\n"
     ]
    },
    {
     "data": {
      "text/plain": "<Figure size 1000x1000 with 1 Axes>",
      "image/png": "[encoded data removed]"
     },
     "metadata": {},
     "output_type": "display_data"
    }
   ],
   "source": [
    "%%time\n",
    " # Try to find out.'\n",
    "model.plot_attention('Tratar de descubrir.')"
   ],
   "metadata": {
    "collapsed": false,
    "ExecuteTime": {
     "end_time": "2023-12-19T23:29:34.375471500Z",
     "start_time": "2023-12-19T23:29:33.865787700Z"
    }
   },
   "id": "229c9de53a1a67fa"
  },
  {
   "cell_type": "code",
   "execution_count": null,
   "outputs": [],
   "source": [],
   "metadata": {
    "collapsed": false
   },
   "id": "628010540af59de2"
  }
 ],
 "metadata": {
  "kernelspec": {
   "display_name": "Python 3",
   "language": "python",
   "name": "python3"
  },
  "language_info": {
   "codemirror_mode": {
    "name": "ipython",
    "version": 2
   },
   "file_extension": ".py",
   "mimetype": "text/x-python",
   "name": "python",
   "nbconvert_exporter": "python",
   "pygments_lexer": "ipython2",
   "version": "2.7.6"
  }
 },
 "nbformat": 4,
 "nbformat_minor": 5
}
